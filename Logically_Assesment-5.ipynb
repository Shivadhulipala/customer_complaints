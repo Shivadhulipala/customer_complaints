{
  "nbformat": 4,
  "nbformat_minor": 5,
  "metadata": {
    "accelerator": "TPU",
    "colab": {
      "name": "Logically Assesment.ipynb",
      "provenance": [],
      "collapsed_sections": []
    },
    "kernelspec": {
      "display_name": "Python 3",
      "language": "python",
      "name": "python3"
    },
    "language_info": {
      "codemirror_mode": {
        "name": "ipython",
        "version": 3
      },
      "file_extension": ".py",
      "mimetype": "text/x-python",
      "name": "python",
      "nbconvert_exporter": "python",
      "pygments_lexer": "ipython3",
      "version": "3.8.8"
    }
  },
  "cells": [
    {
      "cell_type": "markdown",
      "metadata": {
        "id": "1d539282"
      },
      "source": [
        "## Problem Statement: Predict the Product based on the complaints made by the customer."
      ],
      "id": "1d539282"
    },
    {
      "cell_type": "markdown",
      "metadata": {
        "id": "336dd367"
      },
      "source": [
        "### Installing the necessary Libraries: "
      ],
      "id": "336dd367"
    },
    {
      "cell_type": "code",
      "metadata": {
        "colab": {
          "base_uri": "https://localhost:8080/"
        },
        "id": "hX9fZCjSJavz",
        "outputId": "52707d24-0501-436d-9e0d-a25d7d608710"
      },
      "source": [
        "# !pip install -U -q PyDrive\n",
        "# !pip install nltk\n"
      ],
      "id": "hX9fZCjSJavz",
      "execution_count": null,
      "outputs": [
        {
          "name": "stdout",
          "output_type": "stream",
          "text": [
            "Requirement already satisfied: nltk in /usr/local/lib/python3.7/dist-packages (3.2.5)\n",
            "Requirement already satisfied: six in /usr/local/lib/python3.7/dist-packages (from nltk) (1.15.0)\n"
          ]
        }
      ]
    },
    {
      "cell_type": "markdown",
      "metadata": {
        "id": "cufNVGIrVgxr"
      },
      "source": [
        "### Importing the necessary Libraries:"
      ],
      "id": "cufNVGIrVgxr"
    },
    {
      "cell_type": "code",
      "metadata": {
        "colab": {
          "base_uri": "https://localhost:8080/",
          "height": 51
        },
        "id": "7e675630",
        "outputId": "835f2390-cbc6-4aaf-c1da-6689dcac4d29"
      },
      "source": [
        "#Basic libraries\n",
        "import pandas as pd\n",
        "import numpy as np\n",
        "from numpy import mean\n",
        "from numpy import std\n",
        "import itertools\n",
        "import matplotlib.pyplot as plt\n",
        "import warnings\n",
        "warnings.filterwarnings('ignore')\n",
        "from pydrive.auth import GoogleAuth\n",
        "from pydrive.drive import GoogleDrive\n",
        "from google.colab import auth\n",
        "from oauth2client.client import GoogleCredentials\n",
        "\n",
        "\n",
        "\n",
        "\n",
        "#Visualization libraries\n",
        "import matplotlib.pyplot as plt \n",
        "from matplotlib import rcParams\n",
        "import seaborn as sns\n",
        "from textblob import TextBlob\n",
        "from plotly import tools\n",
        "import plotly.graph_objs as go\n",
        "from plotly.offline import iplot\n",
        "%matplotlib inline\n",
        "plt.rcParams['figure.figsize'] = [10, 5]\n",
        "import cufflinks as cf\n",
        "cf.go_offline()\n",
        "cf.set_config_file(offline=False, world_readable=True)\n",
        "\n",
        "\n",
        "#NLTK libraries\n",
        "import nltk\n",
        "import re\n",
        "import string\n",
        "from nltk.corpus import stopwords\n",
        "from wordcloud import WordCloud,STOPWORDS\n",
        "from nltk.stem.porter import PorterStemmer\n",
        "from nltk.tokenize import WordPunctTokenizer\n",
        "from sklearn.feature_extraction.text import TfidfVectorizer\n",
        "from sklearn.feature_extraction.text import CountVectorizer\n",
        "from sklearn.preprocessing import LabelEncoder\n",
        "ps = PorterStemmer()\n",
        "\n",
        "\n",
        "\n",
        "\n",
        "# Machine Learning libraries\n",
        "import sklearn \n",
        "from sklearn.model_selection import StratifiedKFold\n",
        "from sklearn.model_selection import cross_val_score\n",
        "from sklearn.naive_bayes import MultinomialNB\n",
        "from sklearn.linear_model import LogisticRegression\n",
        "from sklearn.ensemble import RandomForestClassifier\n",
        "from sklearn.neighbors import KNeighborsClassifier\n",
        "from sklearn.ensemble import GradientBoostingClassifier\n",
        "cv = StratifiedKFold(n_splits=15, random_state=1, shuffle=True)\n",
        "nb = MultinomialNB()\n",
        "LR = LogisticRegression(multi_class=\"multinomial\")\n",
        "RF = RandomForestClassifier()\n",
        "KNN = KNeighborsClassifier()\n",
        "GB = GradientBoostingClassifier()\n",
        "\n",
        "\n",
        "\n",
        "\n",
        " \n",
        "\n",
        "#Classification Metrics libraries\n",
        "from sklearn import metrics\n",
        "from sklearn.metrics import accuracy_score, precision_score, recall_score, f1_score\n",
        "from sklearn.metrics import classification_report\n",
        "from sklearn.model_selection import cross_val_score\n",
        "from sklearn.metrics import roc_auc_score\n",
        "from sklearn.metrics import roc_curve\n",
        "from sklearn.metrics import confusion_matrix\n",
        "from sklearn.metrics import accuracy_score\n",
        "\n",
        "#Miscellanous libraries\n",
        "from collections import Counter\n",
        "\n",
        "#Ignore warnings\n",
        "import warnings\n",
        "warnings.filterwarnings('ignore')\n",
        "\n",
        "\n",
        "nltk.download('stopwords')\n",
        "\n",
        "\n",
        "## Deployment libraries\n",
        "import pickle\n"
      ],
      "id": "7e675630",
      "execution_count": 2,
      "outputs": [
        {
          "output_type": "display_data",
          "data": {
            "text/html": [
              "        <script type=\"text/javascript\">\n",
              "        window.PlotlyConfig = {MathJaxConfig: 'local'};\n",
              "        if (window.MathJax) {MathJax.Hub.Config({SVG: {font: \"STIX-Web\"}});}\n",
              "        if (typeof require !== 'undefined') {\n",
              "        require.undef(\"plotly\");\n",
              "        requirejs.config({\n",
              "            paths: {\n",
              "                'plotly': ['https://cdn.plot.ly/plotly-latest.min']\n",
              "            }\n",
              "        });\n",
              "        require(['plotly'], function(Plotly) {\n",
              "            window._Plotly = Plotly;\n",
              "        });\n",
              "        }\n",
              "        </script>\n",
              "        "
            ]
          },
          "metadata": {}
        },
        {
          "output_type": "stream",
          "name": "stdout",
          "text": [
            "[nltk_data] Downloading package stopwords to /root/nltk_data...\n",
            "[nltk_data]   Unzipping corpora/stopwords.zip.\n"
          ]
        }
      ]
    },
    {
      "cell_type": "markdown",
      "metadata": {
        "id": "noq9GauVdZxa"
      },
      "source": [
        "### Authenticating the google drive folder:"
      ],
      "id": "noq9GauVdZxa"
    },
    {
      "cell_type": "code",
      "metadata": {
        "id": "6BN_VEfjJ6XV"
      },
      "source": [
        "# auth.authenticate_user()\n",
        "# gauth = GoogleAuth()\n",
        "# gauth.credentials = GoogleCredentials.get_application_default()\n",
        "# drive = GoogleDrive(gauth)"
      ],
      "id": "6BN_VEfjJ6XV",
      "execution_count": null,
      "outputs": []
    },
    {
      "cell_type": "code",
      "metadata": {
        "id": "2tQH59eqKiMf"
      },
      "source": [
        "# # https://drive.google.com/file/d/1A9tUpNpbM4DPsnWZyI1bvgKoDkyeK7xS/view?usp=sharing\n",
        "# fileDownloaded = drive.CreateFile({'id':'1A9tUpNpbM4DPsnWZyI1bvgKoDkyeK7xS'})\n",
        "# fileDownloaded.GetContentFile('complaints.csv')\n"
      ],
      "id": "2tQH59eqKiMf",
      "execution_count": null,
      "outputs": []
    },
    {
      "cell_type": "markdown",
      "metadata": {
        "id": "ac8ace48"
      },
      "source": [
        "### Read the dataset:"
      ],
      "id": "ac8ace48"
    },
    {
      "cell_type": "code",
      "metadata": {
        "id": "6b599a96"
      },
      "source": [
        "df=pd.read_csv('https://media.githubusercontent.com/media/Shivadhulipala/customer_complaints/master/complaints.csv')"
      ],
      "id": "6b599a96",
      "execution_count": 3,
      "outputs": []
    },
    {
      "cell_type": "code",
      "metadata": {
        "colab": {
          "base_uri": "https://localhost:8080/",
          "height": 700
        },
        "id": "57cd482f",
        "outputId": "c23600a8-c120-46ab-9f8e-542b6aa36a80"
      },
      "source": [
        "df.head()"
      ],
      "id": "57cd482f",
      "execution_count": 4,
      "outputs": [
        {
          "output_type": "execute_result",
          "data": {
            "text/html": [
              "<div>\n",
              "<style scoped>\n",
              "    .dataframe tbody tr th:only-of-type {\n",
              "        vertical-align: middle;\n",
              "    }\n",
              "\n",
              "    .dataframe tbody tr th {\n",
              "        vertical-align: top;\n",
              "    }\n",
              "\n",
              "    .dataframe thead th {\n",
              "        text-align: right;\n",
              "    }\n",
              "</style>\n",
              "<table border=\"1\" class=\"dataframe\">\n",
              "  <thead>\n",
              "    <tr style=\"text-align: right;\">\n",
              "      <th></th>\n",
              "      <th>Date received</th>\n",
              "      <th>Product</th>\n",
              "      <th>Sub-product</th>\n",
              "      <th>Issue</th>\n",
              "      <th>Sub-issue</th>\n",
              "      <th>Consumer complaint narrative</th>\n",
              "      <th>Company public response</th>\n",
              "      <th>Company</th>\n",
              "      <th>State</th>\n",
              "      <th>ZIP code</th>\n",
              "      <th>Tags</th>\n",
              "      <th>Consumer consent provided?</th>\n",
              "      <th>Submitted via</th>\n",
              "      <th>Date sent to company</th>\n",
              "      <th>Company response to consumer</th>\n",
              "      <th>Timely response?</th>\n",
              "      <th>Consumer disputed?</th>\n",
              "      <th>Complaint ID</th>\n",
              "    </tr>\n",
              "  </thead>\n",
              "  <tbody>\n",
              "    <tr>\n",
              "      <th>0</th>\n",
              "      <td>2019-06-13</td>\n",
              "      <td>Credit reporting, credit repair services, or o...</td>\n",
              "      <td>Credit reporting</td>\n",
              "      <td>Incorrect information on your report</td>\n",
              "      <td>Information belongs to someone else</td>\n",
              "      <td>NaN</td>\n",
              "      <td>NaN</td>\n",
              "      <td>CAPITAL ONE FINANCIAL CORPORATION</td>\n",
              "      <td>PA</td>\n",
              "      <td>186XX</td>\n",
              "      <td>NaN</td>\n",
              "      <td>Consent not provided</td>\n",
              "      <td>Web</td>\n",
              "      <td>2019-06-13</td>\n",
              "      <td>Closed with explanation</td>\n",
              "      <td>Yes</td>\n",
              "      <td>NaN</td>\n",
              "      <td>3274605</td>\n",
              "    </tr>\n",
              "    <tr>\n",
              "      <th>1</th>\n",
              "      <td>2019-11-01</td>\n",
              "      <td>Vehicle loan or lease</td>\n",
              "      <td>Loan</td>\n",
              "      <td>Struggling to pay your loan</td>\n",
              "      <td>Denied request to lower payments</td>\n",
              "      <td>I contacted Ally on Friday XX/XX/XXXX after fa...</td>\n",
              "      <td>Company has responded to the consumer and the ...</td>\n",
              "      <td>ALLY FINANCIAL INC.</td>\n",
              "      <td>NJ</td>\n",
              "      <td>088XX</td>\n",
              "      <td>NaN</td>\n",
              "      <td>Consent provided</td>\n",
              "      <td>Web</td>\n",
              "      <td>2019-11-01</td>\n",
              "      <td>Closed with explanation</td>\n",
              "      <td>Yes</td>\n",
              "      <td>NaN</td>\n",
              "      <td>3425257</td>\n",
              "    </tr>\n",
              "    <tr>\n",
              "      <th>2</th>\n",
              "      <td>2019-04-01</td>\n",
              "      <td>Credit reporting, credit repair services, or o...</td>\n",
              "      <td>Credit reporting</td>\n",
              "      <td>Incorrect information on your report</td>\n",
              "      <td>Account status incorrect</td>\n",
              "      <td>NaN</td>\n",
              "      <td>Company has responded to the consumer and the ...</td>\n",
              "      <td>TRANSUNION INTERMEDIATE HOLDINGS, INC.</td>\n",
              "      <td>PA</td>\n",
              "      <td>19067</td>\n",
              "      <td>NaN</td>\n",
              "      <td>Consent not provided</td>\n",
              "      <td>Web</td>\n",
              "      <td>2019-04-01</td>\n",
              "      <td>Closed with explanation</td>\n",
              "      <td>Yes</td>\n",
              "      <td>NaN</td>\n",
              "      <td>3198225</td>\n",
              "    </tr>\n",
              "    <tr>\n",
              "      <th>3</th>\n",
              "      <td>2019-08-24</td>\n",
              "      <td>Credit card or prepaid card</td>\n",
              "      <td>General-purpose credit card or charge card</td>\n",
              "      <td>Other features, terms, or problems</td>\n",
              "      <td>Privacy issues</td>\n",
              "      <td>on or about XX/XX/2019 Capital one failure to ...</td>\n",
              "      <td>NaN</td>\n",
              "      <td>CAPITAL ONE FINANCIAL CORPORATION</td>\n",
              "      <td>CO</td>\n",
              "      <td>802XX</td>\n",
              "      <td>NaN</td>\n",
              "      <td>Consent provided</td>\n",
              "      <td>Web</td>\n",
              "      <td>2019-08-24</td>\n",
              "      <td>Closed with explanation</td>\n",
              "      <td>Yes</td>\n",
              "      <td>NaN</td>\n",
              "      <td>3352752</td>\n",
              "    </tr>\n",
              "    <tr>\n",
              "      <th>4</th>\n",
              "      <td>2021-08-31</td>\n",
              "      <td>Debt collection</td>\n",
              "      <td>Other debt</td>\n",
              "      <td>Attempts to collect debt not owed</td>\n",
              "      <td>Debt is not yours</td>\n",
              "      <td>I am filing a complaint against CONVERGENT OUT...</td>\n",
              "      <td>Company has responded to the consumer and the ...</td>\n",
              "      <td>Convergent Resources, Inc.</td>\n",
              "      <td>TX</td>\n",
              "      <td>765XX</td>\n",
              "      <td>Servicemember</td>\n",
              "      <td>Consent provided</td>\n",
              "      <td>Web</td>\n",
              "      <td>2021-08-31</td>\n",
              "      <td>Closed with explanation</td>\n",
              "      <td>Yes</td>\n",
              "      <td>NaN</td>\n",
              "      <td>4677754</td>\n",
              "    </tr>\n",
              "  </tbody>\n",
              "</table>\n",
              "</div>"
            ],
            "text/plain": [
              "  Date received  ... Complaint ID\n",
              "0    2019-06-13  ...      3274605\n",
              "1    2019-11-01  ...      3425257\n",
              "2    2019-04-01  ...      3198225\n",
              "3    2019-08-24  ...      3352752\n",
              "4    2021-08-31  ...      4677754\n",
              "\n",
              "[5 rows x 18 columns]"
            ]
          },
          "metadata": {},
          "execution_count": 4
        }
      ]
    },
    {
      "cell_type": "markdown",
      "metadata": {
        "id": "f775d004"
      },
      "source": [
        "> **Insights:**\n",
        "\n",
        "*   From the dataset we understand that the dataset is a banking complaints dataset of United states region where in the cases of disputes between the bank and the customer, the complaints have been filed.\n",
        "\n",
        "* we understand that the customers who have not provided thier consent through the web is a Nan value which is being displayed. Hence we cannot impute any missing values in this case.\n",
        "\n",
        "\n"
      ],
      "id": "f775d004"
    },
    {
      "cell_type": "code",
      "metadata": {
        "colab": {
          "base_uri": "https://localhost:8080/"
        },
        "id": "4d148908",
        "outputId": "85f297f6-81d0-4708-9041-cb040b71acc7"
      },
      "source": [
        "df.shape"
      ],
      "id": "4d148908",
      "execution_count": null,
      "outputs": [
        {
          "data": {
            "text/plain": [
              "(2318996, 18)"
            ]
          },
          "execution_count": 7,
          "metadata": {},
          "output_type": "execute_result"
        }
      ]
    },
    {
      "cell_type": "code",
      "metadata": {
        "colab": {
          "base_uri": "https://localhost:8080/"
        },
        "id": "16aa0057",
        "outputId": "fa00374b-6fe4-40f7-c46e-6c0050907c6d"
      },
      "source": [
        "df.isnull().sum()"
      ],
      "id": "16aa0057",
      "execution_count": null,
      "outputs": [
        {
          "data": {
            "text/plain": [
              "Date received                         0\n",
              "Product                               0\n",
              "Sub-product                      235164\n",
              "Issue                                 0\n",
              "Sub-issue                        634405\n",
              "Consumer complaint narrative    1513382\n",
              "Company public response         1364115\n",
              "Company                               0\n",
              "State                             40267\n",
              "ZIP code                         223423\n",
              "Tags                            2035063\n",
              "Consumer consent provided?       725101\n",
              "Submitted via                         0\n",
              "Date sent to company                  0\n",
              "Company response to consumer          1\n",
              "Timely response?                      0\n",
              "Consumer disputed?              1550537\n",
              "Complaint ID                          0\n",
              "dtype: int64"
            ]
          },
          "execution_count": 8,
          "metadata": {},
          "output_type": "execute_result"
        }
      ]
    },
    {
      "cell_type": "code",
      "metadata": {
        "id": "14819220"
      },
      "source": [
        "# df['Consumer complaint narrative'].replace(np.nan,'No Data',inplace=True)\n",
        "df = df[df['Consumer complaint narrative'].notna()]"
      ],
      "id": "14819220",
      "execution_count": null,
      "outputs": []
    },
    {
      "cell_type": "markdown",
      "metadata": {
        "id": "9-omo7CUgixS"
      },
      "source": [
        "\n",
        "\n",
        "> Instead of removing all the null values, lets discard the null values in this case they cannot be imputed as it is a sentenced text. We're just discarding the null values and taking the values wich are not null for \"Consumer complaint narrative\".\n",
        "\n",
        "\n",
        "\n",
        "\n"
      ],
      "id": "9-omo7CUgixS"
    },
    {
      "cell_type": "code",
      "metadata": {
        "colab": {
          "base_uri": "https://localhost:8080/"
        },
        "id": "fcd4f8d7",
        "outputId": "3e46303f-33b7-40ff-a622-dfdbfd053cf2"
      },
      "source": [
        "df.isnull().sum()"
      ],
      "id": "fcd4f8d7",
      "execution_count": null,
      "outputs": [
        {
          "data": {
            "text/plain": [
              "Date received                        0\n",
              "Product                              0\n",
              "Sub-product                      52172\n",
              "Issue                                0\n",
              "Sub-issue                       168189\n",
              "Consumer complaint narrative         0\n",
              "Company public response         414045\n",
              "Company                              0\n",
              "State                             3545\n",
              "ZIP code                        176759\n",
              "Tags                            676578\n",
              "Consumer consent provided?           0\n",
              "Submitted via                        0\n",
              "Date sent to company                 0\n",
              "Company response to consumer         1\n",
              "Timely response?                     0\n",
              "Consumer disputed?              641552\n",
              "Complaint ID                         0\n",
              "dtype: int64"
            ]
          },
          "execution_count": 10,
          "metadata": {},
          "output_type": "execute_result"
        }
      ]
    },
    {
      "cell_type": "code",
      "metadata": {
        "colab": {
          "base_uri": "https://localhost:8080/"
        },
        "id": "74f01bbc",
        "scrolled": true,
        "outputId": "66c938d6-6e1a-42b1-d2bd-0ff6a057458b"
      },
      "source": [
        "df['Consumer complaint narrative'].shape"
      ],
      "id": "74f01bbc",
      "execution_count": null,
      "outputs": [
        {
          "data": {
            "text/plain": [
              "(805614,)"
            ]
          },
          "execution_count": 11,
          "metadata": {},
          "output_type": "execute_result"
        }
      ]
    },
    {
      "cell_type": "markdown",
      "metadata": {
        "id": "Ro_YQyvWhIYn"
      },
      "source": [
        "### Dividing the dataset into Training and test set by random sampling:"
      ],
      "id": "Ro_YQyvWhIYn"
    },
    {
      "cell_type": "code",
      "metadata": {
        "id": "5T4mgCDS-f4T"
      },
      "source": [
        "train_data = df.sample(frac=.75)\n",
        "train_data.reset_index(inplace=True)\n",
        "train_data = train_data[['Consumer complaint narrative','Product']]\n",
        "test_data = df.sample(frac=.25)"
      ],
      "id": "5T4mgCDS-f4T",
      "execution_count": null,
      "outputs": []
    },
    {
      "cell_type": "code",
      "metadata": {
        "colab": {
          "base_uri": "https://localhost:8080/",
          "height": 419
        },
        "id": "cJ4929YA-7i1",
        "outputId": "937e45fe-541e-4d6a-8671-8485d40c98eb"
      },
      "source": [
        "train_data"
      ],
      "id": "cJ4929YA-7i1",
      "execution_count": null,
      "outputs": [
        {
          "data": {
            "text/html": [
              "<div>\n",
              "<style scoped>\n",
              "    .dataframe tbody tr th:only-of-type {\n",
              "        vertical-align: middle;\n",
              "    }\n",
              "\n",
              "    .dataframe tbody tr th {\n",
              "        vertical-align: top;\n",
              "    }\n",
              "\n",
              "    .dataframe thead th {\n",
              "        text-align: right;\n",
              "    }\n",
              "</style>\n",
              "<table border=\"1\" class=\"dataframe\">\n",
              "  <thead>\n",
              "    <tr style=\"text-align: right;\">\n",
              "      <th></th>\n",
              "      <th>Consumer complaint narrative</th>\n",
              "      <th>Product</th>\n",
              "    </tr>\n",
              "  </thead>\n",
              "  <tbody>\n",
              "    <tr>\n",
              "      <th>0</th>\n",
              "      <td>My complaint is against Bank of America. \\n\\nB...</td>\n",
              "      <td>Checking or savings account</td>\n",
              "    </tr>\n",
              "    <tr>\n",
              "      <th>1</th>\n",
              "      <td>Tax liens have been released.</td>\n",
              "      <td>Credit reporting</td>\n",
              "    </tr>\n",
              "    <tr>\n",
              "      <th>2</th>\n",
              "      <td>This has been an ongoing issue since 2018. My ...</td>\n",
              "      <td>Credit reporting, credit repair services, or o...</td>\n",
              "    </tr>\n",
              "    <tr>\n",
              "      <th>3</th>\n",
              "      <td>Received call on cell phone about a non-existe...</td>\n",
              "      <td>Debt collection</td>\n",
              "    </tr>\n",
              "    <tr>\n",
              "      <th>4</th>\n",
              "      <td>My credit card balance is {$0.00} on my XXXXXX...</td>\n",
              "      <td>Credit reporting, credit repair services, or o...</td>\n",
              "    </tr>\n",
              "    <tr>\n",
              "      <th>...</th>\n",
              "      <td>...</td>\n",
              "      <td>...</td>\n",
              "    </tr>\n",
              "    <tr>\n",
              "      <th>604205</th>\n",
              "      <td>Was XXXX contacted by a strange number XXXX XX...</td>\n",
              "      <td>Debt collection</td>\n",
              "    </tr>\n",
              "    <tr>\n",
              "      <th>604206</th>\n",
              "      <td>I requested the method of there investigation ...</td>\n",
              "      <td>Credit reporting, credit repair services, or o...</td>\n",
              "    </tr>\n",
              "    <tr>\n",
              "      <th>604207</th>\n",
              "      <td>XXXX HAS INDUCED ME TO APPLY TO WELLS FARGO UN...</td>\n",
              "      <td>Credit reporting, credit repair services, or o...</td>\n",
              "    </tr>\n",
              "    <tr>\n",
              "      <th>604208</th>\n",
              "      <td>I have multiple inquiries on my credit that I ...</td>\n",
              "      <td>Credit reporting, credit repair services, or o...</td>\n",
              "    </tr>\n",
              "    <tr>\n",
              "      <th>604209</th>\n",
              "      <td>Hi, I went in for my annual XXXX on XX/XX/XXXX...</td>\n",
              "      <td>Debt collection</td>\n",
              "    </tr>\n",
              "  </tbody>\n",
              "</table>\n",
              "<p>604210 rows × 2 columns</p>\n",
              "</div>"
            ],
            "text/plain": [
              "                             Consumer complaint narrative                                            Product\n",
              "0       My complaint is against Bank of America. \\n\\nB...                        Checking or savings account\n",
              "1                           Tax liens have been released.                                   Credit reporting\n",
              "2       This has been an ongoing issue since 2018. My ...  Credit reporting, credit repair services, or o...\n",
              "3       Received call on cell phone about a non-existe...                                    Debt collection\n",
              "4       My credit card balance is {$0.00} on my XXXXXX...  Credit reporting, credit repair services, or o...\n",
              "...                                                   ...                                                ...\n",
              "604205  Was XXXX contacted by a strange number XXXX XX...                                    Debt collection\n",
              "604206  I requested the method of there investigation ...  Credit reporting, credit repair services, or o...\n",
              "604207  XXXX HAS INDUCED ME TO APPLY TO WELLS FARGO UN...  Credit reporting, credit repair services, or o...\n",
              "604208  I have multiple inquiries on my credit that I ...  Credit reporting, credit repair services, or o...\n",
              "604209  Hi, I went in for my annual XXXX on XX/XX/XXXX...                                    Debt collection\n",
              "\n",
              "[604210 rows x 2 columns]"
            ]
          },
          "execution_count": 13,
          "metadata": {},
          "output_type": "execute_result"
        }
      ]
    },
    {
      "cell_type": "markdown",
      "metadata": {
        "id": "6004f6be"
      },
      "source": [
        "### Lets try to understand the complaints of the customers:"
      ],
      "id": "6004f6be"
    },
    {
      "cell_type": "code",
      "metadata": {
        "id": "356d70fc"
      },
      "source": [
        "pd.set_option('display.max_colwidth',-1)"
      ],
      "id": "356d70fc",
      "execution_count": null,
      "outputs": []
    },
    {
      "cell_type": "code",
      "metadata": {
        "colab": {
          "base_uri": "https://localhost:8080/",
          "height": 697
        },
        "id": "c2324791",
        "scrolled": false,
        "outputId": "3d4772e5-0f86-4c2b-c31f-e7e57f6b942a"
      },
      "source": [
        "train_data.head()"
      ],
      "id": "c2324791",
      "execution_count": null,
      "outputs": [
        {
          "data": {
            "text/html": [
              "<div>\n",
              "<style scoped>\n",
              "    .dataframe tbody tr th:only-of-type {\n",
              "        vertical-align: middle;\n",
              "    }\n",
              "\n",
              "    .dataframe tbody tr th {\n",
              "        vertical-align: top;\n",
              "    }\n",
              "\n",
              "    .dataframe thead th {\n",
              "        text-align: right;\n",
              "    }\n",
              "</style>\n",
              "<table border=\"1\" class=\"dataframe\">\n",
              "  <thead>\n",
              "    <tr style=\"text-align: right;\">\n",
              "      <th></th>\n",
              "      <th>Consumer complaint narrative</th>\n",
              "      <th>Product</th>\n",
              "    </tr>\n",
              "  </thead>\n",
              "  <tbody>\n",
              "    <tr>\n",
              "      <th>0</th>\n",
              "      <td>My complaint is against Bank of America. \\n\\nBank of America was making monthly automatic payments to XXXX   XXXX XXXX from my BOA checking account. In late XXXX, the XXXX XXXX XXXX was paid in full and the account closed. Inadvertently, Bank of America made one extra payment to XXXX   XXXX for {$2600.00} on XX/XX/2020, after the XXXX XXXX XXXX   account was closed. I contacted both XXXX XXXXXXXX and Bank of America as soon as I discovered the debit from my Bank of America account. Both institutions assured me that the overpayment would by credited back to my Bank of America account. \\n\\nAfter several weeks of not seeing the refund post, I initiated a case with Bank of America, first trying their telephone support and later through their messaging center. \\n\\nXXXX XXXXXXXX sent a letter to Bank of America on XX/XX/XXXX, stating, \" Enclosed please find check number XXXX dated XX/XX/2020 in the amount of {$2600.00} ... '' I am attaching the complete letter below. \\n\\nOn XX/XX/2020, I received a message from Bank of America stating, \" This credit will post to your account within 5 to 7 business days ... '' I am attaching the complete message below. \\n\\nAfter seven business days the credit still had not posted. \\n\\nOn XX/XX/2020, I received another message from Bank of America stating, \" This credit will post to your account within 5 to 7 business days ... '' I am attaching the complete message below. \\n\\nI am attaching all written correspondence I have had with XXXX XXXXXXXX and Bank of America. \\n\\nOn XX/XX/2020, I went to the Bank of America XXXX office at XXXX XXXX XXXX XXXX XXXX XXXX XXXX, MD XXXX. I spoke at great length with the branch manager, XXXX XXXX. He assured me that the matter would be rectified by XX/XX/2020. Mr. XXXX is not taking or returning my telephone calls at this time. \\n\\nIn addition, today I discovered that every message concerning this case in my Bank of America account online web page has been mysteriously deleted. Fortunately, I made copies before these disappeared.</td>\n",
              "      <td>Checking or savings account</td>\n",
              "    </tr>\n",
              "    <tr>\n",
              "      <th>1</th>\n",
              "      <td>Tax liens have been released.</td>\n",
              "      <td>Credit reporting</td>\n",
              "    </tr>\n",
              "    <tr>\n",
              "      <th>2</th>\n",
              "      <td>This has been an ongoing issue since 2018. My next step is to file a lawsuit against Experian. Experian is reporting a balance of {$12000.00} with a company called XXXX  XXXX XXXX. I received the official statement from the original creditor which is listing a balance on {$3500.00}. These two companies obviously can not have two completely different balances. I have sent multiple disputes that have came back inaccurately as verified.This is a violation of my consumer rights. you are alleging the negative claims still yet deficit of proof of truth, correctness, completeness, timeliness, and or else wise adequate COMPLIANCE to all laws and the Metro 2 data field formatted reporting standards, therefore lawfully you MUST ERADICATE any and all adverse remarks :</td>\n",
              "      <td>Credit reporting, credit repair services, or other personal consumer reports</td>\n",
              "    </tr>\n",
              "    <tr>\n",
              "      <th>3</th>\n",
              "      <td>Received call on cell phone about a non-existent debt. Phone is registered on federal Do Not Call list. Message sounded like a scam. There was NO phone message other than a claimed debt which was NOT described. The number appears to be identified on XXXX XXXX XXXX AND XXXX as a SCAM. TSC is identified as the entity originating the call. NO documents have been received or referred to.</td>\n",
              "      <td>Debt collection</td>\n",
              "    </tr>\n",
              "    <tr>\n",
              "      <th>4</th>\n",
              "      <td>My credit card balance is {$0.00} on my XXXXXXXX XXXX XXXX and all three bureaus keep showing it as {$10.00} over the limit. Then they won't let me dispute the balance.</td>\n",
              "      <td>Credit reporting, credit repair services, or other personal consumer reports</td>\n",
              "    </tr>\n",
              "  </tbody>\n",
              "</table>\n",
              "</div>"
            ],
            "text/plain": [
              "                                                                                                                                                                                                                                                                                                                                                                                                                                                                                                                                                                                                                                                                                                                                                                                                                                                                                                                                                                                                                                                                                                                                                                                                                                                                                                                                                                                                                                                                                                                                                                                                                                                                                                                                                                                                                                                                                                                                                                                                                                                                                Consumer complaint narrative                                                                       Product\n",
              "0  My complaint is against Bank of America. \\n\\nBank of America was making monthly automatic payments to XXXX   XXXX XXXX from my BOA checking account. In late XXXX, the XXXX XXXX XXXX was paid in full and the account closed. Inadvertently, Bank of America made one extra payment to XXXX   XXXX for {$2600.00} on XX/XX/2020, after the XXXX XXXX XXXX   account was closed. I contacted both XXXX XXXXXXXX and Bank of America as soon as I discovered the debit from my Bank of America account. Both institutions assured me that the overpayment would by credited back to my Bank of America account. \\n\\nAfter several weeks of not seeing the refund post, I initiated a case with Bank of America, first trying their telephone support and later through their messaging center. \\n\\nXXXX XXXXXXXX sent a letter to Bank of America on XX/XX/XXXX, stating, \" Enclosed please find check number XXXX dated XX/XX/2020 in the amount of {$2600.00} ... '' I am attaching the complete letter below. \\n\\nOn XX/XX/2020, I received a message from Bank of America stating, \" This credit will post to your account within 5 to 7 business days ... '' I am attaching the complete message below. \\n\\nAfter seven business days the credit still had not posted. \\n\\nOn XX/XX/2020, I received another message from Bank of America stating, \" This credit will post to your account within 5 to 7 business days ... '' I am attaching the complete message below. \\n\\nI am attaching all written correspondence I have had with XXXX XXXXXXXX and Bank of America. \\n\\nOn XX/XX/2020, I went to the Bank of America XXXX office at XXXX XXXX XXXX XXXX XXXX XXXX XXXX, MD XXXX. I spoke at great length with the branch manager, XXXX XXXX. He assured me that the matter would be rectified by XX/XX/2020. Mr. XXXX is not taking or returning my telephone calls at this time. \\n\\nIn addition, today I discovered that every message concerning this case in my Bank of America account online web page has been mysteriously deleted. Fortunately, I made copies before these disappeared.  Checking or savings account                                                 \n",
              "1  Tax liens have been released.                                                                                                                                                                                                                                                                                                                                                                                                                                                                                                                                                                                                                                                                                                                                                                                                                                                                                                                                                                                                                                                                                                                                                                                                                                                                                                                                                                                                                                                                                                                                                                                                                                                                                                                                                                                                                                                                                                                                                                                                                                                                              Credit reporting                                                            \n",
              "2  This has been an ongoing issue since 2018. My next step is to file a lawsuit against Experian. Experian is reporting a balance of {$12000.00} with a company called XXXX  XXXX XXXX. I received the official statement from the original creditor which is listing a balance on {$3500.00}. These two companies obviously can not have two completely different balances. I have sent multiple disputes that have came back inaccurately as verified.This is a violation of my consumer rights. you are alleging the negative claims still yet deficit of proof of truth, correctness, completeness, timeliness, and or else wise adequate COMPLIANCE to all laws and the Metro 2 data field formatted reporting standards, therefore lawfully you MUST ERADICATE any and all adverse remarks :                                                                                                                                                                                                                                                                                                                                                                                                                                                                                                                                                                                                                                                                                                                                                                                                                                                                                                                                                                                                                                                                                                                                                                                                                                                                                                            Credit reporting, credit repair services, or other personal consumer reports\n",
              "3  Received call on cell phone about a non-existent debt. Phone is registered on federal Do Not Call list. Message sounded like a scam. There was NO phone message other than a claimed debt which was NOT described. The number appears to be identified on XXXX XXXX XXXX AND XXXX as a SCAM. TSC is identified as the entity originating the call. NO documents have been received or referred to.                                                                                                                                                                                                                                                                                                                                                                                                                                                                                                                                                                                                                                                                                                                                                                                                                                                                                                                                                                                                                                                                                                                                                                                                                                                                                                                                                                                                                                                                                                                                                                                                                                                                                                         Debt collection                                                             \n",
              "4  My credit card balance is {$0.00} on my XXXXXXXX XXXX XXXX and all three bureaus keep showing it as {$10.00} over the limit. Then they won't let me dispute the balance.                                                                                                                                                                                                                                                                                                                                                                                                                                                                                                                                                                                                                                                                                                                                                                                                                                                                                                                                                                                                                                                                                                                                                                                                                                                                                                                                                                                                                                                                                                                                                                                                                                                                                                                                                                                                                                                                                                                                   Credit reporting, credit repair services, or other personal consumer reports"
            ]
          },
          "execution_count": 15,
          "metadata": {},
          "output_type": "execute_result"
        }
      ]
    },
    {
      "cell_type": "code",
      "metadata": {
        "colab": {
          "base_uri": "https://localhost:8080/"
        },
        "id": "34b3f988",
        "outputId": "a4e00529-227c-4d56-fc90-5904b328a7c6"
      },
      "source": [
        "# Since we have understood the input data, now it is time to understand the distribution of the output column.\n",
        "df['Product'].value_counts()"
      ],
      "id": "34b3f988",
      "execution_count": null,
      "outputs": [
        {
          "data": {
            "text/plain": [
              "Credit reporting, credit repair services, or other personal consumer reports    314292\n",
              "Debt collection                                                                 156805\n",
              "Mortgage                                                                        84262 \n",
              "Credit card or prepaid card                                                     60466 \n",
              "Checking or savings account                                                     37178 \n",
              "Credit reporting                                                                31588 \n",
              "Student loan                                                                    29058 \n",
              "Credit card                                                                     18838 \n",
              "Money transfer, virtual currency, or money service                              18468 \n",
              "Vehicle loan or lease                                                           14943 \n",
              "Bank account or service                                                         14885 \n",
              "Payday loan, title loan, or personal loan                                       10360 \n",
              "Consumer Loan                                                                   9470  \n",
              "Payday loan                                                                     1746  \n",
              "Money transfers                                                                 1497  \n",
              "Prepaid card                                                                    1450  \n",
              "Other financial service                                                         292   \n",
              "Virtual currency                                                                16    \n",
              "Name: Product, dtype: int64"
            ]
          },
          "execution_count": 16,
          "metadata": {},
          "output_type": "execute_result"
        }
      ]
    },
    {
      "cell_type": "markdown",
      "metadata": {
        "id": "3a545bb8"
      },
      "source": [
        "> We're Making changes to the feature engineering column as we could find that the categories are misclassified. For example, there are 214370 complaints regarding the credit reporting,credit repair services, or other personal consumer reports and again there are 35182 for only credit reporting. So, we're grouping all the complaints into one."
      ],
      "id": "3a545bb8"
    },
    {
      "cell_type": "code",
      "metadata": {
        "id": "d6274ce4"
      },
      "source": [
        "train_data['Product'] = train_data['Product'].replace('Credit reporting','Credit reporting, credit repair services, or other personal consumer reports')"
      ],
      "id": "d6274ce4",
      "execution_count": null,
      "outputs": []
    },
    {
      "cell_type": "code",
      "metadata": {
        "id": "f6e7def5"
      },
      "source": [
        "train_data['Product'] = train_data['Product'].replace('Prepaid card','Credit card or prepaid card')"
      ],
      "id": "f6e7def5",
      "execution_count": null,
      "outputs": []
    },
    {
      "cell_type": "code",
      "metadata": {
        "id": "549ec356"
      },
      "source": [
        "train_data['Product'] = train_data['Product'].replace('Virtual currency','Money transfer, virtual currency, or money service')"
      ],
      "id": "549ec356",
      "execution_count": null,
      "outputs": []
    },
    {
      "cell_type": "code",
      "metadata": {
        "id": "bc5ed3cd"
      },
      "source": [
        "train_data['Product'] = train_data['Product'].replace('Money transfers','Money transfer, virtual currency, or money service')"
      ],
      "id": "bc5ed3cd",
      "execution_count": null,
      "outputs": []
    },
    {
      "cell_type": "code",
      "metadata": {
        "id": "b25fd650"
      },
      "source": [
        "train_data['Product'] = train_data['Product'].replace('Credit card','Credit card or prepaid card')"
      ],
      "id": "b25fd650",
      "execution_count": null,
      "outputs": []
    },
    {
      "cell_type": "code",
      "metadata": {
        "id": "c5fb83f0"
      },
      "source": [
        "train_data['Product'] = train_data['Product'].replace('Payday loan','Payday loan, title loan, or personal loan')"
      ],
      "id": "c5fb83f0",
      "execution_count": null,
      "outputs": []
    },
    {
      "cell_type": "code",
      "metadata": {
        "colab": {
          "base_uri": "https://localhost:8080/"
        },
        "id": "a98ff1a6",
        "outputId": "021647f9-4161-4ebb-9bd0-cd63f662f8f4"
      },
      "source": [
        "train_data['Product'].value_counts()"
      ],
      "id": "a98ff1a6",
      "execution_count": null,
      "outputs": [
        {
          "data": {
            "text/plain": [
              "Credit reporting, credit repair services, or other personal consumer reports    259409\n",
              "Debt collection                                                                 117885\n",
              "Mortgage                                                                        63262 \n",
              "Credit card or prepaid card                                                     60357 \n",
              "Checking or savings account                                                     27906 \n",
              "Student loan                                                                    21680 \n",
              "Money transfer, virtual currency, or money service                              15046 \n",
              "Vehicle loan or lease                                                           11185 \n",
              "Bank account or service                                                         11129 \n",
              "Payday loan, title loan, or personal loan                                       9052  \n",
              "Consumer Loan                                                                   7076  \n",
              "Other financial service                                                         223   \n",
              "Name: Product, dtype: int64"
            ]
          },
          "execution_count": 23,
          "metadata": {},
          "output_type": "execute_result"
        }
      ]
    },
    {
      "cell_type": "markdown",
      "metadata": {
        "id": "f5fb00bc"
      },
      "source": [
        "> From the data distribution we understand that the major complaints from the customers are Credit card complaints however, if we see personal loans there are very less complaints which the dataset indicates that the dataset is imbalanced. However, we can feed this current data to the model as it is and however, the under represented classes will not be modelled correctly. Inorder to overcome this, we assign weights to these classes."
      ],
      "id": "f5fb00bc"
    },
    {
      "cell_type": "code",
      "metadata": {
        "colab": {
          "base_uri": "https://localhost:8080/"
        },
        "id": "_hYR5x9vAGyp",
        "outputId": "f2c7d6b4-4c21-4b08-b2c3-d5126b558a39"
      },
      "source": [
        "print(train_data['Consumer complaint narrative'][1:6]) "
      ],
      "id": "_hYR5x9vAGyp",
      "execution_count": null,
      "outputs": [
        {
          "name": "stdout",
          "output_type": "stream",
          "text": [
            "1    Tax liens have been released.                                                                                                                                                                                                                                                                                                                                                                                                                                                                                                                                                                                                                                                                                                                                                                  \n",
            "2    This has been an ongoing issue since 2018. My next step is to file a lawsuit against Experian. Experian is reporting a balance of {$12000.00} with a company called XXXX  XXXX XXXX. I received the official statement from the original creditor which is listing a balance on {$3500.00}. These two companies obviously can not have two completely different balances. I have sent multiple disputes that have came back inaccurately as verified.This is a violation of my consumer rights. you are alleging the negative claims still yet deficit of proof of truth, correctness, completeness, timeliness, and or else wise adequate COMPLIANCE to all laws and the Metro 2 data field formatted reporting standards, therefore lawfully you MUST ERADICATE any and all adverse remarks :\n",
            "3    Received call on cell phone about a non-existent debt. Phone is registered on federal Do Not Call list. Message sounded like a scam. There was NO phone message other than a claimed debt which was NOT described. The number appears to be identified on XXXX XXXX XXXX AND XXXX as a SCAM. TSC is identified as the entity originating the call. NO documents have been received or referred to.                                                                                                                                                                                                                                                                                                                                                                                             \n",
            "4    My credit card balance is {$0.00} on my XXXXXXXX XXXX XXXX and all three bureaus keep showing it as {$10.00} over the limit. Then they won't let me dispute the balance.                                                                                                                                                                                                                                                                                                                                                                                                                                                                                                                                                                                                                       \n",
            "5    My payroll check was direct deposit to my rushcard and it 's not there talking about they doing a upgrade system I have bill that due and kids that I need to feed                                                                                                                                                                                                                                                                                                                                                                                                                                                                                                                                                                                                                             \n",
            "Name: Consumer complaint narrative, dtype: object\n"
          ]
        }
      ]
    },
    {
      "cell_type": "code",
      "metadata": {
        "colab": {
          "base_uri": "https://localhost:8080/"
        },
        "id": "JUco-zR2A5q6",
        "outputId": "0e127a30-d997-4b81-8af4-b6b589aeb019"
      },
      "source": [
        "print(re.sub(r'@+','',train_data['Consumer complaint narrative'][5]))"
      ],
      "id": "JUco-zR2A5q6",
      "execution_count": null,
      "outputs": [
        {
          "name": "stdout",
          "output_type": "stream",
          "text": [
            "My payroll check was direct deposit to my rushcard and it 's not there talking about they doing a upgrade system I have bill that due and kids that I need to feed\n"
          ]
        }
      ]
    },
    {
      "cell_type": "code",
      "metadata": {
        "colab": {
          "base_uri": "https://localhost:8080/"
        },
        "id": "PlYCiUXSB-oH",
        "outputId": "4366d9c2-fe2c-4723-dd58-d472e5ae2ac6"
      },
      "source": [
        "print(re.sub('http?://[A-Za-z0-9./]+','',train_data['Consumer complaint narrative'][10]))"
      ],
      "id": "PlYCiUXSB-oH",
      "execution_count": null,
      "outputs": [
        {
          "name": "stdout",
          "output_type": "stream",
          "text": [
            "Goldman Sachs issued me an apple credit Card through an XXXX account I had separate on my XXXX. XXXX was stolen and i called right away to report it. Unable to retrieve it I endured unauthorized charges to which the company couldnt explain yet Im being billed continuously monthly for charges that are not listed on my bank statement or that they can explain. They told me they cant access the transactions and only I could do it through an XXXX  account I cant get into. This being said, they offered to mail me the itemized statement. I received an itemized statement with no charges shown but a total amount of {$430.00} to Be paid. They wont dispute or close my account\n"
          ]
        }
      ]
    },
    {
      "cell_type": "code",
      "metadata": {
        "colab": {
          "base_uri": "https://localhost:8080/"
        },
        "id": "GN5HTMcICPk4",
        "outputId": "90ae76e0-9ca3-47e6-cb5e-7440105fc356"
      },
      "source": [
        "print(re.sub(\"[^a-zA-Z0-9]\", \" \",train_data['Consumer complaint narrative'][22]))\n",
        "print(re.sub(\"[^a-zA-Z0-9]\", \" \",train_data['Consumer complaint narrative'][10]))\n"
      ],
      "id": "GN5HTMcICPk4",
      "execution_count": null,
      "outputs": [
        {
          "name": "stdout",
          "output_type": "stream",
          "text": [
            "Recently I received a collection letter from a law firm known as XXXX XXXX XXXX  XXXX  claiming that they were trying to collect on a debt for a debt buyer known as XXXX XXXX XXXX  XXXX  There are issues that need to be rectified as there is no consistency pertaining to debt ownership  The following is the criteria that must be established in order to validate a collectible debt against me   1   At no time was I ever notified that an old debt was purchased by XXXX XXXX XXXX XXXX XXXX   2   The debt is so old that it no longer is posted on any of my credit reports  which means that at the very least the debt is over 7 years since it was last posted on a bureau update   3   Any debt purchase in the Commonwealth of Massachusetts must show true copy ownership  as in this case XXXX XXXX XXXX  did no such transfer  nor was I ever given any such proof   4   The debt information was acquired through a debt pooling information program electronically  and thus this collection is a fraudulent transaction  being procured for collection by a licensed law firm that should be investigated by the Massachusetts Department of Bar Overseers   5   The law firm of XXXX XXXX XXXX  XXXX  need to cease and desist on these types of action  especially to a minority person such as myself  being 50    XXXX and 50   XXXX  I believe that I am being discriminated against and targeted  I recently had two similar actions dismissed in the civil courts in the Commonwealth of Massachusetts  and this collection is also illegal   6   This collection is illegal  and XXXX XXXX XXXX  is in violation of my rights under the Fair Debt Collection Practices Act   7   My file must be purged and all personal information must be deleted  along with XXXX XXXX XXXX recalling this debt information immediately   8   Any and all references to this account must be deleted on all credit bureaus   9   XXXX XXXX XXXX  must be investigated by all credit bureaus  and this activity on erroneous debt transfers must be terminated against minorities and consumers of the Commonwealth of Massachusetts permanently   XXXX XXXX XXXX XXXX XXXX has an enormous amount of complaints filed with the CFPB already   As of XX XX 2019  the Consumer Financial Protection Bureau   CFPB   has received over 1 700 complaints related to the debt  collection practices of XXXX XXXX XXXX XXXX XXXX  Examples of common complaints against XXXX include trying to collect a debt not owed and improper communication tactics   The following two real world examples of complaints against XXXX XXXX XXXX illustrate these types of alleged violations   Consumer alleges attempts to collect a debt not owed XXXX XXXX XXXX said I owe XXXX XXXX After reviewing my recent credit report I contacted the company letting them know this not my debt This Collection action must be pulled out of circulation immediately      XXXX XXXX\n",
            "Goldman Sachs issued me an apple credit Card through an XXXX account I had separate on my XXXX  XXXX was stolen and i called right away to report it  Unable to retrieve it I endured unauthorized charges to which the company couldnt explain yet Im being billed continuously monthly for charges that are not listed on my bank statement or that they can explain  They told me they cant access the transactions and only I could do it through an XXXX  account I cant get into  This being said  they offered to mail me the itemized statement  I received an itemized statement with no charges shown but a total amount of   430 00  to Be paid  They wont dispute or close my account\n"
          ]
        }
      ]
    },
    {
      "cell_type": "markdown",
      "metadata": {
        "id": "1Q7nShiAhmAw"
      },
      "source": [
        "### Text Pre-processing:"
      ],
      "id": "1Q7nShiAhmAw"
    },
    {
      "cell_type": "code",
      "metadata": {
        "id": "OGC7Y7eeCkK8"
      },
      "source": [
        "tokenizer = WordPunctTokenizer()\n",
        "def text_cleaner(text):\n",
        "    text=re.sub(r'@+','',text)\n",
        "    text=re.sub(r'X+','',text)\n",
        "    text=re.sub('http?://[A-Za-z0-9./]+','',text)\n",
        "    text=re.sub(\"[^a-zA-Z]\", \" \",text)\n",
        "    lower_case = text.lower()\n",
        "    words = tokenizer.tokenize(lower_case)\n",
        "    return (\" \".join(words)).strip()"
      ],
      "id": "OGC7Y7eeCkK8",
      "execution_count": null,
      "outputs": []
    },
    {
      "cell_type": "markdown",
      "metadata": {
        "id": "CwwdimLYh3dw"
      },
      "source": [
        "\n",
        "\n",
        "> We're using Regular expressions to remove all the uncessary content in the text at once to make it clean inorder to make vectors that would be fed to the model for evaluation.\n",
        "\n"
      ],
      "id": "CwwdimLYh3dw"
    },
    {
      "cell_type": "code",
      "metadata": {
        "id": "BqNakRHFCtlj"
      },
      "source": [
        "clean_text = list(map(lambda x:text_cleaner(x),train_data['Consumer complaint narrative']))"
      ],
      "id": "BqNakRHFCtlj",
      "execution_count": null,
      "outputs": []
    },
    {
      "cell_type": "code",
      "metadata": {
        "id": "ff067bnVrtyl"
      },
      "source": [
        "train_data['clean_text'] = clean_text"
      ],
      "id": "ff067bnVrtyl",
      "execution_count": null,
      "outputs": []
    },
    {
      "cell_type": "code",
      "metadata": {
        "colab": {
          "base_uri": "https://localhost:8080/",
          "height": 1000
        },
        "id": "cX_MOiYdr0OX",
        "outputId": "77256c65-92e4-4c4a-acea-22ba17a47a02"
      },
      "source": [
        "train_data.head()"
      ],
      "id": "cX_MOiYdr0OX",
      "execution_count": null,
      "outputs": [
        {
          "data": {
            "text/html": [
              "<div>\n",
              "<style scoped>\n",
              "    .dataframe tbody tr th:only-of-type {\n",
              "        vertical-align: middle;\n",
              "    }\n",
              "\n",
              "    .dataframe tbody tr th {\n",
              "        vertical-align: top;\n",
              "    }\n",
              "\n",
              "    .dataframe thead th {\n",
              "        text-align: right;\n",
              "    }\n",
              "</style>\n",
              "<table border=\"1\" class=\"dataframe\">\n",
              "  <thead>\n",
              "    <tr style=\"text-align: right;\">\n",
              "      <th></th>\n",
              "      <th>Consumer complaint narrative</th>\n",
              "      <th>Product</th>\n",
              "      <th>clean_text</th>\n",
              "    </tr>\n",
              "  </thead>\n",
              "  <tbody>\n",
              "    <tr>\n",
              "      <th>0</th>\n",
              "      <td>My complaint is against Bank of America. \\n\\nBank of America was making monthly automatic payments to XXXX   XXXX XXXX from my BOA checking account. In late XXXX, the XXXX XXXX XXXX was paid in full and the account closed. Inadvertently, Bank of America made one extra payment to XXXX   XXXX for {$2600.00} on XX/XX/2020, after the XXXX XXXX XXXX   account was closed. I contacted both XXXX XXXXXXXX and Bank of America as soon as I discovered the debit from my Bank of America account. Both institutions assured me that the overpayment would by credited back to my Bank of America account. \\n\\nAfter several weeks of not seeing the refund post, I initiated a case with Bank of America, first trying their telephone support and later through their messaging center. \\n\\nXXXX XXXXXXXX sent a letter to Bank of America on XX/XX/XXXX, stating, \" Enclosed please find check number XXXX dated XX/XX/2020 in the amount of {$2600.00} ... '' I am attaching the complete letter below. \\n\\nOn XX/XX/2020, I received a message from Bank of America stating, \" This credit will post to your account within 5 to 7 business days ... '' I am attaching the complete message below. \\n\\nAfter seven business days the credit still had not posted. \\n\\nOn XX/XX/2020, I received another message from Bank of America stating, \" This credit will post to your account within 5 to 7 business days ... '' I am attaching the complete message below. \\n\\nI am attaching all written correspondence I have had with XXXX XXXXXXXX and Bank of America. \\n\\nOn XX/XX/2020, I went to the Bank of America XXXX office at XXXX XXXX XXXX XXXX XXXX XXXX XXXX, MD XXXX. I spoke at great length with the branch manager, XXXX XXXX. He assured me that the matter would be rectified by XX/XX/2020. Mr. XXXX is not taking or returning my telephone calls at this time. \\n\\nIn addition, today I discovered that every message concerning this case in my Bank of America account online web page has been mysteriously deleted. Fortunately, I made copies before these disappeared.</td>\n",
              "      <td>Checking or savings account</td>\n",
              "      <td>my complaint is against bank of america bank of america was making monthly automatic payments to from my boa checking account in late the was paid in full and the account closed inadvertently bank of america made one extra payment to for on after the account was closed i contacted both and bank of america as soon as i discovered the debit from my bank of america account both institutions assured me that the overpayment would by credited back to my bank of america account after several weeks of not seeing the refund post i initiated a case with bank of america first trying their telephone support and later through their messaging center sent a letter to bank of america on stating enclosed please find check number dated in the amount of i am attaching the complete letter below on i received a message from bank of america stating this credit will post to your account within to business days i am attaching the complete message below after seven business days the credit still had not posted on i received another message from bank of america stating this credit will post to your account within to business days i am attaching the complete message below i am attaching all written correspondence i have had with and bank of america on i went to the bank of america office at md i spoke at great length with the branch manager he assured me that the matter would be rectified by mr is not taking or returning my telephone calls at this time in addition today i discovered that every message concerning this case in my bank of america account online web page has been mysteriously deleted fortunately i made copies before these disappeared</td>\n",
              "    </tr>\n",
              "    <tr>\n",
              "      <th>1</th>\n",
              "      <td>Tax liens have been released.</td>\n",
              "      <td>Credit reporting, credit repair services, or other personal consumer reports</td>\n",
              "      <td>tax liens have been released</td>\n",
              "    </tr>\n",
              "    <tr>\n",
              "      <th>2</th>\n",
              "      <td>This has been an ongoing issue since 2018. My next step is to file a lawsuit against Experian. Experian is reporting a balance of {$12000.00} with a company called XXXX  XXXX XXXX. I received the official statement from the original creditor which is listing a balance on {$3500.00}. These two companies obviously can not have two completely different balances. I have sent multiple disputes that have came back inaccurately as verified.This is a violation of my consumer rights. you are alleging the negative claims still yet deficit of proof of truth, correctness, completeness, timeliness, and or else wise adequate COMPLIANCE to all laws and the Metro 2 data field formatted reporting standards, therefore lawfully you MUST ERADICATE any and all adverse remarks :</td>\n",
              "      <td>Credit reporting, credit repair services, or other personal consumer reports</td>\n",
              "      <td>this has been an ongoing issue since my next step is to file a lawsuit against experian experian is reporting a balance of with a company called i received the official statement from the original creditor which is listing a balance on these two companies obviously can not have two completely different balances i have sent multiple disputes that have came back inaccurately as verified this is a violation of my consumer rights you are alleging the negative claims still yet deficit of proof of truth correctness completeness timeliness and or else wise adequate compliance to all laws and the metro data field formatted reporting standards therefore lawfully you must eradicate any and all adverse remarks</td>\n",
              "    </tr>\n",
              "    <tr>\n",
              "      <th>3</th>\n",
              "      <td>Received call on cell phone about a non-existent debt. Phone is registered on federal Do Not Call list. Message sounded like a scam. There was NO phone message other than a claimed debt which was NOT described. The number appears to be identified on XXXX XXXX XXXX AND XXXX as a SCAM. TSC is identified as the entity originating the call. NO documents have been received or referred to.</td>\n",
              "      <td>Debt collection</td>\n",
              "      <td>received call on cell phone about a non existent debt phone is registered on federal do not call list message sounded like a scam there was no phone message other than a claimed debt which was not described the number appears to be identified on and as a scam tsc is identified as the entity originating the call no documents have been received or referred to</td>\n",
              "    </tr>\n",
              "    <tr>\n",
              "      <th>4</th>\n",
              "      <td>My credit card balance is {$0.00} on my XXXXXXXX XXXX XXXX and all three bureaus keep showing it as {$10.00} over the limit. Then they won't let me dispute the balance.</td>\n",
              "      <td>Credit reporting, credit repair services, or other personal consumer reports</td>\n",
              "      <td>my credit card balance is on my and all three bureaus keep showing it as over the limit then they won t let me dispute the balance</td>\n",
              "    </tr>\n",
              "  </tbody>\n",
              "</table>\n",
              "</div>"
            ],
            "text/plain": [
              "                                                                                                                                                                                                                                                                                                                                                                                                                                                                                                                                                                                                                                                                                                                                                                                                                                                                                                                                                                                                                                                                                                                                                                                                                                                                                                                                                                                                                                                                                                                                                                                                                                                                                                                                                                                                                                                                                                                                                                                                                                                                                Consumer complaint narrative  ...                                                                                                                                                                                                                                                                                                                                                                                                                                                                                                                                                                                                                                                                                                                                                                                                                                                                                                                                                                                                                                                                                                                                                                                                                                                                                                                                                                                                                                                                                                                                                                                                                                                                                                       clean_text\n",
              "0  My complaint is against Bank of America. \\n\\nBank of America was making monthly automatic payments to XXXX   XXXX XXXX from my BOA checking account. In late XXXX, the XXXX XXXX XXXX was paid in full and the account closed. Inadvertently, Bank of America made one extra payment to XXXX   XXXX for {$2600.00} on XX/XX/2020, after the XXXX XXXX XXXX   account was closed. I contacted both XXXX XXXXXXXX and Bank of America as soon as I discovered the debit from my Bank of America account. Both institutions assured me that the overpayment would by credited back to my Bank of America account. \\n\\nAfter several weeks of not seeing the refund post, I initiated a case with Bank of America, first trying their telephone support and later through their messaging center. \\n\\nXXXX XXXXXXXX sent a letter to Bank of America on XX/XX/XXXX, stating, \" Enclosed please find check number XXXX dated XX/XX/2020 in the amount of {$2600.00} ... '' I am attaching the complete letter below. \\n\\nOn XX/XX/2020, I received a message from Bank of America stating, \" This credit will post to your account within 5 to 7 business days ... '' I am attaching the complete message below. \\n\\nAfter seven business days the credit still had not posted. \\n\\nOn XX/XX/2020, I received another message from Bank of America stating, \" This credit will post to your account within 5 to 7 business days ... '' I am attaching the complete message below. \\n\\nI am attaching all written correspondence I have had with XXXX XXXXXXXX and Bank of America. \\n\\nOn XX/XX/2020, I went to the Bank of America XXXX office at XXXX XXXX XXXX XXXX XXXX XXXX XXXX, MD XXXX. I spoke at great length with the branch manager, XXXX XXXX. He assured me that the matter would be rectified by XX/XX/2020. Mr. XXXX is not taking or returning my telephone calls at this time. \\n\\nIn addition, today I discovered that every message concerning this case in my Bank of America account online web page has been mysteriously deleted. Fortunately, I made copies before these disappeared.  ...  my complaint is against bank of america bank of america was making monthly automatic payments to from my boa checking account in late the was paid in full and the account closed inadvertently bank of america made one extra payment to for on after the account was closed i contacted both and bank of america as soon as i discovered the debit from my bank of america account both institutions assured me that the overpayment would by credited back to my bank of america account after several weeks of not seeing the refund post i initiated a case with bank of america first trying their telephone support and later through their messaging center sent a letter to bank of america on stating enclosed please find check number dated in the amount of i am attaching the complete letter below on i received a message from bank of america stating this credit will post to your account within to business days i am attaching the complete message below after seven business days the credit still had not posted on i received another message from bank of america stating this credit will post to your account within to business days i am attaching the complete message below i am attaching all written correspondence i have had with and bank of america on i went to the bank of america office at md i spoke at great length with the branch manager he assured me that the matter would be rectified by mr is not taking or returning my telephone calls at this time in addition today i discovered that every message concerning this case in my bank of america account online web page has been mysteriously deleted fortunately i made copies before these disappeared\n",
              "1  Tax liens have been released.                                                                                                                                                                                                                                                                                                                                                                                                                                                                                                                                                                                                                                                                                                                                                                                                                                                                                                                                                                                                                                                                                                                                                                                                                                                                                                                                                                                                                                                                                                                                                                                                                                                                                                                                                                                                                                                                                                                                                                                                                                                                              ...  tax liens have been released                                                                                                                                                                                                                                                                                                                                                                                                                                                                                                                                                                                                                                                                                                                                                                                                                                                                                                                                                                                                                                                                                                                                                                                                                                                                                                                                                                                                                                                                                                                                                                                                                                                                                   \n",
              "2  This has been an ongoing issue since 2018. My next step is to file a lawsuit against Experian. Experian is reporting a balance of {$12000.00} with a company called XXXX  XXXX XXXX. I received the official statement from the original creditor which is listing a balance on {$3500.00}. These two companies obviously can not have two completely different balances. I have sent multiple disputes that have came back inaccurately as verified.This is a violation of my consumer rights. you are alleging the negative claims still yet deficit of proof of truth, correctness, completeness, timeliness, and or else wise adequate COMPLIANCE to all laws and the Metro 2 data field formatted reporting standards, therefore lawfully you MUST ERADICATE any and all adverse remarks :                                                                                                                                                                                                                                                                                                                                                                                                                                                                                                                                                                                                                                                                                                                                                                                                                                                                                                                                                                                                                                                                                                                                                                                                                                                                                                            ...  this has been an ongoing issue since my next step is to file a lawsuit against experian experian is reporting a balance of with a company called i received the official statement from the original creditor which is listing a balance on these two companies obviously can not have two completely different balances i have sent multiple disputes that have came back inaccurately as verified this is a violation of my consumer rights you are alleging the negative claims still yet deficit of proof of truth correctness completeness timeliness and or else wise adequate compliance to all laws and the metro data field formatted reporting standards therefore lawfully you must eradicate any and all adverse remarks                                                                                                                                                                                                                                                                                                                                                                                                                                                                                                                                                                                                                                                                                                                                                                                                                                                                                                                                                                           \n",
              "3  Received call on cell phone about a non-existent debt. Phone is registered on federal Do Not Call list. Message sounded like a scam. There was NO phone message other than a claimed debt which was NOT described. The number appears to be identified on XXXX XXXX XXXX AND XXXX as a SCAM. TSC is identified as the entity originating the call. NO documents have been received or referred to.                                                                                                                                                                                                                                                                                                                                                                                                                                                                                                                                                                                                                                                                                                                                                                                                                                                                                                                                                                                                                                                                                                                                                                                                                                                                                                                                                                                                                                                                                                                                                                                                                                                                                                         ...  received call on cell phone about a non existent debt phone is registered on federal do not call list message sounded like a scam there was no phone message other than a claimed debt which was not described the number appears to be identified on and as a scam tsc is identified as the entity originating the call no documents have been received or referred to                                                                                                                                                                                                                                                                                                                                                                                                                                                                                                                                                                                                                                                                                                                                                                                                                                                                                                                                                                                                                                                                                                                                                                                                                                                                                                                                        \n",
              "4  My credit card balance is {$0.00} on my XXXXXXXX XXXX XXXX and all three bureaus keep showing it as {$10.00} over the limit. Then they won't let me dispute the balance.                                                                                                                                                                                                                                                                                                                                                                                                                                                                                                                                                                                                                                                                                                                                                                                                                                                                                                                                                                                                                                                                                                                                                                                                                                                                                                                                                                                                                                                                                                                                                                                                                                                                                                                                                                                                                                                                                                                                   ...  my credit card balance is on my and all three bureaus keep showing it as over the limit then they won t let me dispute the balance                                                                                                                                                                                                                                                                                                                                                                                                                                                                                                                                                                                                                                                                                                                                                                                                                                                                                                                                                                                                                                                                                                                                                                                                                                                                                                                                                                                                                                                                                                                                                                             \n",
              "\n",
              "[5 rows x 3 columns]"
            ]
          },
          "execution_count": 31,
          "metadata": {},
          "output_type": "execute_result"
        }
      ]
    },
    {
      "cell_type": "code",
      "metadata": {
        "colab": {
          "base_uri": "https://localhost:8080/"
        },
        "id": "KywEnEF-Fu2R",
        "outputId": "a0136193-46c4-4284-c433-0044b4ecfc7b"
      },
      "source": [
        "for group_name,subset in train_data.groupby('Product'):\n",
        "  Data = subset['clean_text']\n",
        "  words=[]\n",
        "  for each in Data:\n",
        "    words.extend(each.split(\" \"))\n",
        "  print(group_name)\n",
        "  print(Counter(words).most_common(15))"
      ],
      "id": "KywEnEF-Fu2R",
      "execution_count": null,
      "outputs": [
        {
          "name": "stdout",
          "output_type": "stream",
          "text": [
            "Bank account or service\n",
            "[('the', 115584), ('i', 102099), ('to', 87798), ('and', 69942), ('my', 54377), ('a', 52698), ('that', 42316), ('of', 40964), ('was', 39259), ('account', 36520), ('in', 30179), ('they', 27742), ('bank', 27266), ('on', 27222), ('me', 26302)]\n",
            "Checking or savings account\n",
            "[('the', 307093), ('i', 270739), ('to', 243306), ('and', 193885), ('my', 156453), ('a', 135591), ('that', 111455), ('was', 107788), ('of', 107110), ('account', 102984), ('on', 81305), ('in', 78188), ('they', 75019), ('me', 74108), ('for', 67267)]\n",
            "Consumer Loan\n",
            "[('the', 65904), ('i', 63283), ('to', 50342), ('and', 40729), ('a', 31768), ('my', 29551), ('was', 24287), ('that', 23273), ('of', 21817), ('they', 19206), ('in', 17322), ('on', 16785), ('for', 14972), ('me', 14904), ('have', 14395)]\n",
            "Credit card or prepaid card\n",
            "[('the', 597037), ('i', 570948), ('to', 457601), ('and', 369129), ('my', 281419), ('a', 280321), ('that', 219360), ('was', 208871), ('of', 202562), ('on', 176977), ('in', 150904), ('they', 150894), ('for', 146255), ('card', 140528), ('not', 139403)]\n",
            "Credit reporting, credit repair services, or other personal consumer reports\n",
            "[('the', 1472931), ('i', 1226892), ('to', 1192234), ('and', 1029204), ('my', 865035), ('of', 757292), ('a', 737062), ('credit', 614538), ('that', 554188), ('on', 478051), ('this', 475538), ('have', 446065), ('is', 426530), ('in', 422522), ('not', 410347)]\n",
            "Debt collection\n",
            "[('the', 789326), ('i', 732135), ('to', 675398), ('and', 546411), ('a', 420672), ('of', 367696), ('my', 349947), ('that', 308842), ('this', 274232), ('they', 242627), ('was', 231396), ('in', 230337), ('on', 214011), ('me', 207991), ('debt', 203967)]\n",
            "Money transfer, virtual currency, or money service\n",
            "[('the', 134298), ('i', 123706), ('to', 122095), ('and', 87711), ('my', 71280), ('a', 59627), ('that', 46411), ('of', 44332), ('was', 43740), ('account', 36849), ('they', 36693), ('on', 36226), ('me', 33742), ('in', 32683), ('for', 31968)]\n",
            "Mortgage\n",
            "[('the', 821419), ('to', 666435), ('i', 590045), ('and', 508324), ('a', 360949), ('my', 335663), ('of', 317891), ('that', 284381), ('was', 263024), ('in', 243037), ('on', 213732), ('they', 207323), ('for', 200044), ('have', 177220), ('not', 176321)]\n",
            "Other financial service\n",
            "[('the', 2122), ('i', 2092), ('to', 1913), ('and', 1503), ('a', 1077), ('my', 1052), ('that', 880), ('of', 776), ('was', 752), ('they', 707), ('for', 598), ('me', 592), ('in', 529), ('not', 522), ('on', 483)]\n",
            "Payday loan, title loan, or personal loan\n",
            "[('i', 83197), ('the', 75885), ('to', 64693), ('and', 51539), ('a', 38500), ('my', 36302), ('of', 29161), ('that', 28689), ('was', 28685), ('they', 23614), ('on', 21773), ('in', 21194), ('loan', 20250), ('me', 19857), ('for', 19614)]\n",
            "Student loan\n",
            "[('i', 230935), ('the', 184443), ('to', 180711), ('and', 132767), ('my', 124533), ('a', 92126), ('that', 83332), ('of', 79287), ('was', 73573), ('in', 66277), ('for', 56994), ('have', 56951), ('they', 56171), ('on', 52720), ('loan', 50888)]\n",
            "Vehicle loan or lease\n",
            "[('the', 132986), ('i', 113121), ('to', 99642), ('and', 80441), ('a', 57406), ('my', 54444), ('was', 46531), ('of', 44356), ('that', 43386), ('on', 34641), ('in', 34122), ('they', 33212), ('for', 28545), ('me', 28100), ('not', 25865)]\n"
          ]
        }
      ]
    },
    {
      "cell_type": "markdown",
      "metadata": {
        "id": "4j8mK_h6iKXv"
      },
      "source": [
        "\n",
        "\n",
        "> We understand that the most of the repeated words are prepositions and the words that present in the stop words. Hence, we remove all the text containing stop_words and try to get an insight on the text that containts no stop_words.\n",
        "\n"
      ],
      "id": "4j8mK_h6iKXv"
    },
    {
      "cell_type": "code",
      "metadata": {
        "id": "_rfQk6t3USh3"
      },
      "source": [
        "stop_words = stopwords.words('english')\n",
        "train_data['Stop_words_removed'] = train_data['clean_text'].apply(lambda x: ' '.join([word for word in x.split() if word not in (stop_words)]))\n"
      ],
      "id": "_rfQk6t3USh3",
      "execution_count": null,
      "outputs": []
    },
    {
      "cell_type": "code",
      "metadata": {
        "colab": {
          "base_uri": "https://localhost:8080/",
          "height": 1000
        },
        "id": "QHVKxislbQAy",
        "outputId": "0d1443f8-8a4c-4bd4-cbbd-285b5da24c99"
      },
      "source": [
        "train_data.head()"
      ],
      "id": "QHVKxislbQAy",
      "execution_count": null,
      "outputs": [
        {
          "data": {
            "text/html": [
              "<div>\n",
              "<style scoped>\n",
              "    .dataframe tbody tr th:only-of-type {\n",
              "        vertical-align: middle;\n",
              "    }\n",
              "\n",
              "    .dataframe tbody tr th {\n",
              "        vertical-align: top;\n",
              "    }\n",
              "\n",
              "    .dataframe thead th {\n",
              "        text-align: right;\n",
              "    }\n",
              "</style>\n",
              "<table border=\"1\" class=\"dataframe\">\n",
              "  <thead>\n",
              "    <tr style=\"text-align: right;\">\n",
              "      <th></th>\n",
              "      <th>Consumer complaint narrative</th>\n",
              "      <th>Product</th>\n",
              "      <th>clean_text</th>\n",
              "      <th>Stop_words_removed</th>\n",
              "    </tr>\n",
              "  </thead>\n",
              "  <tbody>\n",
              "    <tr>\n",
              "      <th>0</th>\n",
              "      <td>My complaint is against Bank of America. \\n\\nBank of America was making monthly automatic payments to XXXX   XXXX XXXX from my BOA checking account. In late XXXX, the XXXX XXXX XXXX was paid in full and the account closed. Inadvertently, Bank of America made one extra payment to XXXX   XXXX for {$2600.00} on XX/XX/2020, after the XXXX XXXX XXXX   account was closed. I contacted both XXXX XXXXXXXX and Bank of America as soon as I discovered the debit from my Bank of America account. Both institutions assured me that the overpayment would by credited back to my Bank of America account. \\n\\nAfter several weeks of not seeing the refund post, I initiated a case with Bank of America, first trying their telephone support and later through their messaging center. \\n\\nXXXX XXXXXXXX sent a letter to Bank of America on XX/XX/XXXX, stating, \" Enclosed please find check number XXXX dated XX/XX/2020 in the amount of {$2600.00} ... '' I am attaching the complete letter below. \\n\\nOn XX/XX/2020, I received a message from Bank of America stating, \" This credit will post to your account within 5 to 7 business days ... '' I am attaching the complete message below. \\n\\nAfter seven business days the credit still had not posted. \\n\\nOn XX/XX/2020, I received another message from Bank of America stating, \" This credit will post to your account within 5 to 7 business days ... '' I am attaching the complete message below. \\n\\nI am attaching all written correspondence I have had with XXXX XXXXXXXX and Bank of America. \\n\\nOn XX/XX/2020, I went to the Bank of America XXXX office at XXXX XXXX XXXX XXXX XXXX XXXX XXXX, MD XXXX. I spoke at great length with the branch manager, XXXX XXXX. He assured me that the matter would be rectified by XX/XX/2020. Mr. XXXX is not taking or returning my telephone calls at this time. \\n\\nIn addition, today I discovered that every message concerning this case in my Bank of America account online web page has been mysteriously deleted. Fortunately, I made copies before these disappeared.</td>\n",
              "      <td>Checking or savings account</td>\n",
              "      <td>my complaint is against bank of america bank of america was making monthly automatic payments to from my boa checking account in late the was paid in full and the account closed inadvertently bank of america made one extra payment to for on after the account was closed i contacted both and bank of america as soon as i discovered the debit from my bank of america account both institutions assured me that the overpayment would by credited back to my bank of america account after several weeks of not seeing the refund post i initiated a case with bank of america first trying their telephone support and later through their messaging center sent a letter to bank of america on stating enclosed please find check number dated in the amount of i am attaching the complete letter below on i received a message from bank of america stating this credit will post to your account within to business days i am attaching the complete message below after seven business days the credit still had not posted on i received another message from bank of america stating this credit will post to your account within to business days i am attaching the complete message below i am attaching all written correspondence i have had with and bank of america on i went to the bank of america office at md i spoke at great length with the branch manager he assured me that the matter would be rectified by mr is not taking or returning my telephone calls at this time in addition today i discovered that every message concerning this case in my bank of america account online web page has been mysteriously deleted fortunately i made copies before these disappeared</td>\n",
              "      <td>complaint bank america bank america making monthly automatic payments boa checking account late paid full account closed inadvertently bank america made one extra payment account closed contacted bank america soon discovered debit bank america account institutions assured overpayment would credited back bank america account several weeks seeing refund post initiated case bank america first trying telephone support later messaging center sent letter bank america stating enclosed please find check number dated amount attaching complete letter received message bank america stating credit post account within business days attaching complete message seven business days credit still posted received another message bank america stating credit post account within business days attaching complete message attaching written correspondence bank america went bank america office md spoke great length branch manager assured matter would rectified mr taking returning telephone calls time addition today discovered every message concerning case bank america account online web page mysteriously deleted fortunately made copies disappeared</td>\n",
              "    </tr>\n",
              "    <tr>\n",
              "      <th>1</th>\n",
              "      <td>Tax liens have been released.</td>\n",
              "      <td>Credit reporting, credit repair services, or other personal consumer reports</td>\n",
              "      <td>tax liens have been released</td>\n",
              "      <td>tax liens released</td>\n",
              "    </tr>\n",
              "    <tr>\n",
              "      <th>2</th>\n",
              "      <td>This has been an ongoing issue since 2018. My next step is to file a lawsuit against Experian. Experian is reporting a balance of {$12000.00} with a company called XXXX  XXXX XXXX. I received the official statement from the original creditor which is listing a balance on {$3500.00}. These two companies obviously can not have two completely different balances. I have sent multiple disputes that have came back inaccurately as verified.This is a violation of my consumer rights. you are alleging the negative claims still yet deficit of proof of truth, correctness, completeness, timeliness, and or else wise adequate COMPLIANCE to all laws and the Metro 2 data field formatted reporting standards, therefore lawfully you MUST ERADICATE any and all adverse remarks :</td>\n",
              "      <td>Credit reporting, credit repair services, or other personal consumer reports</td>\n",
              "      <td>this has been an ongoing issue since my next step is to file a lawsuit against experian experian is reporting a balance of with a company called i received the official statement from the original creditor which is listing a balance on these two companies obviously can not have two completely different balances i have sent multiple disputes that have came back inaccurately as verified this is a violation of my consumer rights you are alleging the negative claims still yet deficit of proof of truth correctness completeness timeliness and or else wise adequate compliance to all laws and the metro data field formatted reporting standards therefore lawfully you must eradicate any and all adverse remarks</td>\n",
              "      <td>ongoing issue since next step file lawsuit experian experian reporting balance company called received official statement original creditor listing balance two companies obviously two completely different balances sent multiple disputes came back inaccurately verified violation consumer rights alleging negative claims still yet deficit proof truth correctness completeness timeliness else wise adequate compliance laws metro data field formatted reporting standards therefore lawfully must eradicate adverse remarks</td>\n",
              "    </tr>\n",
              "    <tr>\n",
              "      <th>3</th>\n",
              "      <td>Received call on cell phone about a non-existent debt. Phone is registered on federal Do Not Call list. Message sounded like a scam. There was NO phone message other than a claimed debt which was NOT described. The number appears to be identified on XXXX XXXX XXXX AND XXXX as a SCAM. TSC is identified as the entity originating the call. NO documents have been received or referred to.</td>\n",
              "      <td>Debt collection</td>\n",
              "      <td>received call on cell phone about a non existent debt phone is registered on federal do not call list message sounded like a scam there was no phone message other than a claimed debt which was not described the number appears to be identified on and as a scam tsc is identified as the entity originating the call no documents have been received or referred to</td>\n",
              "      <td>received call cell phone non existent debt phone registered federal call list message sounded like scam phone message claimed debt described number appears identified scam tsc identified entity originating call documents received referred</td>\n",
              "    </tr>\n",
              "    <tr>\n",
              "      <th>4</th>\n",
              "      <td>My credit card balance is {$0.00} on my XXXXXXXX XXXX XXXX and all three bureaus keep showing it as {$10.00} over the limit. Then they won't let me dispute the balance.</td>\n",
              "      <td>Credit reporting, credit repair services, or other personal consumer reports</td>\n",
              "      <td>my credit card balance is on my and all three bureaus keep showing it as over the limit then they won t let me dispute the balance</td>\n",
              "      <td>credit card balance three bureaus keep showing limit let dispute balance</td>\n",
              "    </tr>\n",
              "  </tbody>\n",
              "</table>\n",
              "</div>"
            ],
            "text/plain": [
              "                                                                                                                                                                                                                                                                                                                                                                                                                                                                                                                                                                                                                                                                                                                                                                                                                                                                                                                                                                                                                                                                                                                                                                                                                                                                                                                                                                                                                                                                                                                                                                                                                                                                                                                                                                                                                                                                                                                                                                                                                                                                                Consumer complaint narrative  ...                                                                                                                                                                                                                                                                                                                                                                                                                                                                                                                                                                                                                                                                                                                                                                                                                                                                                                                                                                                                                                                                                                                                                                Stop_words_removed\n",
              "0  My complaint is against Bank of America. \\n\\nBank of America was making monthly automatic payments to XXXX   XXXX XXXX from my BOA checking account. In late XXXX, the XXXX XXXX XXXX was paid in full and the account closed. Inadvertently, Bank of America made one extra payment to XXXX   XXXX for {$2600.00} on XX/XX/2020, after the XXXX XXXX XXXX   account was closed. I contacted both XXXX XXXXXXXX and Bank of America as soon as I discovered the debit from my Bank of America account. Both institutions assured me that the overpayment would by credited back to my Bank of America account. \\n\\nAfter several weeks of not seeing the refund post, I initiated a case with Bank of America, first trying their telephone support and later through their messaging center. \\n\\nXXXX XXXXXXXX sent a letter to Bank of America on XX/XX/XXXX, stating, \" Enclosed please find check number XXXX dated XX/XX/2020 in the amount of {$2600.00} ... '' I am attaching the complete letter below. \\n\\nOn XX/XX/2020, I received a message from Bank of America stating, \" This credit will post to your account within 5 to 7 business days ... '' I am attaching the complete message below. \\n\\nAfter seven business days the credit still had not posted. \\n\\nOn XX/XX/2020, I received another message from Bank of America stating, \" This credit will post to your account within 5 to 7 business days ... '' I am attaching the complete message below. \\n\\nI am attaching all written correspondence I have had with XXXX XXXXXXXX and Bank of America. \\n\\nOn XX/XX/2020, I went to the Bank of America XXXX office at XXXX XXXX XXXX XXXX XXXX XXXX XXXX, MD XXXX. I spoke at great length with the branch manager, XXXX XXXX. He assured me that the matter would be rectified by XX/XX/2020. Mr. XXXX is not taking or returning my telephone calls at this time. \\n\\nIn addition, today I discovered that every message concerning this case in my Bank of America account online web page has been mysteriously deleted. Fortunately, I made copies before these disappeared.  ...  complaint bank america bank america making monthly automatic payments boa checking account late paid full account closed inadvertently bank america made one extra payment account closed contacted bank america soon discovered debit bank america account institutions assured overpayment would credited back bank america account several weeks seeing refund post initiated case bank america first trying telephone support later messaging center sent letter bank america stating enclosed please find check number dated amount attaching complete letter received message bank america stating credit post account within business days attaching complete message seven business days credit still posted received another message bank america stating credit post account within business days attaching complete message attaching written correspondence bank america went bank america office md spoke great length branch manager assured matter would rectified mr taking returning telephone calls time addition today discovered every message concerning case bank america account online web page mysteriously deleted fortunately made copies disappeared\n",
              "1  Tax liens have been released.                                                                                                                                                                                                                                                                                                                                                                                                                                                                                                                                                                                                                                                                                                                                                                                                                                                                                                                                                                                                                                                                                                                                                                                                                                                                                                                                                                                                                                                                                                                                                                                                                                                                                                                                                                                                                                                                                                                                                                                                                                                                              ...  tax liens released                                                                                                                                                                                                                                                                                                                                                                                                                                                                                                                                                                                                                                                                                                                                                                                                                                                                                                                                                                                                                                                                                                                                                              \n",
              "2  This has been an ongoing issue since 2018. My next step is to file a lawsuit against Experian. Experian is reporting a balance of {$12000.00} with a company called XXXX  XXXX XXXX. I received the official statement from the original creditor which is listing a balance on {$3500.00}. These two companies obviously can not have two completely different balances. I have sent multiple disputes that have came back inaccurately as verified.This is a violation of my consumer rights. you are alleging the negative claims still yet deficit of proof of truth, correctness, completeness, timeliness, and or else wise adequate COMPLIANCE to all laws and the Metro 2 data field formatted reporting standards, therefore lawfully you MUST ERADICATE any and all adverse remarks :                                                                                                                                                                                                                                                                                                                                                                                                                                                                                                                                                                                                                                                                                                                                                                                                                                                                                                                                                                                                                                                                                                                                                                                                                                                                                                            ...  ongoing issue since next step file lawsuit experian experian reporting balance company called received official statement original creditor listing balance two companies obviously two completely different balances sent multiple disputes came back inaccurately verified violation consumer rights alleging negative claims still yet deficit proof truth correctness completeness timeliness else wise adequate compliance laws metro data field formatted reporting standards therefore lawfully must eradicate adverse remarks                                                                                                                                                                                                                                                                                                                                                                                                                                                                                                                                                                                                                                           \n",
              "3  Received call on cell phone about a non-existent debt. Phone is registered on federal Do Not Call list. Message sounded like a scam. There was NO phone message other than a claimed debt which was NOT described. The number appears to be identified on XXXX XXXX XXXX AND XXXX as a SCAM. TSC is identified as the entity originating the call. NO documents have been received or referred to.                                                                                                                                                                                                                                                                                                                                                                                                                                                                                                                                                                                                                                                                                                                                                                                                                                                                                                                                                                                                                                                                                                                                                                                                                                                                                                                                                                                                                                                                                                                                                                                                                                                                                                         ...  received call cell phone non existent debt phone registered federal call list message sounded like scam phone message claimed debt described number appears identified scam tsc identified entity originating call documents received referred                                                                                                                                                                                                                                                                                                                                                                                                                                                                                                                                                                                                                                                                                                                                                                                                                                                                                                                                  \n",
              "4  My credit card balance is {$0.00} on my XXXXXXXX XXXX XXXX and all three bureaus keep showing it as {$10.00} over the limit. Then they won't let me dispute the balance.                                                                                                                                                                                                                                                                                                                                                                                                                                                                                                                                                                                                                                                                                                                                                                                                                                                                                                                                                                                                                                                                                                                                                                                                                                                                                                                                                                                                                                                                                                                                                                                                                                                                                                                                                                                                                                                                                                                                   ...  credit card balance three bureaus keep showing limit let dispute balance                                                                                                                                                                                                                                                                                                                                                                                                                                                                                                                                                                                                                                                                                                                                                                                                                                                                                                                                                                                                                                                                                                        \n",
              "\n",
              "[5 rows x 4 columns]"
            ]
          },
          "execution_count": 34,
          "metadata": {},
          "output_type": "execute_result"
        }
      ]
    },
    {
      "cell_type": "code",
      "metadata": {
        "colab": {
          "base_uri": "https://localhost:8080/"
        },
        "id": "gB9mQIzYlrYh",
        "outputId": "9a5c8c4c-6fc2-4d23-ea61-53bb804e35d3"
      },
      "source": [
        "for group_name,subset in train_data.groupby('Product'):\n",
        "  Data = subset['Stop_words_removed']\n",
        "  words=[]\n",
        "  for each in Data:\n",
        "    words.extend(each.split(\" \"))\n",
        "  print(group_name)\n",
        "  print(Counter(words).most_common(15))"
      ],
      "id": "gB9mQIzYlrYh",
      "execution_count": null,
      "outputs": [
        {
          "name": "stdout",
          "output_type": "stream",
          "text": [
            "Bank account or service\n",
            "[('account', 36520), ('bank', 27266), ('would', 10871), ('money', 9727), ('check', 9129), ('told', 8961), ('card', 7971), ('n', 7655), ('credit', 7091), ('checking', 6207), ('called', 6017), ('fees', 6016), ('funds', 5703), ('time', 5701), ('back', 5698)]\n",
            "Checking or savings account\n",
            "[('account', 102984), ('bank', 65524), ('money', 28089), ('would', 26359), ('told', 24624), ('check', 23399), ('funds', 19301), ('called', 19262), ('card', 18209), ('back', 17697), ('checking', 17314), ('received', 15718), ('said', 15432), ('time', 15003), ('one', 14943)]\n",
            "Consumer Loan\n",
            "[('loan', 10237), ('payment', 9639), ('credit', 8945), ('car', 7034), ('would', 6680), ('account', 6508), ('told', 5295), ('payments', 5275), ('vehicle', 4682), ('n', 4580), ('pay', 4363), ('paid', 3887), ('company', 3820), ('time', 3794), ('called', 3756)]\n",
            "Credit card or prepaid card\n",
            "[('card', 140528), ('credit', 135170), ('account', 106390), ('would', 54756), ('bank', 51051), ('payment', 50977), ('told', 42782), ('called', 40368), ('one', 40050), ('received', 38498), ('balance', 34976), ('time', 34286), ('never', 30427), ('back', 29983), ('made', 29080)]\n",
            "Credit reporting, credit repair services, or other personal consumer reports\n",
            "[('credit', 614538), ('report', 346750), ('account', 314394), ('information', 266330), ('reporting', 208704), ('accounts', 155036), ('consumer', 125502), ('dispute', 85013), ('please', 81248), ('company', 80789), ('identity', 80764), ('debt', 78870), ('payment', 78484), ('equifax', 78240), ('sent', 77696)]\n",
            "Debt collection\n",
            "[('debt', 203967), ('credit', 172454), ('account', 129845), ('collection', 86924), ('company', 82390), ('report', 76078), ('information', 73144), ('received', 60385), ('would', 53165), ('letter', 52384), ('never', 50365), ('sent', 47952), ('called', 47297), ('call', 47068), ('reporting', 45181)]\n",
            "Money transfer, virtual currency, or money service\n",
            "[('account', 36849), ('money', 25134), ('bank', 20175), ('paypal', 16743), ('would', 10272), ('funds', 10001), ('transfer', 9840), ('back', 9570), ('sent', 9456), ('told', 9010), ('email', 8902), ('transaction', 8225), ('received', 8224), ('coinbase', 8140), ('number', 7497)]\n",
            "Mortgage\n",
            "[('loan', 139387), ('mortgage', 136789), ('payment', 100463), ('would', 77208), ('home', 59369), ('payments', 57829), ('told', 54115), ('received', 52654), ('account', 52403), ('bank', 51319), ('time', 48286), ('company', 43669), ('sent', 39543), ('modification', 38765), ('get', 38440)]\n",
            "Other financial service\n",
            "[('check', 365), ('money', 337), ('would', 284), ('told', 214), ('account', 207), ('company', 204), ('credit', 199), ('bank', 196), ('loan', 154), ('called', 140), ('get', 138), ('said', 137), ('n', 136), ('order', 133), ('back', 133)]\n",
            "Payday loan, title loan, or personal loan\n",
            "[('loan', 20250), ('payment', 10932), ('account', 10723), ('would', 8547), ('credit', 8060), ('pay', 7443), ('told', 6720), ('payments', 6232), ('company', 6129), ('interest', 5924), ('paid', 5425), ('bank', 5362), ('amount', 5228), ('called', 5123), ('back', 4547)]\n",
            "Student loan\n",
            "[('loan', 50888), ('loans', 34007), ('payment', 31910), ('payments', 28996), ('navient', 23330), ('would', 23075), ('student', 20251), ('interest', 17156), ('account', 16711), ('told', 16614), ('pay', 16183), ('time', 16005), ('credit', 13487), ('amount', 11791), ('due', 11791)]\n",
            "Vehicle loan or lease\n",
            "[('payment', 18131), ('car', 17014), ('loan', 14682), ('credit', 14652), ('would', 11906), ('vehicle', 11850), ('account', 11048), ('payments', 10494), ('told', 9988), ('called', 7423), ('time', 7231), ('due', 7124), ('get', 7046), ('paid', 7015), ('pay', 6995)]\n"
          ]
        }
      ]
    },
    {
      "cell_type": "markdown",
      "metadata": {
        "id": "sIv-ldy6jSqX"
      },
      "source": [
        "\n",
        "\n",
        "> Now, we have the text that contains no stop words and the most common and most repeated words are displayed above which are top_15_common words.\n",
        "\n"
      ],
      "id": "sIv-ldy6jSqX"
    },
    {
      "cell_type": "markdown",
      "metadata": {
        "id": "j69XAYCOS_zv"
      },
      "source": [
        "### **Visualisation:**"
      ],
      "id": "j69XAYCOS_zv"
    },
    {
      "cell_type": "code",
      "metadata": {
        "colab": {
          "base_uri": "https://localhost:8080/",
          "height": 675
        },
        "id": "b3KQ08X4S5aw",
        "outputId": "1b1ed343-3a60-4f3f-dce1-ca210ee426d5"
      },
      "source": [
        "# Plotting the frequency plot\n",
        "plt.figure(figsize=(40,20))\n",
        "ax = sns.countplot(x=\"Product\", data=train_data,\n",
        "                   facecolor=(0, 0, 0, 0),\n",
        "                   linewidth=5,\n",
        "                   edgecolor=sns.color_palette(\"dark\", 8))\n",
        "\n",
        "# Setting labels and font size\n",
        "ax.set(xlabel='Type of complaints', ylabel='Number of complaints',title='Count of complaints type')\n",
        "ax.xaxis.get_label().set_fontsize(15)\n",
        "ax.yaxis.get_label().set_fontsize(15)"
      ],
      "id": "b3KQ08X4S5aw",
      "execution_count": null,
      "outputs": [
        {
          "data": {
            "image/png": "[encoded data removed]",
            "text/plain": [
              "<Figure size 2880x1440 with 1 Axes>"
            ]
          },
          "metadata": {},
          "output_type": "display_data"
        }
      ]
    },
    {
      "cell_type": "markdown",
      "metadata": {
        "id": "uUHSfsbbTUJR"
      },
      "source": [
        "## Extracting new features from the dataset:\n",
        "\n",
        "Lets extract more features from the data such as<br>\n",
        "\n",
        "Polarity: The measure which signifies the sentiment analysis of the data<br>\n",
        "Review length: Length of the complaints(number of letters and spaces)<br>\n",
        "Word Count: Number of words in the complaints<br>"
      ],
      "id": "uUHSfsbbTUJR"
    },
    {
      "cell_type": "code",
      "metadata": {
        "colab": {
          "base_uri": "https://localhost:8080/",
          "height": 330
        },
        "id": "AuWzxw5TTOh9",
        "outputId": "ba7b595f-8aff-4060-ceea-858e5eebc477"
      },
      "source": [
        "#Extracting the features from the complaints\n",
        "train_data['polarity'] = train_data['Stop_words_removed'].map(lambda text: TextBlob(text).sentiment.polarity)\n",
        "train_data['review_len'] = train_data['Stop_words_removed'].astype(str).apply(len)\n",
        "train_data['word_count'] = train_data['Stop_words_removed'].apply(lambda x: len(str(x).split()))\n",
        "\n",
        "#Plotting the distribution of the extracted feature\n",
        "plt.figure(figsize = (20, 5))\n",
        "plt.style.use('seaborn-white')\n",
        "plt.subplot(131)\n",
        "sns.distplot(train_data['polarity'])\n",
        "fig = plt.gcf()\n",
        "plt.subplot(132)\n",
        "sns.distplot(train_data['review_len'])\n",
        "fig = plt.gcf()\n",
        "plt.subplot(133)\n",
        "sns.distplot(train_data['word_count'])\n",
        "fig = plt.gcf()"
      ],
      "id": "AuWzxw5TTOh9",
      "execution_count": null,
      "outputs": [
        {
          "data": {
            "image/png": "[encoded data removed]",
            "text/plain": [
              "<Figure size 1440x360 with 3 Axes>"
            ]
          },
          "metadata": {},
          "output_type": "display_data"
        }
      ]
    },
    {
      "cell_type": "markdown",
      "metadata": {
        "id": "_2v1sh3QYKuE"
      },
      "source": [
        "##### Insights:\n",
        "- Most of the polarity are neutral. There are some negative and positive sentimentts.\n",
        "- The word count is between 0-3500.\n",
        "- The length of the complaints are between 0-5000 and few near 25000 words which could be an article."
      ],
      "id": "_2v1sh3QYKuE"
    },
    {
      "cell_type": "markdown",
      "metadata": {
        "id": "wVfVJO7GYtzw"
      },
      "source": [
        "## N-gram analysis:\n",
        "### Top 20 words in complaints:\n",
        "Let's have a look at the top 20 words from the complaints which could give us a brief idea on what type of complaints that are popular in our dataset"
      ],
      "id": "wVfVJO7GYtzw"
    },
    {
      "cell_type": "code",
      "metadata": {
        "colab": {
          "base_uri": "https://localhost:8080/",
          "height": 882
        },
        "id": "bpOeCUY5Y2fu",
        "outputId": "df3325a7-58ad-4d2f-f4c9-a97d2b6e8870"
      },
      "source": [
        "#Function to get top n words\n",
        "def get_top_n_words(corpus, n=None):\n",
        "    vector = CountVectorizer().fit(corpus)\n",
        "    bag_of_words = vector.transform(corpus)\n",
        "    sum_words = bag_of_words.sum(axis=0) \n",
        "    words_freq = [(word, sum_words[0, idx]) for word, idx in vector.vocabulary_.items()]\n",
        "    words_freq =sorted(words_freq, key = lambda x: x[1], reverse=True)\n",
        "    return words_freq[:n]\n",
        "\n",
        "#Calling function and return only top 20 words\n",
        "common_words = get_top_n_words(train_data['Stop_words_removed'], 20)\n",
        "\n",
        "#Printing the word and frequency\n",
        "for word, freq in common_words:\n",
        "    print(word, freq)\n",
        "\n",
        "#Creating the dataframe of word and frequency\n",
        "df1 = pd.DataFrame(common_words, columns = ['complaints' , 'count'])\n",
        "\n",
        "#Group by words and plot the sum\n",
        "df1.groupby('complaints').sum()['count'].sort_values(ascending=False).iplot(kind='bar', yTitle='Count', linecolor='black', title='Top 20 words in complaints')"
      ],
      "id": "bpOeCUY5Y2fu",
      "execution_count": null,
      "outputs": [
        {
          "name": "stdout",
          "output_type": "stream",
          "text": [
            "credit 1027220\n",
            "account 824582\n",
            "report 474733\n",
            "information 437623\n",
            "payment 357109\n",
            "would 352763\n",
            "loan 320081\n",
            "debt 312900\n",
            "bank 287160\n",
            "received 276855\n",
            "reporting 274894\n",
            "company 268089\n",
            "told 266975\n",
            "card 245470\n",
            "time 237942\n",
            "never 229495\n",
            "called 224820\n",
            "sent 224077\n",
            "accounts 213390\n",
            "letter 206799\n"
          ]
        },
        {
          "data": {
            "application/vnd.plotly.v1+json": {
              "config": {
                "linkText": "Export to plot.ly",
                "plotlyServerURL": "https://plot.ly",
                "showLink": true
              },
              "data": [
                {
                  "marker": {
                    "color": "rgba(255, 153, 51, 0.6)",
                    "line": {
                      "color": "rgba(255, 153, 51, 1.0)",
                      "width": 1
                    }
                  },
                  "name": "count",
                  "orientation": "v",
                  "text": "",
                  "type": "bar",
                  "x": [
                    "credit",
                    "account",
                    "report",
                    "information",
                    "payment",
                    "would",
                    "loan",
                    "debt",
                    "bank",
                    "received",
                    "reporting",
                    "company",
                    "told",
                    "card",
                    "time",
                    "never",
                    "called",
                    "sent",
                    "accounts",
                    "letter"
                  ],
                  "y": [
                    1027220,
                    824582,
                    474733,
                    437623,
                    357109,
                    352763,
                    320081,
                    312900,
                    287160,
                    276855,
                    274894,
                    268089,
                    266975,
                    245470,
                    237942,
                    229495,
                    224820,
                    224077,
                    213390,
                    206799
                  ]
                }
              ],
              "layout": {
                "legend": {
                  "bgcolor": "#F5F6F9",
                  "font": {
                    "color": "#4D5663"
                  }
                },
                "paper_bgcolor": "#F5F6F9",
                "plot_bgcolor": "#F5F6F9",
                "template": {
                  "data": {
                    "bar": [
                      {
                        "error_x": {
                          "color": "#2a3f5f"
                        },
                        "error_y": {
                          "color": "#2a3f5f"
                        },
                        "marker": {
                          "line": {
                            "color": "#E5ECF6",
                            "width": 0.5
                          }
                        },
                        "type": "bar"
                      }
                    ],
                    "barpolar": [
                      {
                        "marker": {
                          "line": {
                            "color": "#E5ECF6",
                            "width": 0.5
                          }
                        },
                        "type": "barpolar"
                      }
                    ],
                    "carpet": [
                      {
                        "aaxis": {
                          "endlinecolor": "#2a3f5f",
                          "gridcolor": "white",
                          "linecolor": "white",
                          "minorgridcolor": "white",
                          "startlinecolor": "#2a3f5f"
                        },
                        "baxis": {
                          "endlinecolor": "#2a3f5f",
                          "gridcolor": "white",
                          "linecolor": "white",
                          "minorgridcolor": "white",
                          "startlinecolor": "#2a3f5f"
                        },
                        "type": "carpet"
                      }
                    ],
                    "choropleth": [
                      {
                        "colorbar": {
                          "outlinewidth": 0,
                          "ticks": ""
                        },
                        "type": "choropleth"
                      }
                    ],
                    "contour": [
                      {
                        "colorbar": {
                          "outlinewidth": 0,
                          "ticks": ""
                        },
                        "colorscale": [
                          [
                            0,
                            "#0d0887"
                          ],
                          [
                            0.1111111111111111,
                            "#46039f"
                          ],
                          [
                            0.2222222222222222,
                            "#7201a8"
                          ],
                          [
                            0.3333333333333333,
                            "#9c179e"
                          ],
                          [
                            0.4444444444444444,
                            "#bd3786"
                          ],
                          [
                            0.5555555555555556,
                            "#d8576b"
                          ],
                          [
                            0.6666666666666666,
                            "#ed7953"
                          ],
                          [
                            0.7777777777777778,
                            "#fb9f3a"
                          ],
                          [
                            0.8888888888888888,
                            "#fdca26"
                          ],
                          [
                            1,
                            "#f0f921"
                          ]
                        ],
                        "type": "contour"
                      }
                    ],
                    "contourcarpet": [
                      {
                        "colorbar": {
                          "outlinewidth": 0,
                          "ticks": ""
                        },
                        "type": "contourcarpet"
                      }
                    ],
                    "heatmap": [
                      {
                        "colorbar": {
                          "outlinewidth": 0,
                          "ticks": ""
                        },
                        "colorscale": [
                          [
                            0,
                            "#0d0887"
                          ],
                          [
                            0.1111111111111111,
                            "#46039f"
                          ],
                          [
                            0.2222222222222222,
                            "#7201a8"
                          ],
                          [
                            0.3333333333333333,
                            "#9c179e"
                          ],
                          [
                            0.4444444444444444,
                            "#bd3786"
                          ],
                          [
                            0.5555555555555556,
                            "#d8576b"
                          ],
                          [
                            0.6666666666666666,
                            "#ed7953"
                          ],
                          [
                            0.7777777777777778,
                            "#fb9f3a"
                          ],
                          [
                            0.8888888888888888,
                            "#fdca26"
                          ],
                          [
                            1,
                            "#f0f921"
                          ]
                        ],
                        "type": "heatmap"
                      }
                    ],
                    "heatmapgl": [
                      {
                        "colorbar": {
                          "outlinewidth": 0,
                          "ticks": ""
                        },
                        "colorscale": [
                          [
                            0,
                            "#0d0887"
                          ],
                          [
                            0.1111111111111111,
                            "#46039f"
                          ],
                          [
                            0.2222222222222222,
                            "#7201a8"
                          ],
                          [
                            0.3333333333333333,
                            "#9c179e"
                          ],
                          [
                            0.4444444444444444,
                            "#bd3786"
                          ],
                          [
                            0.5555555555555556,
                            "#d8576b"
                          ],
                          [
                            0.6666666666666666,
                            "#ed7953"
                          ],
                          [
                            0.7777777777777778,
                            "#fb9f3a"
                          ],
                          [
                            0.8888888888888888,
                            "#fdca26"
                          ],
                          [
                            1,
                            "#f0f921"
                          ]
                        ],
                        "type": "heatmapgl"
                      }
                    ],
                    "histogram": [
                      {
                        "marker": {
                          "colorbar": {
                            "outlinewidth": 0,
                            "ticks": ""
                          }
                        },
                        "type": "histogram"
                      }
                    ],
                    "histogram2d": [
                      {
                        "colorbar": {
                          "outlinewidth": 0,
                          "ticks": ""
                        },
                        "colorscale": [
                          [
                            0,
                            "#0d0887"
                          ],
                          [
                            0.1111111111111111,
                            "#46039f"
                          ],
                          [
                            0.2222222222222222,
                            "#7201a8"
                          ],
                          [
                            0.3333333333333333,
                            "#9c179e"
                          ],
                          [
                            0.4444444444444444,
                            "#bd3786"
                          ],
                          [
                            0.5555555555555556,
                            "#d8576b"
                          ],
                          [
                            0.6666666666666666,
                            "#ed7953"
                          ],
                          [
                            0.7777777777777778,
                            "#fb9f3a"
                          ],
                          [
                            0.8888888888888888,
                            "#fdca26"
                          ],
                          [
                            1,
                            "#f0f921"
                          ]
                        ],
                        "type": "histogram2d"
                      }
                    ],
                    "histogram2dcontour": [
                      {
                        "colorbar": {
                          "outlinewidth": 0,
                          "ticks": ""
                        },
                        "colorscale": [
                          [
                            0,
                            "#0d0887"
                          ],
                          [
                            0.1111111111111111,
                            "#46039f"
                          ],
                          [
                            0.2222222222222222,
                            "#7201a8"
                          ],
                          [
                            0.3333333333333333,
                            "#9c179e"
                          ],
                          [
                            0.4444444444444444,
                            "#bd3786"
                          ],
                          [
                            0.5555555555555556,
                            "#d8576b"
                          ],
                          [
                            0.6666666666666666,
                            "#ed7953"
                          ],
                          [
                            0.7777777777777778,
                            "#fb9f3a"
                          ],
                          [
                            0.8888888888888888,
                            "#fdca26"
                          ],
                          [
                            1,
                            "#f0f921"
                          ]
                        ],
                        "type": "histogram2dcontour"
                      }
                    ],
                    "mesh3d": [
                      {
                        "colorbar": {
                          "outlinewidth": 0,
                          "ticks": ""
                        },
                        "type": "mesh3d"
                      }
                    ],
                    "parcoords": [
                      {
                        "line": {
                          "colorbar": {
                            "outlinewidth": 0,
                            "ticks": ""
                          }
                        },
                        "type": "parcoords"
                      }
                    ],
                    "pie": [
                      {
                        "automargin": true,
                        "type": "pie"
                      }
                    ],
                    "scatter": [
                      {
                        "marker": {
                          "colorbar": {
                            "outlinewidth": 0,
                            "ticks": ""
                          }
                        },
                        "type": "scatter"
                      }
                    ],
                    "scatter3d": [
                      {
                        "line": {
                          "colorbar": {
                            "outlinewidth": 0,
                            "ticks": ""
                          }
                        },
                        "marker": {
                          "colorbar": {
                            "outlinewidth": 0,
                            "ticks": ""
                          }
                        },
                        "type": "scatter3d"
                      }
                    ],
                    "scattercarpet": [
                      {
                        "marker": {
                          "colorbar": {
                            "outlinewidth": 0,
                            "ticks": ""
                          }
                        },
                        "type": "scattercarpet"
                      }
                    ],
                    "scattergeo": [
                      {
                        "marker": {
                          "colorbar": {
                            "outlinewidth": 0,
                            "ticks": ""
                          }
                        },
                        "type": "scattergeo"
                      }
                    ],
                    "scattergl": [
                      {
                        "marker": {
                          "colorbar": {
                            "outlinewidth": 0,
                            "ticks": ""
                          }
                        },
                        "type": "scattergl"
                      }
                    ],
                    "scattermapbox": [
                      {
                        "marker": {
                          "colorbar": {
                            "outlinewidth": 0,
                            "ticks": ""
                          }
                        },
                        "type": "scattermapbox"
                      }
                    ],
                    "scatterpolar": [
                      {
                        "marker": {
                          "colorbar": {
                            "outlinewidth": 0,
                            "ticks": ""
                          }
                        },
                        "type": "scatterpolar"
                      }
                    ],
                    "scatterpolargl": [
                      {
                        "marker": {
                          "colorbar": {
                            "outlinewidth": 0,
                            "ticks": ""
                          }
                        },
                        "type": "scatterpolargl"
                      }
                    ],
                    "scatterternary": [
                      {
                        "marker": {
                          "colorbar": {
                            "outlinewidth": 0,
                            "ticks": ""
                          }
                        },
                        "type": "scatterternary"
                      }
                    ],
                    "surface": [
                      {
                        "colorbar": {
                          "outlinewidth": 0,
                          "ticks": ""
                        },
                        "colorscale": [
                          [
                            0,
                            "#0d0887"
                          ],
                          [
                            0.1111111111111111,
                            "#46039f"
                          ],
                          [
                            0.2222222222222222,
                            "#7201a8"
                          ],
                          [
                            0.3333333333333333,
                            "#9c179e"
                          ],
                          [
                            0.4444444444444444,
                            "#bd3786"
                          ],
                          [
                            0.5555555555555556,
                            "#d8576b"
                          ],
                          [
                            0.6666666666666666,
                            "#ed7953"
                          ],
                          [
                            0.7777777777777778,
                            "#fb9f3a"
                          ],
                          [
                            0.8888888888888888,
                            "#fdca26"
                          ],
                          [
                            1,
                            "#f0f921"
                          ]
                        ],
                        "type": "surface"
                      }
                    ],
                    "table": [
                      {
                        "cells": {
                          "fill": {
                            "color": "#EBF0F8"
                          },
                          "line": {
                            "color": "white"
                          }
                        },
                        "header": {
                          "fill": {
                            "color": "#C8D4E3"
                          },
                          "line": {
                            "color": "white"
                          }
                        },
                        "type": "table"
                      }
                    ]
                  },
                  "layout": {
                    "annotationdefaults": {
                      "arrowcolor": "#2a3f5f",
                      "arrowhead": 0,
                      "arrowwidth": 1
                    },
                    "coloraxis": {
                      "colorbar": {
                        "outlinewidth": 0,
                        "ticks": ""
                      }
                    },
                    "colorscale": {
                      "diverging": [
                        [
                          0,
                          "#8e0152"
                        ],
                        [
                          0.1,
                          "#c51b7d"
                        ],
                        [
                          0.2,
                          "#de77ae"
                        ],
                        [
                          0.3,
                          "#f1b6da"
                        ],
                        [
                          0.4,
                          "#fde0ef"
                        ],
                        [
                          0.5,
                          "#f7f7f7"
                        ],
                        [
                          0.6,
                          "#e6f5d0"
                        ],
                        [
                          0.7,
                          "#b8e186"
                        ],
                        [
                          0.8,
                          "#7fbc41"
                        ],
                        [
                          0.9,
                          "#4d9221"
                        ],
                        [
                          1,
                          "#276419"
                        ]
                      ],
                      "sequential": [
                        [
                          0,
                          "#0d0887"
                        ],
                        [
                          0.1111111111111111,
                          "#46039f"
                        ],
                        [
                          0.2222222222222222,
                          "#7201a8"
                        ],
                        [
                          0.3333333333333333,
                          "#9c179e"
                        ],
                        [
                          0.4444444444444444,
                          "#bd3786"
                        ],
                        [
                          0.5555555555555556,
                          "#d8576b"
                        ],
                        [
                          0.6666666666666666,
                          "#ed7953"
                        ],
                        [
                          0.7777777777777778,
                          "#fb9f3a"
                        ],
                        [
                          0.8888888888888888,
                          "#fdca26"
                        ],
                        [
                          1,
                          "#f0f921"
                        ]
                      ],
                      "sequentialminus": [
                        [
                          0,
                          "#0d0887"
                        ],
                        [
                          0.1111111111111111,
                          "#46039f"
                        ],
                        [
                          0.2222222222222222,
                          "#7201a8"
                        ],
                        [
                          0.3333333333333333,
                          "#9c179e"
                        ],
                        [
                          0.4444444444444444,
                          "#bd3786"
                        ],
                        [
                          0.5555555555555556,
                          "#d8576b"
                        ],
                        [
                          0.6666666666666666,
                          "#ed7953"
                        ],
                        [
                          0.7777777777777778,
                          "#fb9f3a"
                        ],
                        [
                          0.8888888888888888,
                          "#fdca26"
                        ],
                        [
                          1,
                          "#f0f921"
                        ]
                      ]
                    },
                    "colorway": [
                      "#636efa",
                      "#EF553B",
                      "#00cc96",
                      "#ab63fa",
                      "#FFA15A",
                      "#19d3f3",
                      "#FF6692",
                      "#B6E880",
                      "#FF97FF",
                      "#FECB52"
                    ],
                    "font": {
                      "color": "#2a3f5f"
                    },
                    "geo": {
                      "bgcolor": "white",
                      "lakecolor": "white",
                      "landcolor": "#E5ECF6",
                      "showlakes": true,
                      "showland": true,
                      "subunitcolor": "white"
                    },
                    "hoverlabel": {
                      "align": "left"
                    },
                    "hovermode": "closest",
                    "mapbox": {
                      "style": "light"
                    },
                    "paper_bgcolor": "white",
                    "plot_bgcolor": "#E5ECF6",
                    "polar": {
                      "angularaxis": {
                        "gridcolor": "white",
                        "linecolor": "white",
                        "ticks": ""
                      },
                      "bgcolor": "#E5ECF6",
                      "radialaxis": {
                        "gridcolor": "white",
                        "linecolor": "white",
                        "ticks": ""
                      }
                    },
                    "scene": {
                      "xaxis": {
                        "backgroundcolor": "#E5ECF6",
                        "gridcolor": "white",
                        "gridwidth": 2,
                        "linecolor": "white",
                        "showbackground": true,
                        "ticks": "",
                        "zerolinecolor": "white"
                      },
                      "yaxis": {
                        "backgroundcolor": "#E5ECF6",
                        "gridcolor": "white",
                        "gridwidth": 2,
                        "linecolor": "white",
                        "showbackground": true,
                        "ticks": "",
                        "zerolinecolor": "white"
                      },
                      "zaxis": {
                        "backgroundcolor": "#E5ECF6",
                        "gridcolor": "white",
                        "gridwidth": 2,
                        "linecolor": "white",
                        "showbackground": true,
                        "ticks": "",
                        "zerolinecolor": "white"
                      }
                    },
                    "shapedefaults": {
                      "line": {
                        "color": "#2a3f5f"
                      }
                    },
                    "ternary": {
                      "aaxis": {
                        "gridcolor": "white",
                        "linecolor": "white",
                        "ticks": ""
                      },
                      "baxis": {
                        "gridcolor": "white",
                        "linecolor": "white",
                        "ticks": ""
                      },
                      "bgcolor": "#E5ECF6",
                      "caxis": {
                        "gridcolor": "white",
                        "linecolor": "white",
                        "ticks": ""
                      }
                    },
                    "title": {
                      "x": 0.05
                    },
                    "xaxis": {
                      "automargin": true,
                      "gridcolor": "white",
                      "linecolor": "white",
                      "ticks": "",
                      "title": {
                        "standoff": 15
                      },
                      "zerolinecolor": "white",
                      "zerolinewidth": 2
                    },
                    "yaxis": {
                      "automargin": true,
                      "gridcolor": "white",
                      "linecolor": "white",
                      "ticks": "",
                      "title": {
                        "standoff": 15
                      },
                      "zerolinecolor": "white",
                      "zerolinewidth": 2
                    }
                  }
                },
                "title": {
                  "font": {
                    "color": "#4D5663"
                  },
                  "text": "Top 20 words in complaints"
                },
                "xaxis": {
                  "gridcolor": "#E1E5ED",
                  "linecolor": "black",
                  "showgrid": true,
                  "tickfont": {
                    "color": "#4D5663"
                  },
                  "title": {
                    "font": {
                      "color": "#4D5663"
                    },
                    "text": ""
                  },
                  "zerolinecolor": "#E1E5ED"
                },
                "yaxis": {
                  "gridcolor": "#E1E5ED",
                  "linecolor": "black",
                  "showgrid": true,
                  "tickfont": {
                    "color": "#4D5663"
                  },
                  "title": {
                    "font": {
                      "color": "#4D5663"
                    },
                    "text": "Count"
                  },
                  "zerolinecolor": "#E1E5ED"
                }
              }
            },
            "text/html": [
              "<div>\n",
              "        \n",
              "        \n",
              "            <div id=\"ea294017-0d08-4b58-8541-1d89e1f5dc86\" class=\"plotly-graph-div\" style=\"height:525px; width:100%;\"></div>\n",
              "            <script type=\"text/javascript\">\n",
              "                require([\"plotly\"], function(Plotly) {\n",
              "                    window.PLOTLYENV=window.PLOTLYENV || {};\n",
              "                    window.PLOTLYENV.BASE_URL='https://plot.ly';\n",
              "                    \n",
              "                if (document.getElementById(\"ea294017-0d08-4b58-8541-1d89e1f5dc86\")) {\n",
              "                    Plotly.newPlot(\n",
              "                        'ea294017-0d08-4b58-8541-1d89e1f5dc86',\n",
              "                        [{\"marker\": {\"color\": \"rgba(255, 153, 51, 0.6)\", \"line\": {\"color\": \"rgba(255, 153, 51, 1.0)\", \"width\": 1}}, \"name\": \"count\", \"orientation\": \"v\", \"text\": \"\", \"type\": \"bar\", \"x\": [\"credit\", \"account\", \"report\", \"information\", \"payment\", \"would\", \"loan\", \"debt\", \"bank\", \"received\", \"reporting\", \"company\", \"told\", \"card\", \"time\", \"never\", \"called\", \"sent\", \"accounts\", \"letter\"], \"y\": [1027220, 824582, 474733, 437623, 357109, 352763, 320081, 312900, 287160, 276855, 274894, 268089, 266975, 245470, 237942, 229495, 224820, 224077, 213390, 206799]}],\n",
              "                        {\"legend\": {\"bgcolor\": \"#F5F6F9\", \"font\": {\"color\": \"#4D5663\"}}, \"paper_bgcolor\": \"#F5F6F9\", \"plot_bgcolor\": \"#F5F6F9\", \"template\": {\"data\": {\"bar\": [{\"error_x\": {\"color\": \"#2a3f5f\"}, \"error_y\": {\"color\": \"#2a3f5f\"}, \"marker\": {\"line\": {\"color\": \"#E5ECF6\", \"width\": 0.5}}, \"type\": \"bar\"}], \"barpolar\": [{\"marker\": {\"line\": {\"color\": \"#E5ECF6\", \"width\": 0.5}}, \"type\": \"barpolar\"}], \"carpet\": [{\"aaxis\": {\"endlinecolor\": \"#2a3f5f\", \"gridcolor\": \"white\", \"linecolor\": \"white\", \"minorgridcolor\": \"white\", \"startlinecolor\": \"#2a3f5f\"}, \"baxis\": {\"endlinecolor\": \"#2a3f5f\", \"gridcolor\": \"white\", \"linecolor\": \"white\", \"minorgridcolor\": \"white\", \"startlinecolor\": \"#2a3f5f\"}, \"type\": \"carpet\"}], \"choropleth\": [{\"colorbar\": {\"outlinewidth\": 0, \"ticks\": \"\"}, \"type\": \"choropleth\"}], \"contour\": [{\"colorbar\": {\"outlinewidth\": 0, \"ticks\": \"\"}, \"colorscale\": [[0.0, \"#0d0887\"], [0.1111111111111111, \"#46039f\"], [0.2222222222222222, \"#7201a8\"], [0.3333333333333333, \"#9c179e\"], [0.4444444444444444, \"#bd3786\"], [0.5555555555555556, \"#d8576b\"], [0.6666666666666666, \"#ed7953\"], [0.7777777777777778, \"#fb9f3a\"], [0.8888888888888888, \"#fdca26\"], [1.0, \"#f0f921\"]], \"type\": \"contour\"}], \"contourcarpet\": [{\"colorbar\": {\"outlinewidth\": 0, \"ticks\": \"\"}, \"type\": \"contourcarpet\"}], \"heatmap\": [{\"colorbar\": {\"outlinewidth\": 0, \"ticks\": \"\"}, \"colorscale\": [[0.0, \"#0d0887\"], [0.1111111111111111, \"#46039f\"], [0.2222222222222222, \"#7201a8\"], [0.3333333333333333, \"#9c179e\"], [0.4444444444444444, \"#bd3786\"], [0.5555555555555556, \"#d8576b\"], [0.6666666666666666, \"#ed7953\"], [0.7777777777777778, \"#fb9f3a\"], [0.8888888888888888, \"#fdca26\"], [1.0, \"#f0f921\"]], \"type\": \"heatmap\"}], \"heatmapgl\": [{\"colorbar\": {\"outlinewidth\": 0, \"ticks\": \"\"}, \"colorscale\": [[0.0, \"#0d0887\"], [0.1111111111111111, \"#46039f\"], [0.2222222222222222, \"#7201a8\"], [0.3333333333333333, \"#9c179e\"], [0.4444444444444444, \"#bd3786\"], [0.5555555555555556, \"#d8576b\"], [0.6666666666666666, \"#ed7953\"], [0.7777777777777778, \"#fb9f3a\"], [0.8888888888888888, \"#fdca26\"], [1.0, \"#f0f921\"]], \"type\": \"heatmapgl\"}], \"histogram\": [{\"marker\": {\"colorbar\": {\"outlinewidth\": 0, \"ticks\": \"\"}}, \"type\": \"histogram\"}], \"histogram2d\": [{\"colorbar\": {\"outlinewidth\": 0, \"ticks\": \"\"}, \"colorscale\": [[0.0, \"#0d0887\"], [0.1111111111111111, \"#46039f\"], [0.2222222222222222, \"#7201a8\"], [0.3333333333333333, \"#9c179e\"], [0.4444444444444444, \"#bd3786\"], [0.5555555555555556, \"#d8576b\"], [0.6666666666666666, \"#ed7953\"], [0.7777777777777778, \"#fb9f3a\"], [0.8888888888888888, \"#fdca26\"], [1.0, \"#f0f921\"]], \"type\": \"histogram2d\"}], \"histogram2dcontour\": [{\"colorbar\": {\"outlinewidth\": 0, \"ticks\": \"\"}, \"colorscale\": [[0.0, \"#0d0887\"], [0.1111111111111111, \"#46039f\"], [0.2222222222222222, \"#7201a8\"], [0.3333333333333333, \"#9c179e\"], [0.4444444444444444, \"#bd3786\"], [0.5555555555555556, \"#d8576b\"], [0.6666666666666666, \"#ed7953\"], [0.7777777777777778, \"#fb9f3a\"], [0.8888888888888888, \"#fdca26\"], [1.0, \"#f0f921\"]], \"type\": \"histogram2dcontour\"}], \"mesh3d\": [{\"colorbar\": {\"outlinewidth\": 0, \"ticks\": \"\"}, \"type\": \"mesh3d\"}], \"parcoords\": [{\"line\": {\"colorbar\": {\"outlinewidth\": 0, \"ticks\": \"\"}}, \"type\": \"parcoords\"}], \"pie\": [{\"automargin\": true, \"type\": \"pie\"}], \"scatter\": [{\"marker\": {\"colorbar\": {\"outlinewidth\": 0, \"ticks\": \"\"}}, \"type\": \"scatter\"}], \"scatter3d\": [{\"line\": {\"colorbar\": {\"outlinewidth\": 0, \"ticks\": \"\"}}, \"marker\": {\"colorbar\": {\"outlinewidth\": 0, \"ticks\": \"\"}}, \"type\": \"scatter3d\"}], \"scattercarpet\": [{\"marker\": {\"colorbar\": {\"outlinewidth\": 0, \"ticks\": \"\"}}, \"type\": \"scattercarpet\"}], \"scattergeo\": [{\"marker\": {\"colorbar\": {\"outlinewidth\": 0, \"ticks\": \"\"}}, \"type\": \"scattergeo\"}], \"scattergl\": [{\"marker\": {\"colorbar\": {\"outlinewidth\": 0, \"ticks\": \"\"}}, \"type\": \"scattergl\"}], \"scattermapbox\": [{\"marker\": {\"colorbar\": {\"outlinewidth\": 0, \"ticks\": \"\"}}, \"type\": \"scattermapbox\"}], \"scatterpolar\": [{\"marker\": {\"colorbar\": {\"outlinewidth\": 0, \"ticks\": \"\"}}, \"type\": \"scatterpolar\"}], \"scatterpolargl\": [{\"marker\": {\"colorbar\": {\"outlinewidth\": 0, \"ticks\": \"\"}}, \"type\": \"scatterpolargl\"}], \"scatterternary\": [{\"marker\": {\"colorbar\": {\"outlinewidth\": 0, \"ticks\": \"\"}}, \"type\": \"scatterternary\"}], \"surface\": [{\"colorbar\": {\"outlinewidth\": 0, \"ticks\": \"\"}, \"colorscale\": [[0.0, \"#0d0887\"], [0.1111111111111111, \"#46039f\"], [0.2222222222222222, \"#7201a8\"], [0.3333333333333333, \"#9c179e\"], [0.4444444444444444, \"#bd3786\"], [0.5555555555555556, \"#d8576b\"], [0.6666666666666666, \"#ed7953\"], [0.7777777777777778, \"#fb9f3a\"], [0.8888888888888888, \"#fdca26\"], [1.0, \"#f0f921\"]], \"type\": \"surface\"}], \"table\": [{\"cells\": {\"fill\": {\"color\": \"#EBF0F8\"}, \"line\": {\"color\": \"white\"}}, \"header\": {\"fill\": {\"color\": \"#C8D4E3\"}, \"line\": {\"color\": \"white\"}}, \"type\": \"table\"}]}, \"layout\": {\"annotationdefaults\": {\"arrowcolor\": \"#2a3f5f\", \"arrowhead\": 0, \"arrowwidth\": 1}, \"coloraxis\": {\"colorbar\": {\"outlinewidth\": 0, \"ticks\": \"\"}}, \"colorscale\": {\"diverging\": [[0, \"#8e0152\"], [0.1, \"#c51b7d\"], [0.2, \"#de77ae\"], [0.3, \"#f1b6da\"], [0.4, \"#fde0ef\"], [0.5, \"#f7f7f7\"], [0.6, \"#e6f5d0\"], [0.7, \"#b8e186\"], [0.8, \"#7fbc41\"], [0.9, \"#4d9221\"], [1, \"#276419\"]], \"sequential\": [[0.0, \"#0d0887\"], [0.1111111111111111, \"#46039f\"], [0.2222222222222222, \"#7201a8\"], [0.3333333333333333, \"#9c179e\"], [0.4444444444444444, \"#bd3786\"], [0.5555555555555556, \"#d8576b\"], [0.6666666666666666, \"#ed7953\"], [0.7777777777777778, \"#fb9f3a\"], [0.8888888888888888, \"#fdca26\"], [1.0, \"#f0f921\"]], \"sequentialminus\": [[0.0, \"#0d0887\"], [0.1111111111111111, \"#46039f\"], [0.2222222222222222, \"#7201a8\"], [0.3333333333333333, \"#9c179e\"], [0.4444444444444444, \"#bd3786\"], [0.5555555555555556, \"#d8576b\"], [0.6666666666666666, \"#ed7953\"], [0.7777777777777778, \"#fb9f3a\"], [0.8888888888888888, \"#fdca26\"], [1.0, \"#f0f921\"]]}, \"colorway\": [\"#636efa\", \"#EF553B\", \"#00cc96\", \"#ab63fa\", \"#FFA15A\", \"#19d3f3\", \"#FF6692\", \"#B6E880\", \"#FF97FF\", \"#FECB52\"], \"font\": {\"color\": \"#2a3f5f\"}, \"geo\": {\"bgcolor\": \"white\", \"lakecolor\": \"white\", \"landcolor\": \"#E5ECF6\", \"showlakes\": true, \"showland\": true, \"subunitcolor\": \"white\"}, \"hoverlabel\": {\"align\": \"left\"}, \"hovermode\": \"closest\", \"mapbox\": {\"style\": \"light\"}, \"paper_bgcolor\": \"white\", \"plot_bgcolor\": \"#E5ECF6\", \"polar\": {\"angularaxis\": {\"gridcolor\": \"white\", \"linecolor\": \"white\", \"ticks\": \"\"}, \"bgcolor\": \"#E5ECF6\", \"radialaxis\": {\"gridcolor\": \"white\", \"linecolor\": \"white\", \"ticks\": \"\"}}, \"scene\": {\"xaxis\": {\"backgroundcolor\": \"#E5ECF6\", \"gridcolor\": \"white\", \"gridwidth\": 2, \"linecolor\": \"white\", \"showbackground\": true, \"ticks\": \"\", \"zerolinecolor\": \"white\"}, \"yaxis\": {\"backgroundcolor\": \"#E5ECF6\", \"gridcolor\": \"white\", \"gridwidth\": 2, \"linecolor\": \"white\", \"showbackground\": true, \"ticks\": \"\", \"zerolinecolor\": \"white\"}, \"zaxis\": {\"backgroundcolor\": \"#E5ECF6\", \"gridcolor\": \"white\", \"gridwidth\": 2, \"linecolor\": \"white\", \"showbackground\": true, \"ticks\": \"\", \"zerolinecolor\": \"white\"}}, \"shapedefaults\": {\"line\": {\"color\": \"#2a3f5f\"}}, \"ternary\": {\"aaxis\": {\"gridcolor\": \"white\", \"linecolor\": \"white\", \"ticks\": \"\"}, \"baxis\": {\"gridcolor\": \"white\", \"linecolor\": \"white\", \"ticks\": \"\"}, \"bgcolor\": \"#E5ECF6\", \"caxis\": {\"gridcolor\": \"white\", \"linecolor\": \"white\", \"ticks\": \"\"}}, \"title\": {\"x\": 0.05}, \"xaxis\": {\"automargin\": true, \"gridcolor\": \"white\", \"linecolor\": \"white\", \"ticks\": \"\", \"title\": {\"standoff\": 15}, \"zerolinecolor\": \"white\", \"zerolinewidth\": 2}, \"yaxis\": {\"automargin\": true, \"gridcolor\": \"white\", \"linecolor\": \"white\", \"ticks\": \"\", \"title\": {\"standoff\": 15}, \"zerolinecolor\": \"white\", \"zerolinewidth\": 2}}}, \"title\": {\"font\": {\"color\": \"#4D5663\"}, \"text\": \"Top 20 words in complaints\"}, \"xaxis\": {\"gridcolor\": \"#E1E5ED\", \"linecolor\": \"black\", \"showgrid\": true, \"tickfont\": {\"color\": \"#4D5663\"}, \"title\": {\"font\": {\"color\": \"#4D5663\"}, \"text\": \"\"}, \"zerolinecolor\": \"#E1E5ED\"}, \"yaxis\": {\"gridcolor\": \"#E1E5ED\", \"linecolor\": \"black\", \"showgrid\": true, \"tickfont\": {\"color\": \"#4D5663\"}, \"title\": {\"font\": {\"color\": \"#4D5663\"}, \"text\": \"Count\"}, \"zerolinecolor\": \"#E1E5ED\"}},\n",
              "                        {\"showLink\": true, \"linkText\": \"Export to plot.ly\", \"plotlyServerURL\": \"https://plot.ly\", \"responsive\": true}\n",
              "                    ).then(function(){\n",
              "                            \n",
              "var gd = document.getElementById('ea294017-0d08-4b58-8541-1d89e1f5dc86');\n",
              "var x = new MutationObserver(function (mutations, observer) {{\n",
              "        var display = window.getComputedStyle(gd).display;\n",
              "        if (!display || display === 'none') {{\n",
              "            console.log([gd, 'removed!']);\n",
              "            Plotly.purge(gd);\n",
              "            observer.disconnect();\n",
              "        }}\n",
              "}});\n",
              "\n",
              "// Listen for the removal of the full notebook cells\n",
              "var notebookContainer = gd.closest('#notebook-container');\n",
              "if (notebookContainer) {{\n",
              "    x.observe(notebookContainer, {childList: true});\n",
              "}}\n",
              "\n",
              "// Listen for the clearing of the current output cell\n",
              "var outputEl = gd.closest('.output');\n",
              "if (outputEl) {{\n",
              "    x.observe(outputEl, {childList: true});\n",
              "}}\n",
              "\n",
              "                        })\n",
              "                };\n",
              "                });\n",
              "            </script>\n",
              "        </div>"
            ]
          },
          "metadata": {},
          "output_type": "display_data"
        }
      ]
    },
    {
      "cell_type": "markdown",
      "metadata": {
        "id": "2hYReCs-k0Xo"
      },
      "source": [
        "##### Insights:\n",
        "- All the top 20 words are about the credit, debit and accounts.\n",
        "- Especially it's about credit and debit followed by accounts\n"
      ],
      "id": "2hYReCs-k0Xo"
    },
    {
      "cell_type": "code",
      "metadata": {
        "colab": {
          "base_uri": "https://localhost:8080/",
          "height": 882
        },
        "id": "gmx7ka-rhtlx",
        "outputId": "84f99c30-cd4c-4b36-dbb6-abdea9f0456c"
      },
      "source": [
        "#Function to get top n words\n",
        "def get_top_n_words(corpus, n=None):\n",
        "    vector = CountVectorizer(ngram_range=(2, 2)).fit(corpus)\n",
        "    bag_of_words = vector.transform(corpus)\n",
        "    sum_words = bag_of_words.sum(axis=0) \n",
        "    words_freq = [(word, sum_words[0, idx]) for word, idx in vector.vocabulary_.items()]\n",
        "    words_freq =sorted(words_freq, key = lambda x: x[1], reverse=True)\n",
        "    return words_freq[:n]\n",
        "\n",
        "#Calling function and return only top 20 words\n",
        "common_words = get_top_n_words(train_data['Stop_words_removed'], 20)\n",
        "\n",
        "#Printing the word and frequency\n",
        "for word, freq in common_words:\n",
        "    print(word, freq)\n",
        "\n",
        "#Creating the dataframe of word and frequency\n",
        "df2 = pd.DataFrame(common_words, columns = ['complaints' , 'count'])\n",
        "\n",
        "#Group by words and plot the sum\n",
        "df2.groupby('complaints').sum()['count'].sort_values(ascending=False).iplot(\n",
        "    kind='bar', yTitle='Count', linecolor='black', title='Top 20 bigrams in complaints')"
      ],
      "id": "gmx7ka-rhtlx",
      "execution_count": null,
      "outputs": [
        {
          "name": "stdout",
          "output_type": "stream",
          "text": [
            "credit report 269366\n",
            "credit card 99999\n",
            "identity theft 80536\n",
            "credit reporting 79819\n",
            "credit bureaus 68628\n",
            "wells fargo 53117\n",
            "customer service 48269\n",
            "credit score 47634\n",
            "credit reports 40860\n",
            "bank america 39079\n",
            "account number 39041\n",
            "fair credit 36414\n",
            "collection agency 35002\n",
            "reporting agency 34040\n",
            "capital one 32844\n",
            "credit file 32542\n",
            "would like 32200\n",
            "reporting act 31862\n",
            "checking account 30464\n",
            "never received 29991\n"
          ]
        },
        {
          "data": {
            "application/vnd.plotly.v1+json": {
              "config": {
                "linkText": "Export to plot.ly",
                "plotlyServerURL": "https://plot.ly",
                "showLink": true
              },
              "data": [
                {
                  "marker": {
                    "color": "rgba(255, 153, 51, 0.6)",
                    "line": {
                      "color": "rgba(255, 153, 51, 1.0)",
                      "width": 1
                    }
                  },
                  "name": "count",
                  "orientation": "v",
                  "text": "",
                  "type": "bar",
                  "x": [
                    "credit report",
                    "credit card",
                    "identity theft",
                    "credit reporting",
                    "credit bureaus",
                    "wells fargo",
                    "customer service",
                    "credit score",
                    "credit reports",
                    "bank america",
                    "account number",
                    "fair credit",
                    "collection agency",
                    "reporting agency",
                    "capital one",
                    "credit file",
                    "would like",
                    "reporting act",
                    "checking account",
                    "never received"
                  ],
                  "y": [
                    269366,
                    99999,
                    80536,
                    79819,
                    68628,
                    53117,
                    48269,
                    47634,
                    40860,
                    39079,
                    39041,
                    36414,
                    35002,
                    34040,
                    32844,
                    32542,
                    32200,
                    31862,
                    30464,
                    29991
                  ]
                }
              ],
              "layout": {
                "legend": {
                  "bgcolor": "#F5F6F9",
                  "font": {
                    "color": "#4D5663"
                  }
                },
                "paper_bgcolor": "#F5F6F9",
                "plot_bgcolor": "#F5F6F9",
                "template": {
                  "data": {
                    "bar": [
                      {
                        "error_x": {
                          "color": "#2a3f5f"
                        },
                        "error_y": {
                          "color": "#2a3f5f"
                        },
                        "marker": {
                          "line": {
                            "color": "#E5ECF6",
                            "width": 0.5
                          }
                        },
                        "type": "bar"
                      }
                    ],
                    "barpolar": [
                      {
                        "marker": {
                          "line": {
                            "color": "#E5ECF6",
                            "width": 0.5
                          }
                        },
                        "type": "barpolar"
                      }
                    ],
                    "carpet": [
                      {
                        "aaxis": {
                          "endlinecolor": "#2a3f5f",
                          "gridcolor": "white",
                          "linecolor": "white",
                          "minorgridcolor": "white",
                          "startlinecolor": "#2a3f5f"
                        },
                        "baxis": {
                          "endlinecolor": "#2a3f5f",
                          "gridcolor": "white",
                          "linecolor": "white",
                          "minorgridcolor": "white",
                          "startlinecolor": "#2a3f5f"
                        },
                        "type": "carpet"
                      }
                    ],
                    "choropleth": [
                      {
                        "colorbar": {
                          "outlinewidth": 0,
                          "ticks": ""
                        },
                        "type": "choropleth"
                      }
                    ],
                    "contour": [
                      {
                        "colorbar": {
                          "outlinewidth": 0,
                          "ticks": ""
                        },
                        "colorscale": [
                          [
                            0,
                            "#0d0887"
                          ],
                          [
                            0.1111111111111111,
                            "#46039f"
                          ],
                          [
                            0.2222222222222222,
                            "#7201a8"
                          ],
                          [
                            0.3333333333333333,
                            "#9c179e"
                          ],
                          [
                            0.4444444444444444,
                            "#bd3786"
                          ],
                          [
                            0.5555555555555556,
                            "#d8576b"
                          ],
                          [
                            0.6666666666666666,
                            "#ed7953"
                          ],
                          [
                            0.7777777777777778,
                            "#fb9f3a"
                          ],
                          [
                            0.8888888888888888,
                            "#fdca26"
                          ],
                          [
                            1,
                            "#f0f921"
                          ]
                        ],
                        "type": "contour"
                      }
                    ],
                    "contourcarpet": [
                      {
                        "colorbar": {
                          "outlinewidth": 0,
                          "ticks": ""
                        },
                        "type": "contourcarpet"
                      }
                    ],
                    "heatmap": [
                      {
                        "colorbar": {
                          "outlinewidth": 0,
                          "ticks": ""
                        },
                        "colorscale": [
                          [
                            0,
                            "#0d0887"
                          ],
                          [
                            0.1111111111111111,
                            "#46039f"
                          ],
                          [
                            0.2222222222222222,
                            "#7201a8"
                          ],
                          [
                            0.3333333333333333,
                            "#9c179e"
                          ],
                          [
                            0.4444444444444444,
                            "#bd3786"
                          ],
                          [
                            0.5555555555555556,
                            "#d8576b"
                          ],
                          [
                            0.6666666666666666,
                            "#ed7953"
                          ],
                          [
                            0.7777777777777778,
                            "#fb9f3a"
                          ],
                          [
                            0.8888888888888888,
                            "#fdca26"
                          ],
                          [
                            1,
                            "#f0f921"
                          ]
                        ],
                        "type": "heatmap"
                      }
                    ],
                    "heatmapgl": [
                      {
                        "colorbar": {
                          "outlinewidth": 0,
                          "ticks": ""
                        },
                        "colorscale": [
                          [
                            0,
                            "#0d0887"
                          ],
                          [
                            0.1111111111111111,
                            "#46039f"
                          ],
                          [
                            0.2222222222222222,
                            "#7201a8"
                          ],
                          [
                            0.3333333333333333,
                            "#9c179e"
                          ],
                          [
                            0.4444444444444444,
                            "#bd3786"
                          ],
                          [
                            0.5555555555555556,
                            "#d8576b"
                          ],
                          [
                            0.6666666666666666,
                            "#ed7953"
                          ],
                          [
                            0.7777777777777778,
                            "#fb9f3a"
                          ],
                          [
                            0.8888888888888888,
                            "#fdca26"
                          ],
                          [
                            1,
                            "#f0f921"
                          ]
                        ],
                        "type": "heatmapgl"
                      }
                    ],
                    "histogram": [
                      {
                        "marker": {
                          "colorbar": {
                            "outlinewidth": 0,
                            "ticks": ""
                          }
                        },
                        "type": "histogram"
                      }
                    ],
                    "histogram2d": [
                      {
                        "colorbar": {
                          "outlinewidth": 0,
                          "ticks": ""
                        },
                        "colorscale": [
                          [
                            0,
                            "#0d0887"
                          ],
                          [
                            0.1111111111111111,
                            "#46039f"
                          ],
                          [
                            0.2222222222222222,
                            "#7201a8"
                          ],
                          [
                            0.3333333333333333,
                            "#9c179e"
                          ],
                          [
                            0.4444444444444444,
                            "#bd3786"
                          ],
                          [
                            0.5555555555555556,
                            "#d8576b"
                          ],
                          [
                            0.6666666666666666,
                            "#ed7953"
                          ],
                          [
                            0.7777777777777778,
                            "#fb9f3a"
                          ],
                          [
                            0.8888888888888888,
                            "#fdca26"
                          ],
                          [
                            1,
                            "#f0f921"
                          ]
                        ],
                        "type": "histogram2d"
                      }
                    ],
                    "histogram2dcontour": [
                      {
                        "colorbar": {
                          "outlinewidth": 0,
                          "ticks": ""
                        },
                        "colorscale": [
                          [
                            0,
                            "#0d0887"
                          ],
                          [
                            0.1111111111111111,
                            "#46039f"
                          ],
                          [
                            0.2222222222222222,
                            "#7201a8"
                          ],
                          [
                            0.3333333333333333,
                            "#9c179e"
                          ],
                          [
                            0.4444444444444444,
                            "#bd3786"
                          ],
                          [
                            0.5555555555555556,
                            "#d8576b"
                          ],
                          [
                            0.6666666666666666,
                            "#ed7953"
                          ],
                          [
                            0.7777777777777778,
                            "#fb9f3a"
                          ],
                          [
                            0.8888888888888888,
                            "#fdca26"
                          ],
                          [
                            1,
                            "#f0f921"
                          ]
                        ],
                        "type": "histogram2dcontour"
                      }
                    ],
                    "mesh3d": [
                      {
                        "colorbar": {
                          "outlinewidth": 0,
                          "ticks": ""
                        },
                        "type": "mesh3d"
                      }
                    ],
                    "parcoords": [
                      {
                        "line": {
                          "colorbar": {
                            "outlinewidth": 0,
                            "ticks": ""
                          }
                        },
                        "type": "parcoords"
                      }
                    ],
                    "pie": [
                      {
                        "automargin": true,
                        "type": "pie"
                      }
                    ],
                    "scatter": [
                      {
                        "marker": {
                          "colorbar": {
                            "outlinewidth": 0,
                            "ticks": ""
                          }
                        },
                        "type": "scatter"
                      }
                    ],
                    "scatter3d": [
                      {
                        "line": {
                          "colorbar": {
                            "outlinewidth": 0,
                            "ticks": ""
                          }
                        },
                        "marker": {
                          "colorbar": {
                            "outlinewidth": 0,
                            "ticks": ""
                          }
                        },
                        "type": "scatter3d"
                      }
                    ],
                    "scattercarpet": [
                      {
                        "marker": {
                          "colorbar": {
                            "outlinewidth": 0,
                            "ticks": ""
                          }
                        },
                        "type": "scattercarpet"
                      }
                    ],
                    "scattergeo": [
                      {
                        "marker": {
                          "colorbar": {
                            "outlinewidth": 0,
                            "ticks": ""
                          }
                        },
                        "type": "scattergeo"
                      }
                    ],
                    "scattergl": [
                      {
                        "marker": {
                          "colorbar": {
                            "outlinewidth": 0,
                            "ticks": ""
                          }
                        },
                        "type": "scattergl"
                      }
                    ],
                    "scattermapbox": [
                      {
                        "marker": {
                          "colorbar": {
                            "outlinewidth": 0,
                            "ticks": ""
                          }
                        },
                        "type": "scattermapbox"
                      }
                    ],
                    "scatterpolar": [
                      {
                        "marker": {
                          "colorbar": {
                            "outlinewidth": 0,
                            "ticks": ""
                          }
                        },
                        "type": "scatterpolar"
                      }
                    ],
                    "scatterpolargl": [
                      {
                        "marker": {
                          "colorbar": {
                            "outlinewidth": 0,
                            "ticks": ""
                          }
                        },
                        "type": "scatterpolargl"
                      }
                    ],
                    "scatterternary": [
                      {
                        "marker": {
                          "colorbar": {
                            "outlinewidth": 0,
                            "ticks": ""
                          }
                        },
                        "type": "scatterternary"
                      }
                    ],
                    "surface": [
                      {
                        "colorbar": {
                          "outlinewidth": 0,
                          "ticks": ""
                        },
                        "colorscale": [
                          [
                            0,
                            "#0d0887"
                          ],
                          [
                            0.1111111111111111,
                            "#46039f"
                          ],
                          [
                            0.2222222222222222,
                            "#7201a8"
                          ],
                          [
                            0.3333333333333333,
                            "#9c179e"
                          ],
                          [
                            0.4444444444444444,
                            "#bd3786"
                          ],
                          [
                            0.5555555555555556,
                            "#d8576b"
                          ],
                          [
                            0.6666666666666666,
                            "#ed7953"
                          ],
                          [
                            0.7777777777777778,
                            "#fb9f3a"
                          ],
                          [
                            0.8888888888888888,
                            "#fdca26"
                          ],
                          [
                            1,
                            "#f0f921"
                          ]
                        ],
                        "type": "surface"
                      }
                    ],
                    "table": [
                      {
                        "cells": {
                          "fill": {
                            "color": "#EBF0F8"
                          },
                          "line": {
                            "color": "white"
                          }
                        },
                        "header": {
                          "fill": {
                            "color": "#C8D4E3"
                          },
                          "line": {
                            "color": "white"
                          }
                        },
                        "type": "table"
                      }
                    ]
                  },
                  "layout": {
                    "annotationdefaults": {
                      "arrowcolor": "#2a3f5f",
                      "arrowhead": 0,
                      "arrowwidth": 1
                    },
                    "coloraxis": {
                      "colorbar": {
                        "outlinewidth": 0,
                        "ticks": ""
                      }
                    },
                    "colorscale": {
                      "diverging": [
                        [
                          0,
                          "#8e0152"
                        ],
                        [
                          0.1,
                          "#c51b7d"
                        ],
                        [
                          0.2,
                          "#de77ae"
                        ],
                        [
                          0.3,
                          "#f1b6da"
                        ],
                        [
                          0.4,
                          "#fde0ef"
                        ],
                        [
                          0.5,
                          "#f7f7f7"
                        ],
                        [
                          0.6,
                          "#e6f5d0"
                        ],
                        [
                          0.7,
                          "#b8e186"
                        ],
                        [
                          0.8,
                          "#7fbc41"
                        ],
                        [
                          0.9,
                          "#4d9221"
                        ],
                        [
                          1,
                          "#276419"
                        ]
                      ],
                      "sequential": [
                        [
                          0,
                          "#0d0887"
                        ],
                        [
                          0.1111111111111111,
                          "#46039f"
                        ],
                        [
                          0.2222222222222222,
                          "#7201a8"
                        ],
                        [
                          0.3333333333333333,
                          "#9c179e"
                        ],
                        [
                          0.4444444444444444,
                          "#bd3786"
                        ],
                        [
                          0.5555555555555556,
                          "#d8576b"
                        ],
                        [
                          0.6666666666666666,
                          "#ed7953"
                        ],
                        [
                          0.7777777777777778,
                          "#fb9f3a"
                        ],
                        [
                          0.8888888888888888,
                          "#fdca26"
                        ],
                        [
                          1,
                          "#f0f921"
                        ]
                      ],
                      "sequentialminus": [
                        [
                          0,
                          "#0d0887"
                        ],
                        [
                          0.1111111111111111,
                          "#46039f"
                        ],
                        [
                          0.2222222222222222,
                          "#7201a8"
                        ],
                        [
                          0.3333333333333333,
                          "#9c179e"
                        ],
                        [
                          0.4444444444444444,
                          "#bd3786"
                        ],
                        [
                          0.5555555555555556,
                          "#d8576b"
                        ],
                        [
                          0.6666666666666666,
                          "#ed7953"
                        ],
                        [
                          0.7777777777777778,
                          "#fb9f3a"
                        ],
                        [
                          0.8888888888888888,
                          "#fdca26"
                        ],
                        [
                          1,
                          "#f0f921"
                        ]
                      ]
                    },
                    "colorway": [
                      "#636efa",
                      "#EF553B",
                      "#00cc96",
                      "#ab63fa",
                      "#FFA15A",
                      "#19d3f3",
                      "#FF6692",
                      "#B6E880",
                      "#FF97FF",
                      "#FECB52"
                    ],
                    "font": {
                      "color": "#2a3f5f"
                    },
                    "geo": {
                      "bgcolor": "white",
                      "lakecolor": "white",
                      "landcolor": "#E5ECF6",
                      "showlakes": true,
                      "showland": true,
                      "subunitcolor": "white"
                    },
                    "hoverlabel": {
                      "align": "left"
                    },
                    "hovermode": "closest",
                    "mapbox": {
                      "style": "light"
                    },
                    "paper_bgcolor": "white",
                    "plot_bgcolor": "#E5ECF6",
                    "polar": {
                      "angularaxis": {
                        "gridcolor": "white",
                        "linecolor": "white",
                        "ticks": ""
                      },
                      "bgcolor": "#E5ECF6",
                      "radialaxis": {
                        "gridcolor": "white",
                        "linecolor": "white",
                        "ticks": ""
                      }
                    },
                    "scene": {
                      "xaxis": {
                        "backgroundcolor": "#E5ECF6",
                        "gridcolor": "white",
                        "gridwidth": 2,
                        "linecolor": "white",
                        "showbackground": true,
                        "ticks": "",
                        "zerolinecolor": "white"
                      },
                      "yaxis": {
                        "backgroundcolor": "#E5ECF6",
                        "gridcolor": "white",
                        "gridwidth": 2,
                        "linecolor": "white",
                        "showbackground": true,
                        "ticks": "",
                        "zerolinecolor": "white"
                      },
                      "zaxis": {
                        "backgroundcolor": "#E5ECF6",
                        "gridcolor": "white",
                        "gridwidth": 2,
                        "linecolor": "white",
                        "showbackground": true,
                        "ticks": "",
                        "zerolinecolor": "white"
                      }
                    },
                    "shapedefaults": {
                      "line": {
                        "color": "#2a3f5f"
                      }
                    },
                    "ternary": {
                      "aaxis": {
                        "gridcolor": "white",
                        "linecolor": "white",
                        "ticks": ""
                      },
                      "baxis": {
                        "gridcolor": "white",
                        "linecolor": "white",
                        "ticks": ""
                      },
                      "bgcolor": "#E5ECF6",
                      "caxis": {
                        "gridcolor": "white",
                        "linecolor": "white",
                        "ticks": ""
                      }
                    },
                    "title": {
                      "x": 0.05
                    },
                    "xaxis": {
                      "automargin": true,
                      "gridcolor": "white",
                      "linecolor": "white",
                      "ticks": "",
                      "title": {
                        "standoff": 15
                      },
                      "zerolinecolor": "white",
                      "zerolinewidth": 2
                    },
                    "yaxis": {
                      "automargin": true,
                      "gridcolor": "white",
                      "linecolor": "white",
                      "ticks": "",
                      "title": {
                        "standoff": 15
                      },
                      "zerolinecolor": "white",
                      "zerolinewidth": 2
                    }
                  }
                },
                "title": {
                  "font": {
                    "color": "#4D5663"
                  },
                  "text": "Top 20 bigrams in complaints"
                },
                "xaxis": {
                  "gridcolor": "#E1E5ED",
                  "linecolor": "black",
                  "showgrid": true,
                  "tickfont": {
                    "color": "#4D5663"
                  },
                  "title": {
                    "font": {
                      "color": "#4D5663"
                    },
                    "text": ""
                  },
                  "zerolinecolor": "#E1E5ED"
                },
                "yaxis": {
                  "gridcolor": "#E1E5ED",
                  "linecolor": "black",
                  "showgrid": true,
                  "tickfont": {
                    "color": "#4D5663"
                  },
                  "title": {
                    "font": {
                      "color": "#4D5663"
                    },
                    "text": "Count"
                  },
                  "zerolinecolor": "#E1E5ED"
                }
              }
            },
            "text/html": [
              "<div>\n",
              "        \n",
              "        \n",
              "            <div id=\"f08865fc-506e-4d2b-a806-961853dcba16\" class=\"plotly-graph-div\" style=\"height:525px; width:100%;\"></div>\n",
              "            <script type=\"text/javascript\">\n",
              "                require([\"plotly\"], function(Plotly) {\n",
              "                    window.PLOTLYENV=window.PLOTLYENV || {};\n",
              "                    window.PLOTLYENV.BASE_URL='https://plot.ly';\n",
              "                    \n",
              "                if (document.getElementById(\"f08865fc-506e-4d2b-a806-961853dcba16\")) {\n",
              "                    Plotly.newPlot(\n",
              "                        'f08865fc-506e-4d2b-a806-961853dcba16',\n",
              "                        [{\"marker\": {\"color\": \"rgba(255, 153, 51, 0.6)\", \"line\": {\"color\": \"rgba(255, 153, 51, 1.0)\", \"width\": 1}}, \"name\": \"count\", \"orientation\": \"v\", \"text\": \"\", \"type\": \"bar\", \"x\": [\"credit report\", \"credit card\", \"identity theft\", \"credit reporting\", \"credit bureaus\", \"wells fargo\", \"customer service\", \"credit score\", \"credit reports\", \"bank america\", \"account number\", \"fair credit\", \"collection agency\", \"reporting agency\", \"capital one\", \"credit file\", \"would like\", \"reporting act\", \"checking account\", \"never received\"], \"y\": [269366, 99999, 80536, 79819, 68628, 53117, 48269, 47634, 40860, 39079, 39041, 36414, 35002, 34040, 32844, 32542, 32200, 31862, 30464, 29991]}],\n",
              "                        {\"legend\": {\"bgcolor\": \"#F5F6F9\", \"font\": {\"color\": \"#4D5663\"}}, \"paper_bgcolor\": \"#F5F6F9\", \"plot_bgcolor\": \"#F5F6F9\", \"template\": {\"data\": {\"bar\": [{\"error_x\": {\"color\": \"#2a3f5f\"}, \"error_y\": {\"color\": \"#2a3f5f\"}, \"marker\": {\"line\": {\"color\": \"#E5ECF6\", \"width\": 0.5}}, \"type\": \"bar\"}], \"barpolar\": [{\"marker\": {\"line\": {\"color\": \"#E5ECF6\", \"width\": 0.5}}, \"type\": \"barpolar\"}], \"carpet\": [{\"aaxis\": {\"endlinecolor\": \"#2a3f5f\", \"gridcolor\": \"white\", \"linecolor\": \"white\", \"minorgridcolor\": \"white\", \"startlinecolor\": \"#2a3f5f\"}, \"baxis\": {\"endlinecolor\": \"#2a3f5f\", \"gridcolor\": \"white\", \"linecolor\": \"white\", \"minorgridcolor\": \"white\", \"startlinecolor\": \"#2a3f5f\"}, \"type\": \"carpet\"}], \"choropleth\": [{\"colorbar\": {\"outlinewidth\": 0, \"ticks\": \"\"}, \"type\": \"choropleth\"}], \"contour\": [{\"colorbar\": {\"outlinewidth\": 0, \"ticks\": \"\"}, \"colorscale\": [[0.0, \"#0d0887\"], [0.1111111111111111, \"#46039f\"], [0.2222222222222222, \"#7201a8\"], [0.3333333333333333, \"#9c179e\"], [0.4444444444444444, \"#bd3786\"], [0.5555555555555556, \"#d8576b\"], [0.6666666666666666, \"#ed7953\"], [0.7777777777777778, \"#fb9f3a\"], [0.8888888888888888, \"#fdca26\"], [1.0, \"#f0f921\"]], \"type\": \"contour\"}], \"contourcarpet\": [{\"colorbar\": {\"outlinewidth\": 0, \"ticks\": \"\"}, \"type\": \"contourcarpet\"}], \"heatmap\": [{\"colorbar\": {\"outlinewidth\": 0, \"ticks\": \"\"}, \"colorscale\": [[0.0, \"#0d0887\"], [0.1111111111111111, \"#46039f\"], [0.2222222222222222, \"#7201a8\"], [0.3333333333333333, \"#9c179e\"], [0.4444444444444444, \"#bd3786\"], [0.5555555555555556, \"#d8576b\"], [0.6666666666666666, \"#ed7953\"], [0.7777777777777778, \"#fb9f3a\"], [0.8888888888888888, \"#fdca26\"], [1.0, \"#f0f921\"]], \"type\": \"heatmap\"}], \"heatmapgl\": [{\"colorbar\": {\"outlinewidth\": 0, \"ticks\": \"\"}, \"colorscale\": [[0.0, \"#0d0887\"], [0.1111111111111111, \"#46039f\"], [0.2222222222222222, \"#7201a8\"], [0.3333333333333333, \"#9c179e\"], [0.4444444444444444, \"#bd3786\"], [0.5555555555555556, \"#d8576b\"], [0.6666666666666666, \"#ed7953\"], [0.7777777777777778, \"#fb9f3a\"], [0.8888888888888888, \"#fdca26\"], [1.0, \"#f0f921\"]], \"type\": \"heatmapgl\"}], \"histogram\": [{\"marker\": {\"colorbar\": {\"outlinewidth\": 0, \"ticks\": \"\"}}, \"type\": \"histogram\"}], \"histogram2d\": [{\"colorbar\": {\"outlinewidth\": 0, \"ticks\": \"\"}, \"colorscale\": [[0.0, \"#0d0887\"], [0.1111111111111111, \"#46039f\"], [0.2222222222222222, \"#7201a8\"], [0.3333333333333333, \"#9c179e\"], [0.4444444444444444, \"#bd3786\"], [0.5555555555555556, \"#d8576b\"], [0.6666666666666666, \"#ed7953\"], [0.7777777777777778, \"#fb9f3a\"], [0.8888888888888888, \"#fdca26\"], [1.0, \"#f0f921\"]], \"type\": \"histogram2d\"}], \"histogram2dcontour\": [{\"colorbar\": {\"outlinewidth\": 0, \"ticks\": \"\"}, \"colorscale\": [[0.0, \"#0d0887\"], [0.1111111111111111, \"#46039f\"], [0.2222222222222222, \"#7201a8\"], [0.3333333333333333, \"#9c179e\"], [0.4444444444444444, \"#bd3786\"], [0.5555555555555556, \"#d8576b\"], [0.6666666666666666, \"#ed7953\"], [0.7777777777777778, \"#fb9f3a\"], [0.8888888888888888, \"#fdca26\"], [1.0, \"#f0f921\"]], \"type\": \"histogram2dcontour\"}], \"mesh3d\": [{\"colorbar\": {\"outlinewidth\": 0, \"ticks\": \"\"}, \"type\": \"mesh3d\"}], \"parcoords\": [{\"line\": {\"colorbar\": {\"outlinewidth\": 0, \"ticks\": \"\"}}, \"type\": \"parcoords\"}], \"pie\": [{\"automargin\": true, \"type\": \"pie\"}], \"scatter\": [{\"marker\": {\"colorbar\": {\"outlinewidth\": 0, \"ticks\": \"\"}}, \"type\": \"scatter\"}], \"scatter3d\": [{\"line\": {\"colorbar\": {\"outlinewidth\": 0, \"ticks\": \"\"}}, \"marker\": {\"colorbar\": {\"outlinewidth\": 0, \"ticks\": \"\"}}, \"type\": \"scatter3d\"}], \"scattercarpet\": [{\"marker\": {\"colorbar\": {\"outlinewidth\": 0, \"ticks\": \"\"}}, \"type\": \"scattercarpet\"}], \"scattergeo\": [{\"marker\": {\"colorbar\": {\"outlinewidth\": 0, \"ticks\": \"\"}}, \"type\": \"scattergeo\"}], \"scattergl\": [{\"marker\": {\"colorbar\": {\"outlinewidth\": 0, \"ticks\": \"\"}}, \"type\": \"scattergl\"}], \"scattermapbox\": [{\"marker\": {\"colorbar\": {\"outlinewidth\": 0, \"ticks\": \"\"}}, \"type\": \"scattermapbox\"}], \"scatterpolar\": [{\"marker\": {\"colorbar\": {\"outlinewidth\": 0, \"ticks\": \"\"}}, \"type\": \"scatterpolar\"}], \"scatterpolargl\": [{\"marker\": {\"colorbar\": {\"outlinewidth\": 0, \"ticks\": \"\"}}, \"type\": \"scatterpolargl\"}], \"scatterternary\": [{\"marker\": {\"colorbar\": {\"outlinewidth\": 0, \"ticks\": \"\"}}, \"type\": \"scatterternary\"}], \"surface\": [{\"colorbar\": {\"outlinewidth\": 0, \"ticks\": \"\"}, \"colorscale\": [[0.0, \"#0d0887\"], [0.1111111111111111, \"#46039f\"], [0.2222222222222222, \"#7201a8\"], [0.3333333333333333, \"#9c179e\"], [0.4444444444444444, \"#bd3786\"], [0.5555555555555556, \"#d8576b\"], [0.6666666666666666, \"#ed7953\"], [0.7777777777777778, \"#fb9f3a\"], [0.8888888888888888, \"#fdca26\"], [1.0, \"#f0f921\"]], \"type\": \"surface\"}], \"table\": [{\"cells\": {\"fill\": {\"color\": \"#EBF0F8\"}, \"line\": {\"color\": \"white\"}}, \"header\": {\"fill\": {\"color\": \"#C8D4E3\"}, \"line\": {\"color\": \"white\"}}, \"type\": \"table\"}]}, \"layout\": {\"annotationdefaults\": {\"arrowcolor\": \"#2a3f5f\", \"arrowhead\": 0, \"arrowwidth\": 1}, \"coloraxis\": {\"colorbar\": {\"outlinewidth\": 0, \"ticks\": \"\"}}, \"colorscale\": {\"diverging\": [[0, \"#8e0152\"], [0.1, \"#c51b7d\"], [0.2, \"#de77ae\"], [0.3, \"#f1b6da\"], [0.4, \"#fde0ef\"], [0.5, \"#f7f7f7\"], [0.6, \"#e6f5d0\"], [0.7, \"#b8e186\"], [0.8, \"#7fbc41\"], [0.9, \"#4d9221\"], [1, \"#276419\"]], \"sequential\": [[0.0, \"#0d0887\"], [0.1111111111111111, \"#46039f\"], [0.2222222222222222, \"#7201a8\"], [0.3333333333333333, \"#9c179e\"], [0.4444444444444444, \"#bd3786\"], [0.5555555555555556, \"#d8576b\"], [0.6666666666666666, \"#ed7953\"], [0.7777777777777778, \"#fb9f3a\"], [0.8888888888888888, \"#fdca26\"], [1.0, \"#f0f921\"]], \"sequentialminus\": [[0.0, \"#0d0887\"], [0.1111111111111111, \"#46039f\"], [0.2222222222222222, \"#7201a8\"], [0.3333333333333333, \"#9c179e\"], [0.4444444444444444, \"#bd3786\"], [0.5555555555555556, \"#d8576b\"], [0.6666666666666666, \"#ed7953\"], [0.7777777777777778, \"#fb9f3a\"], [0.8888888888888888, \"#fdca26\"], [1.0, \"#f0f921\"]]}, \"colorway\": [\"#636efa\", \"#EF553B\", \"#00cc96\", \"#ab63fa\", \"#FFA15A\", \"#19d3f3\", \"#FF6692\", \"#B6E880\", \"#FF97FF\", \"#FECB52\"], \"font\": {\"color\": \"#2a3f5f\"}, \"geo\": {\"bgcolor\": \"white\", \"lakecolor\": \"white\", \"landcolor\": \"#E5ECF6\", \"showlakes\": true, \"showland\": true, \"subunitcolor\": \"white\"}, \"hoverlabel\": {\"align\": \"left\"}, \"hovermode\": \"closest\", \"mapbox\": {\"style\": \"light\"}, \"paper_bgcolor\": \"white\", \"plot_bgcolor\": \"#E5ECF6\", \"polar\": {\"angularaxis\": {\"gridcolor\": \"white\", \"linecolor\": \"white\", \"ticks\": \"\"}, \"bgcolor\": \"#E5ECF6\", \"radialaxis\": {\"gridcolor\": \"white\", \"linecolor\": \"white\", \"ticks\": \"\"}}, \"scene\": {\"xaxis\": {\"backgroundcolor\": \"#E5ECF6\", \"gridcolor\": \"white\", \"gridwidth\": 2, \"linecolor\": \"white\", \"showbackground\": true, \"ticks\": \"\", \"zerolinecolor\": \"white\"}, \"yaxis\": {\"backgroundcolor\": \"#E5ECF6\", \"gridcolor\": \"white\", \"gridwidth\": 2, \"linecolor\": \"white\", \"showbackground\": true, \"ticks\": \"\", \"zerolinecolor\": \"white\"}, \"zaxis\": {\"backgroundcolor\": \"#E5ECF6\", \"gridcolor\": \"white\", \"gridwidth\": 2, \"linecolor\": \"white\", \"showbackground\": true, \"ticks\": \"\", \"zerolinecolor\": \"white\"}}, \"shapedefaults\": {\"line\": {\"color\": \"#2a3f5f\"}}, \"ternary\": {\"aaxis\": {\"gridcolor\": \"white\", \"linecolor\": \"white\", \"ticks\": \"\"}, \"baxis\": {\"gridcolor\": \"white\", \"linecolor\": \"white\", \"ticks\": \"\"}, \"bgcolor\": \"#E5ECF6\", \"caxis\": {\"gridcolor\": \"white\", \"linecolor\": \"white\", \"ticks\": \"\"}}, \"title\": {\"x\": 0.05}, \"xaxis\": {\"automargin\": true, \"gridcolor\": \"white\", \"linecolor\": \"white\", \"ticks\": \"\", \"title\": {\"standoff\": 15}, \"zerolinecolor\": \"white\", \"zerolinewidth\": 2}, \"yaxis\": {\"automargin\": true, \"gridcolor\": \"white\", \"linecolor\": \"white\", \"ticks\": \"\", \"title\": {\"standoff\": 15}, \"zerolinecolor\": \"white\", \"zerolinewidth\": 2}}}, \"title\": {\"font\": {\"color\": \"#4D5663\"}, \"text\": \"Top 20 bigrams in complaints\"}, \"xaxis\": {\"gridcolor\": \"#E1E5ED\", \"linecolor\": \"black\", \"showgrid\": true, \"tickfont\": {\"color\": \"#4D5663\"}, \"title\": {\"font\": {\"color\": \"#4D5663\"}, \"text\": \"\"}, \"zerolinecolor\": \"#E1E5ED\"}, \"yaxis\": {\"gridcolor\": \"#E1E5ED\", \"linecolor\": \"black\", \"showgrid\": true, \"tickfont\": {\"color\": \"#4D5663\"}, \"title\": {\"font\": {\"color\": \"#4D5663\"}, \"text\": \"Count\"}, \"zerolinecolor\": \"#E1E5ED\"}},\n",
              "                        {\"showLink\": true, \"linkText\": \"Export to plot.ly\", \"plotlyServerURL\": \"https://plot.ly\", \"responsive\": true}\n",
              "                    ).then(function(){\n",
              "                            \n",
              "var gd = document.getElementById('f08865fc-506e-4d2b-a806-961853dcba16');\n",
              "var x = new MutationObserver(function (mutations, observer) {{\n",
              "        var display = window.getComputedStyle(gd).display;\n",
              "        if (!display || display === 'none') {{\n",
              "            console.log([gd, 'removed!']);\n",
              "            Plotly.purge(gd);\n",
              "            observer.disconnect();\n",
              "        }}\n",
              "}});\n",
              "\n",
              "// Listen for the removal of the full notebook cells\n",
              "var notebookContainer = gd.closest('#notebook-container');\n",
              "if (notebookContainer) {{\n",
              "    x.observe(notebookContainer, {childList: true});\n",
              "}}\n",
              "\n",
              "// Listen for the clearing of the current output cell\n",
              "var outputEl = gd.closest('.output');\n",
              "if (outputEl) {{\n",
              "    x.observe(outputEl, {childList: true});\n",
              "}}\n",
              "\n",
              "                        })\n",
              "                };\n",
              "                });\n",
              "            </script>\n",
              "        </div>"
            ]
          },
          "metadata": {},
          "output_type": "display_data"
        }
      ]
    },
    {
      "cell_type": "markdown",
      "metadata": {
        "id": "N5OdcQQYlPqp"
      },
      "source": [
        "##### Insights:\n",
        "- As I have thought the model will be biased considering the amount of credit reports, credits cards.\n",
        "- We can observe the identity theft as well. \n",
        "\n"
      ],
      "id": "N5OdcQQYlPqp"
    },
    {
      "cell_type": "code",
      "metadata": {
        "colab": {
          "base_uri": "https://localhost:8080/",
          "height": 1000
        },
        "id": "UYt4vz1vb62w",
        "outputId": "fed7b436-e79d-445b-fc1c-fc6fdb80d5ad"
      },
      "source": [
        "label=LabelEncoder()\n",
        "train_data['Product']=label.fit_transform(train_data['Product'])\n",
        "train_data.head(4)"
      ],
      "id": "UYt4vz1vb62w",
      "execution_count": null,
      "outputs": [
        {
          "data": {
            "text/html": [
              "<div>\n",
              "<style scoped>\n",
              "    .dataframe tbody tr th:only-of-type {\n",
              "        vertical-align: middle;\n",
              "    }\n",
              "\n",
              "    .dataframe tbody tr th {\n",
              "        vertical-align: top;\n",
              "    }\n",
              "\n",
              "    .dataframe thead th {\n",
              "        text-align: right;\n",
              "    }\n",
              "</style>\n",
              "<table border=\"1\" class=\"dataframe\">\n",
              "  <thead>\n",
              "    <tr style=\"text-align: right;\">\n",
              "      <th></th>\n",
              "      <th>Consumer complaint narrative</th>\n",
              "      <th>Product</th>\n",
              "      <th>clean_text</th>\n",
              "      <th>Stop_words_removed</th>\n",
              "      <th>polarity</th>\n",
              "      <th>review_len</th>\n",
              "      <th>word_count</th>\n",
              "    </tr>\n",
              "  </thead>\n",
              "  <tbody>\n",
              "    <tr>\n",
              "      <th>0</th>\n",
              "      <td>My complaint is against Bank of America. \\n\\nBank of America was making monthly automatic payments to XXXX   XXXX XXXX from my BOA checking account. In late XXXX, the XXXX XXXX XXXX was paid in full and the account closed. Inadvertently, Bank of America made one extra payment to XXXX   XXXX for {$2600.00} on XX/XX/2020, after the XXXX XXXX XXXX   account was closed. I contacted both XXXX XXXXXXXX and Bank of America as soon as I discovered the debit from my Bank of America account. Both institutions assured me that the overpayment would by credited back to my Bank of America account. \\n\\nAfter several weeks of not seeing the refund post, I initiated a case with Bank of America, first trying their telephone support and later through their messaging center. \\n\\nXXXX XXXXXXXX sent a letter to Bank of America on XX/XX/XXXX, stating, \" Enclosed please find check number XXXX dated XX/XX/2020 in the amount of {$2600.00} ... '' I am attaching the complete letter below. \\n\\nOn XX/XX/2020, I received a message from Bank of America stating, \" This credit will post to your account within 5 to 7 business days ... '' I am attaching the complete message below. \\n\\nAfter seven business days the credit still had not posted. \\n\\nOn XX/XX/2020, I received another message from Bank of America stating, \" This credit will post to your account within 5 to 7 business days ... '' I am attaching the complete message below. \\n\\nI am attaching all written correspondence I have had with XXXX XXXXXXXX and Bank of America. \\n\\nOn XX/XX/2020, I went to the Bank of America XXXX office at XXXX XXXX XXXX XXXX XXXX XXXX XXXX, MD XXXX. I spoke at great length with the branch manager, XXXX XXXX. He assured me that the matter would be rectified by XX/XX/2020. Mr. XXXX is not taking or returning my telephone calls at this time. \\n\\nIn addition, today I discovered that every message concerning this case in my Bank of America account online web page has been mysteriously deleted. Fortunately, I made copies before these disappeared.</td>\n",
              "      <td>1</td>\n",
              "      <td>my complaint is against bank of america bank of america was making monthly automatic payments to from my boa checking account in late the was paid in full and the account closed inadvertently bank of america made one extra payment to for on after the account was closed i contacted both and bank of america as soon as i discovered the debit from my bank of america account both institutions assured me that the overpayment would by credited back to my bank of america account after several weeks of not seeing the refund post i initiated a case with bank of america first trying their telephone support and later through their messaging center sent a letter to bank of america on stating enclosed please find check number dated in the amount of i am attaching the complete letter below on i received a message from bank of america stating this credit will post to your account within to business days i am attaching the complete message below after seven business days the credit still had not posted on i received another message from bank of america stating this credit will post to your account within to business days i am attaching the complete message below i am attaching all written correspondence i have had with and bank of america on i went to the bank of america office at md i spoke at great length with the branch manager he assured me that the matter would be rectified by mr is not taking or returning my telephone calls at this time in addition today i discovered that every message concerning this case in my bank of america account online web page has been mysteriously deleted fortunately i made copies before these disappeared</td>\n",
              "      <td>complaint bank america bank america making monthly automatic payments boa checking account late paid full account closed inadvertently bank america made one extra payment account closed contacted bank america soon discovered debit bank america account institutions assured overpayment would credited back bank america account several weeks seeing refund post initiated case bank america first trying telephone support later messaging center sent letter bank america stating enclosed please find check number dated amount attaching complete letter received message bank america stating credit post account within business days attaching complete message seven business days credit still posted received another message bank america stating credit post account within business days attaching complete message attaching written correspondence bank america went bank america office md spoke great length branch manager assured matter would rectified mr taking returning telephone calls time addition today discovered every message concerning case bank america account online web page mysteriously deleted fortunately made copies disappeared</td>\n",
              "      <td>0.070588</td>\n",
              "      <td>1136</td>\n",
              "      <td>154</td>\n",
              "    </tr>\n",
              "    <tr>\n",
              "      <th>1</th>\n",
              "      <td>Tax liens have been released.</td>\n",
              "      <td>4</td>\n",
              "      <td>tax liens have been released</td>\n",
              "      <td>tax liens released</td>\n",
              "      <td>0.000000</td>\n",
              "      <td>18</td>\n",
              "      <td>3</td>\n",
              "    </tr>\n",
              "    <tr>\n",
              "      <th>2</th>\n",
              "      <td>This has been an ongoing issue since 2018. My next step is to file a lawsuit against Experian. Experian is reporting a balance of {$12000.00} with a company called XXXX  XXXX XXXX. I received the official statement from the original creditor which is listing a balance on {$3500.00}. These two companies obviously can not have two completely different balances. I have sent multiple disputes that have came back inaccurately as verified.This is a violation of my consumer rights. you are alleging the negative claims still yet deficit of proof of truth, correctness, completeness, timeliness, and or else wise adequate COMPLIANCE to all laws and the Metro 2 data field formatted reporting standards, therefore lawfully you MUST ERADICATE any and all adverse remarks :</td>\n",
              "      <td>4</td>\n",
              "      <td>this has been an ongoing issue since my next step is to file a lawsuit against experian experian is reporting a balance of with a company called i received the official statement from the original creditor which is listing a balance on these two companies obviously can not have two completely different balances i have sent multiple disputes that have came back inaccurately as verified this is a violation of my consumer rights you are alleging the negative claims still yet deficit of proof of truth correctness completeness timeliness and or else wise adequate compliance to all laws and the metro data field formatted reporting standards therefore lawfully you must eradicate any and all adverse remarks</td>\n",
              "      <td>ongoing issue since next step file lawsuit experian experian reporting balance company called received official statement original creditor listing balance two companies obviously two completely different balances sent multiple disputes came back inaccurately verified violation consumer rights alleging negative claims still yet deficit proof truth correctness completeness timeliness else wise adequate compliance laws metro data field formatted reporting standards therefore lawfully must eradicate adverse remarks</td>\n",
              "      <td>0.110833</td>\n",
              "      <td>517</td>\n",
              "      <td>65</td>\n",
              "    </tr>\n",
              "    <tr>\n",
              "      <th>3</th>\n",
              "      <td>Received call on cell phone about a non-existent debt. Phone is registered on federal Do Not Call list. Message sounded like a scam. There was NO phone message other than a claimed debt which was NOT described. The number appears to be identified on XXXX XXXX XXXX AND XXXX as a SCAM. TSC is identified as the entity originating the call. NO documents have been received or referred to.</td>\n",
              "      <td>5</td>\n",
              "      <td>received call on cell phone about a non existent debt phone is registered on federal do not call list message sounded like a scam there was no phone message other than a claimed debt which was not described the number appears to be identified on and as a scam tsc is identified as the entity originating the call no documents have been received or referred to</td>\n",
              "      <td>received call cell phone non existent debt phone registered federal call list message sounded like scam phone message claimed debt described number appears identified scam tsc identified entity originating call documents received referred</td>\n",
              "      <td>0.000000</td>\n",
              "      <td>238</td>\n",
              "      <td>33</td>\n",
              "    </tr>\n",
              "  </tbody>\n",
              "</table>\n",
              "</div>"
            ],
            "text/plain": [
              "                                                                                                                                                                                                                                                                                                                                                                                                                                                                                                                                                                                                                                                                                                                                                                                                                                                                                                                                                                                                                                                                                                                                                                                                                                                                                                                                                                                                                                                                                                                                                                                                                                                                                                                                                                                                                                                                                                                                                                                                                                                                                Consumer complaint narrative  ...  word_count\n",
              "0  My complaint is against Bank of America. \\n\\nBank of America was making monthly automatic payments to XXXX   XXXX XXXX from my BOA checking account. In late XXXX, the XXXX XXXX XXXX was paid in full and the account closed. Inadvertently, Bank of America made one extra payment to XXXX   XXXX for {$2600.00} on XX/XX/2020, after the XXXX XXXX XXXX   account was closed. I contacted both XXXX XXXXXXXX and Bank of America as soon as I discovered the debit from my Bank of America account. Both institutions assured me that the overpayment would by credited back to my Bank of America account. \\n\\nAfter several weeks of not seeing the refund post, I initiated a case with Bank of America, first trying their telephone support and later through their messaging center. \\n\\nXXXX XXXXXXXX sent a letter to Bank of America on XX/XX/XXXX, stating, \" Enclosed please find check number XXXX dated XX/XX/2020 in the amount of {$2600.00} ... '' I am attaching the complete letter below. \\n\\nOn XX/XX/2020, I received a message from Bank of America stating, \" This credit will post to your account within 5 to 7 business days ... '' I am attaching the complete message below. \\n\\nAfter seven business days the credit still had not posted. \\n\\nOn XX/XX/2020, I received another message from Bank of America stating, \" This credit will post to your account within 5 to 7 business days ... '' I am attaching the complete message below. \\n\\nI am attaching all written correspondence I have had with XXXX XXXXXXXX and Bank of America. \\n\\nOn XX/XX/2020, I went to the Bank of America XXXX office at XXXX XXXX XXXX XXXX XXXX XXXX XXXX, MD XXXX. I spoke at great length with the branch manager, XXXX XXXX. He assured me that the matter would be rectified by XX/XX/2020. Mr. XXXX is not taking or returning my telephone calls at this time. \\n\\nIn addition, today I discovered that every message concerning this case in my Bank of America account online web page has been mysteriously deleted. Fortunately, I made copies before these disappeared.  ...  154       \n",
              "1  Tax liens have been released.                                                                                                                                                                                                                                                                                                                                                                                                                                                                                                                                                                                                                                                                                                                                                                                                                                                                                                                                                                                                                                                                                                                                                                                                                                                                                                                                                                                                                                                                                                                                                                                                                                                                                                                                                                                                                                                                                                                                                                                                                                                                              ...  3         \n",
              "2  This has been an ongoing issue since 2018. My next step is to file a lawsuit against Experian. Experian is reporting a balance of {$12000.00} with a company called XXXX  XXXX XXXX. I received the official statement from the original creditor which is listing a balance on {$3500.00}. These two companies obviously can not have two completely different balances. I have sent multiple disputes that have came back inaccurately as verified.This is a violation of my consumer rights. you are alleging the negative claims still yet deficit of proof of truth, correctness, completeness, timeliness, and or else wise adequate COMPLIANCE to all laws and the Metro 2 data field formatted reporting standards, therefore lawfully you MUST ERADICATE any and all adverse remarks :                                                                                                                                                                                                                                                                                                                                                                                                                                                                                                                                                                                                                                                                                                                                                                                                                                                                                                                                                                                                                                                                                                                                                                                                                                                                                                            ...  65        \n",
              "3  Received call on cell phone about a non-existent debt. Phone is registered on federal Do Not Call list. Message sounded like a scam. There was NO phone message other than a claimed debt which was NOT described. The number appears to be identified on XXXX XXXX XXXX AND XXXX as a SCAM. TSC is identified as the entity originating the call. NO documents have been received or referred to.                                                                                                                                                                                                                                                                                                                                                                                                                                                                                                                                                                                                                                                                                                                                                                                                                                                                                                                                                                                                                                                                                                                                                                                                                                                                                                                                                                                                                                                                                                                                                                                                                                                                                                         ...  33        \n",
              "\n",
              "[4 rows x 7 columns]"
            ]
          },
          "execution_count": 40,
          "metadata": {},
          "output_type": "execute_result"
        }
      ]
    },
    {
      "cell_type": "code",
      "metadata": {
        "id": "WA2ghLlNhgGe"
      },
      "source": [
        "vectorizer = TfidfVectorizer()\n",
        "x_train=vectorizer.fit_transform(train_data['Stop_words_removed'])"
      ],
      "id": "WA2ghLlNhgGe",
      "execution_count": null,
      "outputs": []
    },
    {
      "cell_type": "code",
      "metadata": {
        "id": "3uM4ypEdlGr7"
      },
      "source": [
        "y_train=train_data['Product']"
      ],
      "id": "3uM4ypEdlGr7",
      "execution_count": null,
      "outputs": []
    },
    {
      "cell_type": "code",
      "metadata": {
        "id": "Ud6y6UnKdOaX"
      },
      "source": [
        "lst_accu_stratified = []\n",
        "for train_index,test_index in cv.split(x_train,y_train):\n",
        "  x_train_fold, x_test_fold = x_train[train_index], x_train[test_index]\n",
        "  y_train_fold, y_test_fold = y_train[train_index], y_train[test_index]\n",
        "  nb.fit(x_train_fold, y_train_fold)\n",
        "  # LR.fit(x_train_fold, y_train_fold)\n",
        "  # RF.fit(x_train_fold, y_train_fold)\n",
        "  # KNN.fit(x_train_fold, y_train_fold)\n",
        "  # GB.fit(x_train_fold, y_train_fold)\n",
        "  lst_accu_stratified.append(nb.score(x_test_fold, y_test_fold))\n",
        "  "
      ],
      "id": "Ud6y6UnKdOaX",
      "execution_count": null,
      "outputs": []
    },
    {
      "cell_type": "markdown",
      "metadata": {
        "id": "fOKQyInemEsO"
      },
      "source": [
        "\n",
        "\n",
        "> The code for Logistic regression and other algorithms were commented as it is taking a lot of time to compute and also requires a lot of computational power to train the entire dataset.\n",
        "\n",
        "> As the Training is done, lets dive into testing:\n",
        "\n",
        "> The test dataset is the 25% of the total dataset that was provied and random sampled.\n",
        "\n"
      ],
      "id": "fOKQyInemEsO"
    },
    {
      "cell_type": "code",
      "metadata": {
        "colab": {
          "base_uri": "https://localhost:8080/",
          "height": 1000
        },
        "id": "-VhaqoUmraac",
        "outputId": "40af2918-5a0c-4f02-dffe-62ce01946e2d"
      },
      "source": [
        "test_data.head()"
      ],
      "id": "-VhaqoUmraac",
      "execution_count": null,
      "outputs": [
        {
          "data": {
            "text/html": [
              "<div>\n",
              "<style scoped>\n",
              "    .dataframe tbody tr th:only-of-type {\n",
              "        vertical-align: middle;\n",
              "    }\n",
              "\n",
              "    .dataframe tbody tr th {\n",
              "        vertical-align: top;\n",
              "    }\n",
              "\n",
              "    .dataframe thead th {\n",
              "        text-align: right;\n",
              "    }\n",
              "</style>\n",
              "<table border=\"1\" class=\"dataframe\">\n",
              "  <thead>\n",
              "    <tr style=\"text-align: right;\">\n",
              "      <th></th>\n",
              "      <th>Date received</th>\n",
              "      <th>Product</th>\n",
              "      <th>Sub-product</th>\n",
              "      <th>Issue</th>\n",
              "      <th>Sub-issue</th>\n",
              "      <th>Consumer complaint narrative</th>\n",
              "      <th>Company public response</th>\n",
              "      <th>Company</th>\n",
              "      <th>State</th>\n",
              "      <th>ZIP code</th>\n",
              "      <th>Tags</th>\n",
              "      <th>Consumer consent provided?</th>\n",
              "      <th>Submitted via</th>\n",
              "      <th>Date sent to company</th>\n",
              "      <th>Company response to consumer</th>\n",
              "      <th>Timely response?</th>\n",
              "      <th>Consumer disputed?</th>\n",
              "      <th>Complaint ID</th>\n",
              "    </tr>\n",
              "  </thead>\n",
              "  <tbody>\n",
              "    <tr>\n",
              "      <th>1102593</th>\n",
              "      <td>2020-01-14</td>\n",
              "      <td>Mortgage</td>\n",
              "      <td>Conventional home mortgage</td>\n",
              "      <td>Trouble during payment process</td>\n",
              "      <td>NaN</td>\n",
              "      <td>My name is XXXX XXXX. I have a mortgage with Union Mortgage and my taxes went up 3x. We are struggling to make the payments. I have asked the mortgage company to spread the shortage more than 2 years. Right now it is still almost XXXX more a month than what we were paying. I need help!!!! I know mortgage companies can spread the shortgages longer than 2 years. Its just their preference to do it for 2 not to hold it on their books. XXXX does not have a 2 year limit. \\n\\nXXXX XXXX</td>\n",
              "      <td>NaN</td>\n",
              "      <td>Union Home Mortgage Corp</td>\n",
              "      <td>IL</td>\n",
              "      <td>600XX</td>\n",
              "      <td>NaN</td>\n",
              "      <td>Consent provided</td>\n",
              "      <td>Web</td>\n",
              "      <td>2020-01-21</td>\n",
              "      <td>Closed with explanation</td>\n",
              "      <td>Yes</td>\n",
              "      <td>NaN</td>\n",
              "      <td>3495390</td>\n",
              "    </tr>\n",
              "    <tr>\n",
              "      <th>722449</th>\n",
              "      <td>2020-10-28</td>\n",
              "      <td>Credit reporting, credit repair services, or other personal consumer reports</td>\n",
              "      <td>Credit reporting</td>\n",
              "      <td>Incorrect information on your report</td>\n",
              "      <td>Information belongs to someone else</td>\n",
              "      <td>SOMEONE STOLE MY ID AND SOCIAL ALONG WITH OTHER PERSONAL INFORMATION TO OPEN UP ACCOUNTS IN MY NAME FRAUDULENTLY. I HAVE ENCLOSED MY POLICE REPORT AND ID THEFT REPORT.</td>\n",
              "      <td>NaN</td>\n",
              "      <td>GOLDMAN SACHS BANK USA</td>\n",
              "      <td>TX</td>\n",
              "      <td>770XX</td>\n",
              "      <td>NaN</td>\n",
              "      <td>Consent provided</td>\n",
              "      <td>Web</td>\n",
              "      <td>2020-10-28</td>\n",
              "      <td>Closed with non-monetary relief</td>\n",
              "      <td>Yes</td>\n",
              "      <td>NaN</td>\n",
              "      <td>3923390</td>\n",
              "    </tr>\n",
              "    <tr>\n",
              "      <th>1849908</th>\n",
              "      <td>2017-02-21</td>\n",
              "      <td>Debt collection</td>\n",
              "      <td>Mortgage</td>\n",
              "      <td>False statements or representation</td>\n",
              "      <td>Indicated shouldn't respond to lawsuit</td>\n",
              "      <td>Chase had my Mortgage loan I got behind on my loan JP Morgan started foreclosure proceedings at the same time I also received papers stating I had a new servicer. I began working a modification with the new servicer while I was doing that Chase was still moving forward with the foreclosure I contacted Chase again they claimed they were not moving forward with the foreclosure yet all the legal papers clearly state JP MORGAN CHASE. I contacted the new servicer asked them they inquired whose name was on the legal documents and said that it was not them it was whomever was on the legal papers. I have letters from JP Morgan Chase stating they withdrew the foreclosure I have letters stating that they have no interest in my home yet they still move forward with the foreclosure So I dont even know who I am supposed to be working out the modification with because as I do Chase is still foreclosing I missed conferences because they told me to disregard any notices i received with JP Morgan Chase on them because they were not moving forward with anything. I HAVE TO APPEAR ON XX/XX/XXXX 2017 AGAIN TO STOP THE SALE OF MY HOME THIS HAS BEEN A NIGHTMARE AND CHASE THE ATTORNEYS COULD CARE LESS</td>\n",
              "      <td>NaN</td>\n",
              "      <td>JPMORGAN CHASE &amp; CO.</td>\n",
              "      <td>NY</td>\n",
              "      <td>126XX</td>\n",
              "      <td>NaN</td>\n",
              "      <td>Consent provided</td>\n",
              "      <td>Web</td>\n",
              "      <td>2017-02-21</td>\n",
              "      <td>Closed with explanation</td>\n",
              "      <td>Yes</td>\n",
              "      <td>No</td>\n",
              "      <td>2353078</td>\n",
              "    </tr>\n",
              "    <tr>\n",
              "      <th>2028646</th>\n",
              "      <td>2018-03-22</td>\n",
              "      <td>Credit card or prepaid card</td>\n",
              "      <td>General-purpose credit card or charge card</td>\n",
              "      <td>Problem when making payments</td>\n",
              "      <td>Problem during payment process</td>\n",
              "      <td>I am writing presently in wish to receive your help. At the present time I am working on examining my credit, paying down my balances, and pursuing greater credit worthiness. You play a significant part in this procedure. I am asking about the account number referenced in this complaint. I see you have reported me 30 days to the credit agency ( XXXX, XXXX  and XXXX ) on XX/XX/XXXX and XX/XX/XXXX and I am submitting this in order to have this remark pulled back. I had believe I had made all my payments on time, the only thing I could possibly imagine, is that my statement didn't get to me in time.</td>\n",
              "      <td>NaN</td>\n",
              "      <td>CAPITAL ONE FINANCIAL CORPORATION</td>\n",
              "      <td>NY</td>\n",
              "      <td>103XX</td>\n",
              "      <td>NaN</td>\n",
              "      <td>Consent provided</td>\n",
              "      <td>Web</td>\n",
              "      <td>2018-03-22</td>\n",
              "      <td>Closed with non-monetary relief</td>\n",
              "      <td>Yes</td>\n",
              "      <td>NaN</td>\n",
              "      <td>2852301</td>\n",
              "    </tr>\n",
              "    <tr>\n",
              "      <th>1524771</th>\n",
              "      <td>2017-12-26</td>\n",
              "      <td>Money transfer, virtual currency, or money service</td>\n",
              "      <td>Domestic (US) money transfer</td>\n",
              "      <td>Money was not available when promised</td>\n",
              "      <td>NaN</td>\n",
              "      <td>The Department of Veterans Affairs, and/or one of their agents stole my XXXX XXXX compensation check. I noticed on XX/XX/XXXX I did not receive the check. I call their XXXX number to find out where it was. The agent said it went to the wrong bank. I waited a few days and called back. They said the second time I called that it was returned ( on XX/XX/XXXX ) I asked when I would receive the check they did n't seem to know the status. So I again I waited and called again. The third time I called they made up a story about some alleged debt, and were n't sure what happened to the check. In the past, they have always mailed a check if it was returned, but this time the check seemed to be returned and then it disappeared out of thin air. I believe either the agent or agency has committed fraud. It has been 22 days since the check was returned to them and they still have not mailed it out to me. I have all of the documentation stating it was deposited, returned, and as of right now they are not showing any status of a payment for the month of XXXX. I believe they may have stole my identity with my social security number and birthday, and name. The amount of the lost check was {$830.00}.</td>\n",
              "      <td>NaN</td>\n",
              "      <td>Veterans Relief Services LLC</td>\n",
              "      <td>GA</td>\n",
              "      <td>31402</td>\n",
              "      <td>Servicemember</td>\n",
              "      <td>Consent provided</td>\n",
              "      <td>Web</td>\n",
              "      <td>2017-12-26</td>\n",
              "      <td>Untimely response</td>\n",
              "      <td>No</td>\n",
              "      <td>NaN</td>\n",
              "      <td>2764530</td>\n",
              "    </tr>\n",
              "  </tbody>\n",
              "</table>\n",
              "</div>"
            ],
            "text/plain": [
              "        Date received  ... Complaint ID\n",
              "1102593  2020-01-14    ...  3495390    \n",
              "722449   2020-10-28    ...  3923390    \n",
              "1849908  2017-02-21    ...  2353078    \n",
              "2028646  2018-03-22    ...  2852301    \n",
              "1524771  2017-12-26    ...  2764530    \n",
              "\n",
              "[5 rows x 18 columns]"
            ]
          },
          "execution_count": 44,
          "metadata": {},
          "output_type": "execute_result"
        }
      ]
    },
    {
      "cell_type": "code",
      "metadata": {
        "id": "ItCaEjImsWZi"
      },
      "source": [
        "test_data = test_data[['Consumer complaint narrative','Product']]\n"
      ],
      "id": "ItCaEjImsWZi",
      "execution_count": null,
      "outputs": []
    },
    {
      "cell_type": "code",
      "metadata": {
        "id": "o8o7h9mzsZ_5"
      },
      "source": [
        "test_data['Product'] = test_data['Product'].replace('Credit reporting','Credit reporting, credit repair services, or other personal consumer reports')\n",
        "test_data['Product'] = test_data['Product'].replace('Virtual currency','Money transfer, virtual currency, or money service')\n",
        "test_data['Product'] = test_data['Product'].replace('Prepaid card','Credit card or prepaid card')\n",
        "test_data['Product'] = test_data['Product'].replace('Money transfers','Money transfer, virtual currency, or money service')\n",
        "test_data['Product'] = test_data['Product'].replace('Credit card','Credit card or prepaid card')\n",
        "test_data['Product'] = test_data['Product'].replace('Payday loan','Payday loan, title loan, or personal loan')\n"
      ],
      "id": "o8o7h9mzsZ_5",
      "execution_count": null,
      "outputs": []
    },
    {
      "cell_type": "code",
      "metadata": {
        "colab": {
          "base_uri": "https://localhost:8080/"
        },
        "id": "X1GeJZcGtPUq",
        "outputId": "7289e01b-94b2-4283-d482-2bed4e0a6aed"
      },
      "source": [
        "test_data['Product'].value_counts()"
      ],
      "id": "X1GeJZcGtPUq",
      "execution_count": null,
      "outputs": [
        {
          "data": {
            "text/plain": [
              "Credit reporting, credit repair services, or other personal consumer reports    86689\n",
              "Debt collection                                                                 39297\n",
              "Mortgage                                                                        21115\n",
              "Credit card or prepaid card                                                     20126\n",
              "Checking or savings account                                                     9300 \n",
              "Student loan                                                                    7144 \n",
              "Money transfer, virtual currency, or money service                              4900 \n",
              "Bank account or service                                                         3721 \n",
              "Vehicle loan or lease                                                           3706 \n",
              "Payday loan, title loan, or personal loan                                       3046 \n",
              "Consumer Loan                                                                   2288 \n",
              "Other financial service                                                         72   \n",
              "Name: Product, dtype: int64"
            ]
          },
          "execution_count": 47,
          "metadata": {},
          "output_type": "execute_result"
        }
      ]
    },
    {
      "cell_type": "code",
      "metadata": {
        "id": "NZL7pgmYtiMf"
      },
      "source": [
        "test_data['clean_text'] = list(map(lambda x:text_cleaner(x),test_data['Consumer complaint narrative']))"
      ],
      "id": "NZL7pgmYtiMf",
      "execution_count": null,
      "outputs": []
    },
    {
      "cell_type": "code",
      "metadata": {
        "id": "2pltxL-tw8Dj"
      },
      "source": [
        "test_data['Stop_words_removed'] = test_data['clean_text'].apply(lambda x: ' '.join([word for word in x.split() if word not in (stop_words)]))\n"
      ],
      "id": "2pltxL-tw8Dj",
      "execution_count": null,
      "outputs": []
    },
    {
      "cell_type": "code",
      "metadata": {
        "colab": {
          "background_save": true
        },
        "id": "ZpD5sXTrymK6"
      },
      "source": [
        "x_test=vectorizer.transform(test_data['Stop_words_removed'])"
      ],
      "id": "ZpD5sXTrymK6",
      "execution_count": null,
      "outputs": []
    },
    {
      "cell_type": "code",
      "metadata": {
        "colab": {
          "background_save": true
        },
        "id": "Utk-6hXyzH_n"
      },
      "source": [
        "y_test = test_data['Product']"
      ],
      "id": "Utk-6hXyzH_n",
      "execution_count": null,
      "outputs": []
    },
    {
      "cell_type": "code",
      "metadata": {
        "colab": {
          "background_save": true
        },
        "id": "SDuV8EqH2NA4",
        "outputId": "00e5577b-2b27-4285-9b94-6ce1163a36b9"
      },
      "source": [
        "y_predicted = nb.predict(x_test_fold)\n",
        "print(metrics.confusion_matrix(y_test_fold, y_predicted))\n",
        "print(metrics.classification_report(y_test_fold, y_predicted))\n",
        "print(sum(-1 == y_test_fold) / float(len(y_test_fold)))\n",
        "print(sum(y_predicted == y_test_fold) / float(len(y_test_fold)))\n",
        "\n",
        "print('List of possible accuracy:', lst_accu_stratified)\n",
        "# print('\\nMaximum Accuracy That can be obtained from this model is:', max(lst_accu_stratified)*100, '%')\n",
        "# print('\\nMinimum Accuracy:',min(lst_accu_stratified)*100, '%')\n",
        "# print('\\nOverall Accuracy:',mean(lst_accu_stratified)*100, '%')\n",
        "# print('\\nStandard Deviation is:', std(lst_accu_stratified))\n"
      ],
      "id": "SDuV8EqH2NA4",
      "execution_count": null,
      "outputs": [
        {
          "name": "stdout",
          "output_type": "stream",
          "text": [
            "[[    5   192     0   349   100    29     1    66     0     0     0     0]\n",
            " [    0   613     0   752   345    61     5    84     0     0     0     0]\n",
            " [    0     0     0    35   246    98     0    86     0     0     1     6]\n",
            " [    0    18     2  2865   991   111     0    37     0     0     0     0]\n",
            " [    0     5     1   205 16229   680     0   151     0     1    22     0]\n",
            " [    0     3     1   137  2188  5368     1   144     0     1    15     1]\n",
            " [    0   115     0   418   112    82   225    49     0     0     2     0]\n",
            " [    0     2     0    43   276    73     0  3823     0     0     0     0]\n",
            " [    0     0     0     4     1     5     0     4     0     0     1     0]\n",
            " [    0    10     0    80   161   193     0   156     0     0     3     0]\n",
            " [    0     1     0    13   418   161     0   153     0     1   698     0]\n",
            " [    0     2     0    41   484   101     0   100     0     0     0    18]]\n",
            "              precision    recall  f1-score   support\n",
            "\n",
            "           0       1.00      0.01      0.01       742\n",
            "           1       0.64      0.33      0.43      1860\n",
            "           2       0.00      0.00      0.00       472\n",
            "           3       0.58      0.71      0.64      4024\n",
            "           4       0.75      0.94      0.84     17294\n",
            "           5       0.77      0.68      0.72      7859\n",
            "           6       0.97      0.22      0.36      1003\n",
            "           7       0.79      0.91      0.84      4217\n",
            "           8       0.00      0.00      0.00        15\n",
            "           9       0.00      0.00      0.00       603\n",
            "          10       0.94      0.48      0.64      1445\n",
            "          11       0.72      0.02      0.05       746\n",
            "\n",
            "    accuracy                           0.74     40280\n",
            "   macro avg       0.60      0.36      0.38     40280\n",
            "weighted avg       0.73      0.74      0.71     40280\n",
            "\n",
            "0.0\n",
            "0.7409136047666336\n",
            "List of possible accuracy: [0.7387353839279065, 0.7467788783793848, 0.7412924207442715, 0.740771083140935, 0.7424343983515802, 0.7408952111417294, 0.7432039919565055, 0.739902187135374, 0.7410689903428416, 0.7431543407561878, 0.7430238331678253, 0.7396226415094339, 0.739995034756703, 0.7387785501489573, 0.7409136047666336]\n"
          ]
        }
      ]
    },
    {
      "cell_type": "markdown",
      "metadata": {
        "id": "ZO_is6wcxfiR"
      },
      "source": [
        "Precision is the ratio of correctly predicted  observations to the total predicted  observations and High precision relates to the low false positive rate."
      ],
      "id": "ZO_is6wcxfiR"
    },
    {
      "cell_type": "markdown",
      "metadata": {
        "id": "hNurloNio-lK"
      },
      "source": [
        "### Confusion Matrix:"
      ],
      "id": "hNurloNio-lK"
    },
    {
      "cell_type": "code",
      "metadata": {
        "colab": {
          "background_save": true
        },
        "id": "1AUHUxaQo9xs"
      },
      "source": [
        "def plot_confusion_matrix(cm,classes,normalize=False,title='confusion matrix',cmap=plt.cm.Blues):\n",
        "    plt.imshow(cm,interpolation='nearest',cmap=cmap)\n",
        "    plt.title(title)\n",
        "    plt.colorbar()\n",
        "    tick_marks=np.arange(len(classes))\n",
        "    plt.xticks(tick_marks,classes,rotation=45)\n",
        "    plt.yticks(tick_marks,classes)\n",
        "    \n",
        "    if normalize:\n",
        "        cm-cm.assettype('float')/cm.sum(axis=1)[:,np.newaxis]\n",
        "        print(\"Normalized confusion matrix\")\n",
        "    else:\n",
        "        print(\"confusion matrix, without normalization\")\n",
        "    thresh=cm.max()/2\n",
        "    for i,j in itertools.product(range(cm.shape[0]),range(cm.shape[1])):\n",
        "        plt.text(j,i,cm[i,j],\n",
        "                horizontalalignment=\"center\",\n",
        "                color=\"white\" if cm[i,j] > thresh else \"black\")\n",
        "        \n",
        "    plt.tight_layout()\n",
        "    plt.ylabel('True Label')\n",
        "    plt.xlabel('Predicted Label')\n",
        "\n"
      ],
      "id": "1AUHUxaQo9xs",
      "execution_count": null,
      "outputs": []
    },
    {
      "cell_type": "code",
      "metadata": {
        "colab": {
          "background_save": true
        },
        "id": "wfhB36xApFDX",
        "outputId": "9bb34bed-c681-44d8-f3db-aa4232aa6496"
      },
      "source": [
        "font = {'family' : 'normal',\n",
        "        'weight' : 'bold',\n",
        "        'size'   : 22}\n",
        "\n",
        "plt.rc('font', **font)\n",
        "cm = metrics.confusion_matrix(y_test_fold, y_predicted)\n",
        "plt.figure(figsize=(30,45))\n",
        "plot_confusion_matrix(cm, classes=['Credit reporting, credit repair services, or other personal consumer reports ','Debt collection','Mortgage ','Credit card or prepaid card','Checking or savings account','Student loan','Money transfer, virtual currency, or money service','Vehicle loan or lease','Bank account or service','Payday loan, title loan, or personal loan','Consumer Loan','Other financial service'])"
      ],
      "id": "wfhB36xApFDX",
      "execution_count": null,
      "outputs": [
        {
          "name": "stderr",
          "output_type": "stream",
          "text": [
            "findfont: Font family ['normal'] not found. Falling back to DejaVu Sans.\n",
            "findfont: Font family ['normal'] not found. Falling back to DejaVu Sans.\n"
          ]
        },
        {
          "name": "stdout",
          "output_type": "stream",
          "text": [
            "confusion matrix, without normalization\n"
          ]
        },
        {
          "name": "stderr",
          "output_type": "stream",
          "text": [
            "findfont: Font family ['normal'] not found. Falling back to DejaVu Sans.\n"
          ]
        },
        {
          "data": {
            "image/png": "[encoded data removed]",
            "text/plain": [
              "<Figure size 2160x3240 with 2 Axes>"
            ]
          },
          "metadata": {},
          "output_type": "display_data"
        }
      ]
    },
    {
      "cell_type": "code",
      "metadata": {
        "colab": {
          "background_save": true
        },
        "id": "tmyQusznYSVz",
        "outputId": "49b2aa97-dbca-46eb-a7e5-a07dc529c374"
      },
      "source": [
        "print('Micro Precision: {:.2f}'.format(precision_score(y_test_fold, y_predicted, average='micro')))\n",
        "print('Micro Recall: {:.2f}'.format(recall_score(y_test_fold, y_predicted, average='micro')))\n",
        "print('Micro F1-score: {:.2f}\\n'.format(f1_score(y_test_fold, y_predicted, average='micro')))\n",
        "\n",
        "print('Macro Precision: {:.2f}'.format(precision_score(y_test_fold, y_predicted, average='macro')))\n",
        "print('Macro Recall: {:.2f}'.format(recall_score(y_test_fold, y_predicted, average='macro')))\n",
        "print('Macro F1-score: {:.2f}\\n'.format(f1_score(y_test_fold, y_predicted, average='macro')))\n",
        "\n",
        "print('Weighted Precision: {:.2f}'.format(precision_score(y_test_fold, y_predicted, average='weighted')))\n",
        "print('Weighted Recall: {:.2f}'.format(recall_score(y_test_fold, y_predicted, average='weighted')))\n",
        "print('Weighted F1-score: {:.2f}'.format(f1_score(y_test_fold, y_predicted, average='weighted')))"
      ],
      "id": "tmyQusznYSVz",
      "execution_count": null,
      "outputs": [
        {
          "name": "stdout",
          "output_type": "stream",
          "text": [
            "Micro Precision: 0.74\n",
            "Micro Recall: 0.74\n",
            "Micro F1-score: 0.74\n",
            "\n",
            "Macro Precision: 0.60\n",
            "Macro Recall: 0.36\n",
            "Macro F1-score: 0.38\n",
            "\n",
            "Weighted Precision: 0.73\n",
            "Weighted Recall: 0.74\n",
            "Weighted F1-score: 0.71\n"
          ]
        }
      ]
    },
    {
      "cell_type": "markdown",
      "metadata": {
        "id": "lcCbsE7_wnI0"
      },
      "source": [
        "- The model is providing good Accuracy with all the metrics.\n",
        "\n",
        "\n",
        "- Micro Average Precision is the sum of all true positives and divides by the sum of all true positives plus the sum of all false positives. So basically you divide the number of correctly identified predictions by the total number of predictions.\n",
        "\n",
        "- Macro-precision measures the average precision per class. It’s short for macro-averaged precision.\n",
        "\n",
        "- Micro-recall measures the recall of the aggregated contributions of all classes. \n",
        "\n",
        "- It's short for micro-averaged recall. Micro-recall = 1 means the model's predictions are perfect, all truly positive samples was predicted as the positive class."
      ],
      "id": "lcCbsE7_wnI0"
    },
    {
      "cell_type": "markdown",
      "metadata": {
        "id": "AD9RMyl40Z6N"
      },
      "source": [
        "### Model Deployement:"
      ],
      "id": "AD9RMyl40Z6N"
    },
    {
      "cell_type": "code",
      "metadata": {
        "colab": {
          "background_save": true
        },
        "id": "EX1ohsIqq2sM"
      },
      "source": [
        "model = pickle.dump(nb,open('complaints.pkl','wb'))"
      ],
      "id": "EX1ohsIqq2sM",
      "execution_count": null,
      "outputs": []
    },
    {
      "cell_type": "code",
      "metadata": {
        "colab": {
          "background_save": true
        },
        "id": "ncTBvCJt0zxf"
      },
      "source": [
        "load_model = pickle.load(open('complaints.pkl', 'rb'))"
      ],
      "id": "ncTBvCJt0zxf",
      "execution_count": null,
      "outputs": []
    },
    {
      "cell_type": "code",
      "metadata": {
        "colab": {
          "background_save": true
        },
        "id": "xP8u6VeZ08MD",
        "outputId": "7f7382da-c87c-42ee-bcf8-fe7e1b0a39e9"
      },
      "source": [
        "load_model"
      ],
      "id": "xP8u6VeZ08MD",
      "execution_count": null,
      "outputs": [
        {
          "data": {
            "text/plain": [
              "MultinomialNB(alpha=1.0, class_prior=None, fit_prior=True)"
            ]
          },
          "execution_count": null,
          "metadata": {},
          "output_type": "execute_result"
        }
      ]
    }
  ]
}